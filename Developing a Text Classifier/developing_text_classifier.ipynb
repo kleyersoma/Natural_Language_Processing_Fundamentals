{
 "cells": [
  {
   "cell_type": "markdown",
   "metadata": {},
   "source": [
    "<h1>Developing a Text Classifier</h1>"
   ]
  },
  {
   "cell_type": "markdown",
   "metadata": {},
   "source": [
    "<h2>Exercise 1: Hierarchical Clustering</h2>\n",
    "<br>\n",
    "Create four clusters from text documents of sklearn's “The 20 newsgroups text dataset” using hierarchical clustering. Compare it with their actual categories."
   ]
  },
  {
   "cell_type": "code",
   "execution_count": 1,
   "metadata": {},
   "outputs": [],
   "source": [
    "from sklearn.datasets import fetch_20newsgroups\n",
    "from scipy.cluster.hierarchy import ward, dendrogram\n",
    "import matplotlib as mpl\n",
    "from scipy.cluster.hierarchy import fcluster\n",
    "from sklearn.metrics.pairwise import cosine_similarity\n",
    "import pandas as pd\n",
    "import numpy as np\n",
    "import matplotlib.pyplot as plt\n",
    "%matplotlib inline\n",
    "import re\n",
    "import string\n",
    "from nltk import word_tokenize\n",
    "from nltk.corpus import stopwords\n",
    "from nltk.stem import WordNetLemmatizer\n",
    "from sklearn.feature_extraction.text import TfidfVectorizer\n",
    "from collections import Counter\n",
    "from pylab import *\n",
    "import nltk\n",
    "import warnings\n",
    "warnings.filterwarnings('ignore')"
   ]
  },
  {
   "cell_type": "markdown",
   "metadata": {},
   "source": [
    "Let's download a list of stop words and the <code>Wordnet</code> corpus from <code>nltk</code>"
   ]
  },
  {
   "cell_type": "code",
   "execution_count": 2,
   "metadata": {},
   "outputs": [
    {
     "name": "stderr",
     "output_type": "stream",
     "text": [
      "[nltk_data] Downloading package stopwords to\n",
      "[nltk_data]     C:\\Users\\kleye\\AppData\\Roaming\\nltk_data...\n",
      "[nltk_data]   Package stopwords is already up-to-date!\n",
      "[nltk_data] Downloading package wordnet to\n",
      "[nltk_data]     C:\\Users\\kleye\\AppData\\Roaming\\nltk_data...\n",
      "[nltk_data]   Package wordnet is already up-to-date!\n"
     ]
    }
   ],
   "source": [
    "# Download stopwords\n",
    "nltk.download('stopwords')\n",
    "\n",
    "# Specify language\n",
    "stop_words = stopwords.words('english')\n",
    "\n",
    "# Add individual printable characters to list of stop words so that they get renoved along with the stopwords\n",
    "stop_words = stop_words + list(string.printable)\n",
    "\n",
    "# Download de Wordnet corpus\n",
    "nltk.download('wordnet')\n",
    "\n",
    "# Prepare the lemmatizer\n",
    "lemmatizer = WordNetLemmatizer()"
   ]
  },
  {
   "cell_type": "markdown",
   "metadata": {},
   "source": [
    "Let's specify the categories <code>misc.forsale</code>, <code>sci.electronics</code> and <code>talk.religion.misc</code> of news articles we want to fetch by."
   ]
  },
  {
   "cell_type": "code",
   "execution_count": 3,
   "metadata": {},
   "outputs": [],
   "source": [
    "categories= ['misc.forsale', 'sci.electronics', 'talk.religion.misc']"
   ]
  },
  {
   "cell_type": "markdown",
   "metadata": {},
   "source": [
    "Let's fecth the data"
   ]
  },
  {
   "cell_type": "code",
   "execution_count": 4,
   "metadata": {},
   "outputs": [],
   "source": [
    "news_data = fetch_20newsgroups(subset='train', categories=categories, shuffle=True, random_state=42, download_if_missing=True)"
   ]
  },
  {
   "cell_type": "markdown",
   "metadata": {},
   "source": [
    "Let's view the data of the fetched content:"
   ]
  },
  {
   "cell_type": "code",
   "execution_count": 7,
   "metadata": {},
   "outputs": [
    {
     "data": {
      "text/plain": [
       "['From: Steve@Busop.cit.wayne.edu (Steve Teolis)\\nSubject: Re: *** TurboGrafx System For SALE ***\\nOrganization: Wayne State University\\nLines: 38\\nDistribution: na\\nNNTP-Posting-Host: 141.217.75.24\\n\\n>TurboGrafx-16 Base Unit (works like new) with:\\n>       1 Controller\\n>       AC Adapter\\n>       Antenna hookup\\n>     * Games:\\n>         Kieth Courage\\n>         Victory Run\\n>         Fantasy Zone\\n>         Military Madness\\n>         Battle Royal\\n>         Legendary Axe\\n>         Blazing Lasers\\n>         Bloody Wolf\\n>\\n>  --------------------------------------\\n>* Will sell games separatley at $25 each\\n>  --------------------------------------\\n\\nYour kidding, $210.00, man o man, you can buy the system new for $49.00 at \\nElectronic Boutique and those games are only about $15 - $20.00 brand new.  \\nMaybe you should think about that price again if you REALLY need the money.\\n\\n\\n\\n\\n\\n\\n                        \\n                        \\n                        -=-=-=-=-=-=-=-=-=-=-=-=-=-=-\\n                            Wayne State University      \\n                                                       \\n                                Steve Teolis            \\n                             6050 Cass Ave. # 238       \\n                              Detroit, MI  48202        \\n                                                        \\n                           Steve@Busop.cit.wayne.edu    \\n                        -=-=-=-=-=-=-=-=-=-=-=-=-=-=-=-\\n',\n",
       " 'From: jks2x@holmes.acc.Virginia.EDU (Jason K. Schechner)\\nSubject: Foot switches for sale\\nOrganization: University of Virginia\\nLines: 11\\n\\n\\n\\tI have 2 foot switches for sale.  They\\'re great for guitar\\namps, and keyboards.  Each is about 1\" in diameter with a 6\\' (or so)\\ncable.  I\\'d like $15 for both, but make me an offer, who knows...\\n\\n-Jason\\n-- \\nSettle down, raise a family join the PTA, \\nbuy some sensible shoes, and a Chevrolet\\nAnd party \\'till you\\'re broke and they drag you away. It\\'s ok.\\n\\t\\t\\t\\t\\tAl Yankovic\\n',\n",
       " \"From: wayne@uva386.schools.virginia.edu (Tony Wayne)\\nSubject: Pink Noise\\nOrganization: Virginia's Public Education Network (Charlottesville)\\nLines: 4\\n\\nWhat is Pink noise and how is it used in sound experiments?\\n-tony\\n wayne@uva386.schools.virginia.edu\\n\\n\",\n",
       " \"From: lihan@ccwf.cc.utexas.edu (Bruce G. Bostwick)\\nSubject: Re: Membrane keypad with custom legend.\\nOrganization: The University of Texas at Austin, Austin TX\\nLines: 21\\nDistribution: usa\\nNNTP-Posting-Host: doc.cc.utexas.edu\\n\\nIn article <1993Apr21.125530.18387@texhrc.uucp> pyeatt@Texaco.com (Larry D. Pyeatt) writes:\\n>I had a catalog with membrane keypads, but I dunno what\\n>happened to it, and it was so long ago that I forget the\\n>name of the company.  Anyway, you could make your own\\n>legend and slip it behind the bezel.  Really nice and \\n>reasonably priced.  Can anyone tell me where to get some\\n>more of these critters?\\n\\nFor some reason the name Grayhill springs to mind -- saw something\\nlike that in a Grayhill catalog, along with options for custom printed\\noverlays and a neat little electroluuminescent backing that would make\\nthe whole shebang glow a nice shade of green ..\\n\\nmighty handy if you're trying to key a door combination in the dark\\nand don't want to TURN ON THE &%#$!! LIGHT ..\\n\\n-- \\n<BGB>\\nlihan@ccwf.cc.utexas.edu        /   The only reason the world hasn't\\n(really Bruce Bostwick)        /   dissolved into total chaos is that\\nfrom the great state of TEXAS /   Murphy's Law also applies to Murphy.\\n\",\n",
       " \"From: myoakam@cis.ohio-state.edu (micah r yoakam)\\nSubject: BOAT for SALE\\nOrganization: The Ohio State University Dept. of Computer and Info. Science\\nLines: 14\\nDistribution: USA\\nExpires: +60days\\nNNTP-Posting-Host: eucalyptus.cis.ohio-state.edu\\n\\nBOAT For SALE\\n1989 23' IMPERIAL FISHERMAN featuring\\n        Walkaround Cuddy Cabin, 305 V8 with VOLVO DUO PROP OUTDRIVE /\\\\/\\\\/\\\\/\\nAM-FM Cassette Stereo, VHF RADIO, 4x6 HUMMINGBIRD Fishfinder, ALL  Safty\\nequipment, Covers, and MUCH MORE.  \\n        18000 LB.  Capacity\\n        includes Storage Trailer\\n        Hardly used:  LESS Than 100 Hrs\\n\\nAsking: $15,000 OR Best OFFER.\\nFor Further information contact Gerald at 1-(419)-756-2950\\n                                        Mansfield, OH\\n\\n\\n\"]"
      ]
     },
     "execution_count": 7,
     "metadata": {},
     "output_type": "execute_result"
    }
   ],
   "source": [
    "news_data['data'][:5]"
   ]
  },
  {
   "cell_type": "markdown",
   "metadata": {},
   "source": [
    "Checking the categories of news articles"
   ]
  },
  {
   "cell_type": "code",
   "execution_count": 8,
   "metadata": {},
   "outputs": [
    {
     "data": {
      "text/plain": [
       "array([0, 0, 1, ..., 0, 1, 0], dtype=int64)"
      ]
     },
     "execution_count": 8,
     "metadata": {},
     "output_type": "execute_result"
    }
   ],
   "source": [
    "news_data.target"
   ]
  },
  {
   "cell_type": "markdown",
   "metadata": {},
   "source": [
    "Checking the categories we are dealing with"
   ]
  },
  {
   "cell_type": "code",
   "execution_count": 9,
   "metadata": {},
   "outputs": [
    {
     "data": {
      "text/plain": [
       "['misc.forsale', 'sci.electronics', 'talk.religion.misc']"
      ]
     },
     "execution_count": 9,
     "metadata": {},
     "output_type": "execute_result"
    }
   ],
   "source": [
    "news_data.target_names"
   ]
  },
  {
   "cell_type": "markdown",
   "metadata": {},
   "source": [
    "Let's store <code>news_data</code> and the corresponding categories in a pandas DataFrame and take a look at it"
   ]
  },
  {
   "cell_type": "code",
   "execution_count": 10,
   "metadata": {},
   "outputs": [
    {
     "data": {
      "text/html": [
       "<div>\n",
       "<style scoped>\n",
       "    .dataframe tbody tr th:only-of-type {\n",
       "        vertical-align: middle;\n",
       "    }\n",
       "\n",
       "    .dataframe tbody tr th {\n",
       "        vertical-align: top;\n",
       "    }\n",
       "\n",
       "    .dataframe thead th {\n",
       "        text-align: right;\n",
       "    }\n",
       "</style>\n",
       "<table border=\"1\" class=\"dataframe\">\n",
       "  <thead>\n",
       "    <tr style=\"text-align: right;\">\n",
       "      <th></th>\n",
       "      <th>text</th>\n",
       "      <th>category</th>\n",
       "    </tr>\n",
       "  </thead>\n",
       "  <tbody>\n",
       "    <tr>\n",
       "      <th>0</th>\n",
       "      <td>From: Steve@Busop.cit.wayne.edu (Steve Teolis)...</td>\n",
       "      <td>0</td>\n",
       "    </tr>\n",
       "    <tr>\n",
       "      <th>1</th>\n",
       "      <td>From: jks2x@holmes.acc.Virginia.EDU (Jason K. ...</td>\n",
       "      <td>0</td>\n",
       "    </tr>\n",
       "    <tr>\n",
       "      <th>2</th>\n",
       "      <td>From: wayne@uva386.schools.virginia.edu (Tony ...</td>\n",
       "      <td>1</td>\n",
       "    </tr>\n",
       "    <tr>\n",
       "      <th>3</th>\n",
       "      <td>From: lihan@ccwf.cc.utexas.edu (Bruce G. Bostw...</td>\n",
       "      <td>1</td>\n",
       "    </tr>\n",
       "    <tr>\n",
       "      <th>4</th>\n",
       "      <td>From: myoakam@cis.ohio-state.edu (micah r yoak...</td>\n",
       "      <td>0</td>\n",
       "    </tr>\n",
       "  </tbody>\n",
       "</table>\n",
       "</div>"
      ],
      "text/plain": [
       "                                                text  category\n",
       "0  From: Steve@Busop.cit.wayne.edu (Steve Teolis)...         0\n",
       "1  From: jks2x@holmes.acc.Virginia.EDU (Jason K. ...         0\n",
       "2  From: wayne@uva386.schools.virginia.edu (Tony ...         1\n",
       "3  From: lihan@ccwf.cc.utexas.edu (Bruce G. Bostw...         1\n",
       "4  From: myoakam@cis.ohio-state.edu (micah r yoak...         0"
      ]
     },
     "execution_count": 10,
     "metadata": {},
     "output_type": "execute_result"
    }
   ],
   "source": [
    "news_data_df = pd.DataFrame({'text' : news_data['data'], 'category': news_data.target})\n",
    "news_data_df.head()"
   ]
  },
  {
   "cell_type": "markdown",
   "metadata": {},
   "source": [
    "Let's count the number of occurrences of each category appearing in this dataset"
   ]
  },
  {
   "cell_type": "code",
   "execution_count": 11,
   "metadata": {},
   "outputs": [
    {
     "data": {
      "text/plain": [
       "1    591\n",
       "0    585\n",
       "2    377\n",
       "Name: category, dtype: int64"
      ]
     },
     "execution_count": 11,
     "metadata": {},
     "output_type": "execute_result"
    }
   ],
   "source": [
    "news_data_df.category.value_counts()"
   ]
  },
  {
   "cell_type": "markdown",
   "metadata": {},
   "source": [
    "In the next cell, we will use a <code>lambda</code> function to extract tokens from each <code>'text'</code> raw of the <code>news_data_df DataFrame</code>, check whether any of these tokens are stop words, lemmatize them, and concatenate them side by side. We make use of the <code>join</code> function to concatenate a list of words into a single sentence. We use the regular expression (<code>re</code>) to replace anything other than alphabets, digits, and white spaces with blank space."
   ]
  },
  {
   "cell_type": "code",
   "execution_count": 14,
   "metadata": {},
   "outputs": [],
   "source": [
    "news_data_df['cleaned_text'] = news_data_df['text'].apply(\\\n",
    "lambda x : ' '.join([lemmatizer.lemmatize(word.lower()) \\\n",
    "    for word in word_tokenize(re.sub(r'([^\\s\\w]|_)+', ' ', str(x))) if word.lower() not in stop_words]))"
   ]
  },
  {
   "cell_type": "code",
   "execution_count": 15,
   "metadata": {},
   "outputs": [
    {
     "data": {
      "text/plain": [
       "(1553, 3)"
      ]
     },
     "execution_count": 15,
     "metadata": {},
     "output_type": "execute_result"
    }
   ],
   "source": [
    "news_data_df.shape"
   ]
  },
  {
   "cell_type": "markdown",
   "metadata": {},
   "source": [
    "Let's create a <code>tf-idf</code> matrix and transform it to a <code>DataFrame</code>"
   ]
  },
  {
   "cell_type": "code",
   "execution_count": 16,
   "metadata": {},
   "outputs": [
    {
     "data": {
      "text/html": [
       "<div>\n",
       "<style scoped>\n",
       "    .dataframe tbody tr th:only-of-type {\n",
       "        vertical-align: middle;\n",
       "    }\n",
       "\n",
       "    .dataframe tbody tr th {\n",
       "        vertical-align: top;\n",
       "    }\n",
       "\n",
       "    .dataframe thead th {\n",
       "        text-align: right;\n",
       "    }\n",
       "</style>\n",
       "<table border=\"1\" class=\"dataframe\">\n",
       "  <thead>\n",
       "    <tr style=\"text-align: right;\">\n",
       "      <th></th>\n",
       "      <th>00</th>\n",
       "      <th>10</th>\n",
       "      <th>100</th>\n",
       "      <th>12</th>\n",
       "      <th>14</th>\n",
       "      <th>15</th>\n",
       "      <th>16</th>\n",
       "      <th>20</th>\n",
       "      <th>25</th>\n",
       "      <th>30</th>\n",
       "      <th>...</th>\n",
       "      <th>well</th>\n",
       "      <th>wire</th>\n",
       "      <th>wiring</th>\n",
       "      <th>without</th>\n",
       "      <th>word</th>\n",
       "      <th>work</th>\n",
       "      <th>world</th>\n",
       "      <th>would</th>\n",
       "      <th>writes</th>\n",
       "      <th>year</th>\n",
       "    </tr>\n",
       "  </thead>\n",
       "  <tbody>\n",
       "    <tr>\n",
       "      <th>0</th>\n",
       "      <td>0.435655</td>\n",
       "      <td>0.0</td>\n",
       "      <td>0.000000</td>\n",
       "      <td>0.0</td>\n",
       "      <td>0.000000</td>\n",
       "      <td>0.127775</td>\n",
       "      <td>0.136811</td>\n",
       "      <td>0.127551</td>\n",
       "      <td>0.133311</td>\n",
       "      <td>0.0</td>\n",
       "      <td>...</td>\n",
       "      <td>0.0</td>\n",
       "      <td>0.0</td>\n",
       "      <td>0.0</td>\n",
       "      <td>0.0</td>\n",
       "      <td>0.0</td>\n",
       "      <td>0.113042</td>\n",
       "      <td>0.000000</td>\n",
       "      <td>0.000000</td>\n",
       "      <td>0.000000</td>\n",
       "      <td>0.0</td>\n",
       "    </tr>\n",
       "    <tr>\n",
       "      <th>1</th>\n",
       "      <td>0.000000</td>\n",
       "      <td>0.0</td>\n",
       "      <td>0.000000</td>\n",
       "      <td>0.0</td>\n",
       "      <td>0.000000</td>\n",
       "      <td>0.294937</td>\n",
       "      <td>0.000000</td>\n",
       "      <td>0.000000</td>\n",
       "      <td>0.000000</td>\n",
       "      <td>0.0</td>\n",
       "      <td>...</td>\n",
       "      <td>0.0</td>\n",
       "      <td>0.0</td>\n",
       "      <td>0.0</td>\n",
       "      <td>0.0</td>\n",
       "      <td>0.0</td>\n",
       "      <td>0.000000</td>\n",
       "      <td>0.000000</td>\n",
       "      <td>0.000000</td>\n",
       "      <td>0.000000</td>\n",
       "      <td>0.0</td>\n",
       "    </tr>\n",
       "    <tr>\n",
       "      <th>2</th>\n",
       "      <td>0.000000</td>\n",
       "      <td>0.0</td>\n",
       "      <td>0.000000</td>\n",
       "      <td>0.0</td>\n",
       "      <td>0.000000</td>\n",
       "      <td>0.000000</td>\n",
       "      <td>0.000000</td>\n",
       "      <td>0.000000</td>\n",
       "      <td>0.000000</td>\n",
       "      <td>0.0</td>\n",
       "      <td>...</td>\n",
       "      <td>0.0</td>\n",
       "      <td>0.0</td>\n",
       "      <td>0.0</td>\n",
       "      <td>0.0</td>\n",
       "      <td>0.0</td>\n",
       "      <td>0.000000</td>\n",
       "      <td>0.000000</td>\n",
       "      <td>0.000000</td>\n",
       "      <td>0.000000</td>\n",
       "      <td>0.0</td>\n",
       "    </tr>\n",
       "    <tr>\n",
       "      <th>3</th>\n",
       "      <td>0.000000</td>\n",
       "      <td>0.0</td>\n",
       "      <td>0.000000</td>\n",
       "      <td>0.0</td>\n",
       "      <td>0.000000</td>\n",
       "      <td>0.000000</td>\n",
       "      <td>0.000000</td>\n",
       "      <td>0.000000</td>\n",
       "      <td>0.000000</td>\n",
       "      <td>0.0</td>\n",
       "      <td>...</td>\n",
       "      <td>0.0</td>\n",
       "      <td>0.0</td>\n",
       "      <td>0.0</td>\n",
       "      <td>0.0</td>\n",
       "      <td>0.0</td>\n",
       "      <td>0.000000</td>\n",
       "      <td>0.142267</td>\n",
       "      <td>0.106317</td>\n",
       "      <td>0.100306</td>\n",
       "      <td>0.0</td>\n",
       "    </tr>\n",
       "    <tr>\n",
       "      <th>4</th>\n",
       "      <td>0.000000</td>\n",
       "      <td>0.0</td>\n",
       "      <td>0.207003</td>\n",
       "      <td>0.0</td>\n",
       "      <td>0.191897</td>\n",
       "      <td>0.182138</td>\n",
       "      <td>0.000000</td>\n",
       "      <td>0.000000</td>\n",
       "      <td>0.000000</td>\n",
       "      <td>0.0</td>\n",
       "      <td>...</td>\n",
       "      <td>0.0</td>\n",
       "      <td>0.0</td>\n",
       "      <td>0.0</td>\n",
       "      <td>0.0</td>\n",
       "      <td>0.0</td>\n",
       "      <td>0.000000</td>\n",
       "      <td>0.000000</td>\n",
       "      <td>0.000000</td>\n",
       "      <td>0.000000</td>\n",
       "      <td>0.0</td>\n",
       "    </tr>\n",
       "  </tbody>\n",
       "</table>\n",
       "<p>5 rows × 200 columns</p>\n",
       "</div>"
      ],
      "text/plain": [
       "         00   10       100   12        14        15        16        20  \\\n",
       "0  0.435655  0.0  0.000000  0.0  0.000000  0.127775  0.136811  0.127551   \n",
       "1  0.000000  0.0  0.000000  0.0  0.000000  0.294937  0.000000  0.000000   \n",
       "2  0.000000  0.0  0.000000  0.0  0.000000  0.000000  0.000000  0.000000   \n",
       "3  0.000000  0.0  0.000000  0.0  0.000000  0.000000  0.000000  0.000000   \n",
       "4  0.000000  0.0  0.207003  0.0  0.191897  0.182138  0.000000  0.000000   \n",
       "\n",
       "         25   30  ...  well  wire  wiring  without  word      work     world  \\\n",
       "0  0.133311  0.0  ...   0.0   0.0     0.0      0.0   0.0  0.113042  0.000000   \n",
       "1  0.000000  0.0  ...   0.0   0.0     0.0      0.0   0.0  0.000000  0.000000   \n",
       "2  0.000000  0.0  ...   0.0   0.0     0.0      0.0   0.0  0.000000  0.000000   \n",
       "3  0.000000  0.0  ...   0.0   0.0     0.0      0.0   0.0  0.000000  0.142267   \n",
       "4  0.000000  0.0  ...   0.0   0.0     0.0      0.0   0.0  0.000000  0.000000   \n",
       "\n",
       "      would    writes  year  \n",
       "0  0.000000  0.000000   0.0  \n",
       "1  0.000000  0.000000   0.0  \n",
       "2  0.000000  0.000000   0.0  \n",
       "3  0.106317  0.100306   0.0  \n",
       "4  0.000000  0.000000   0.0  \n",
       "\n",
       "[5 rows x 200 columns]"
      ]
     },
     "execution_count": 16,
     "metadata": {},
     "output_type": "execute_result"
    }
   ],
   "source": [
    "tfidf_model = TfidfVectorizer(max_features=200)\n",
    "tfidf_df = pd.DataFrame(tfidf_model.fit_transform(news_data_df['cleaned_text']).todense())\n",
    "tfidf_df.columns = sorted(tfidf_model.vocabulary_)\n",
    "tfidf_df.head()"
   ]
  },
  {
   "cell_type": "markdown",
   "metadata": {},
   "source": [
    "Let's create a distance matrix by subtracting the cosine similarities of the <code>tf-idf</code> representation of documents from number 1. The <code>ward</code> function is used to create a linkage matrix, used in hierarchical clustering."
   ]
  },
  {
   "cell_type": "code",
   "execution_count": 17,
   "metadata": {},
   "outputs": [],
   "source": [
    "dist = 1 - cosine_similarity(tfidf_df)\n",
    "linkage_matrix = ward(dist)"
   ]
  },
  {
   "cell_type": "markdown",
   "metadata": {},
   "source": [
    "Let's truncate the dendrogram to keep the last four clusters. The leaves of a dendrogram refer to the individual instances that are data points. <code>leaf_rotation</code> denotes the angle by which leaf levels must be rotated. <code>leaf_font_size</code> denotes the font size of leaf labels."
   ]
  },
  {
   "cell_type": "code",
   "execution_count": 20,
   "metadata": {},
   "outputs": [
    {
     "data": {
      "image/png": "[encoded data removed]",
      "text/plain": [
       "<Figure size 432x288 with 1 Axes>"
      ]
     },
     "metadata": {
      "needs_background": "light"
     },
     "output_type": "display_data"
    }
   ],
   "source": [
    "#Truncating the Dendogram Truncation to show last 4 clusters\n",
    "plt.title('Hierarchical Clustering using Truncated Dendrogram')\n",
    "plt.xlabel('Clustered Documents')\n",
    "plt.ylabel('Distance')\n",
    "dendrogram(\n",
    "    linkage_matrix,\n",
    "    truncate_mode='lastp',# showing only last p clusters after merging\n",
    "    p=4,# p is the number of cluster that should remain after merging \n",
    "    leaf_rotation=90.,\n",
    "    leaf_font_size=12.\n",
    ")\n",
    "plt.show()"
   ]
  },
  {
   "cell_type": "markdown",
   "metadata": {},
   "source": [
    "Now, we'll use the <code>fcluster()</code> function to obtain cluster labels of clusters obtained by hierarchical clustering"
   ]
  },
  {
   "cell_type": "code",
   "execution_count": 21,
   "metadata": {},
   "outputs": [
    {
     "data": {
      "text/plain": [
       "array([3, 3, 3, ..., 4, 4, 1], dtype=int32)"
      ]
     },
     "execution_count": 21,
     "metadata": {},
     "output_type": "execute_result"
    }
   ],
   "source": [
    "k=4\n",
    "clusters = fcluster(linkage_matrix, k, criterion='maxclust')\n",
    "clusters"
   ]
  },
  {
   "cell_type": "markdown",
   "metadata": {},
   "source": [
    "Finally, we make use of the <code>crosstab</code> function of pandas to compare the clusters we have obtained with the actual categories of news articles."
   ]
  },
  {
   "cell_type": "code",
   "execution_count": 23,
   "metadata": {},
   "outputs": [
    {
     "data": {
      "text/html": [
       "<div>\n",
       "<style scoped>\n",
       "    .dataframe tbody tr th:only-of-type {\n",
       "        vertical-align: middle;\n",
       "    }\n",
       "\n",
       "    .dataframe tbody tr th {\n",
       "        vertical-align: top;\n",
       "    }\n",
       "\n",
       "    .dataframe thead th {\n",
       "        text-align: right;\n",
       "    }\n",
       "</style>\n",
       "<table border=\"1\" class=\"dataframe\">\n",
       "  <thead>\n",
       "    <tr style=\"text-align: right;\">\n",
       "      <th>obtained_clusters</th>\n",
       "      <th>cluster_1</th>\n",
       "      <th>cluster_2</th>\n",
       "      <th>cluster_3</th>\n",
       "      <th>cluster_4</th>\n",
       "    </tr>\n",
       "    <tr>\n",
       "      <th>category</th>\n",
       "      <th></th>\n",
       "      <th></th>\n",
       "      <th></th>\n",
       "      <th></th>\n",
       "    </tr>\n",
       "  </thead>\n",
       "  <tbody>\n",
       "    <tr>\n",
       "      <th>misc.forsale</th>\n",
       "      <td>155</td>\n",
       "      <td>0</td>\n",
       "      <td>230</td>\n",
       "      <td>200</td>\n",
       "    </tr>\n",
       "    <tr>\n",
       "      <th>sci.electronics</th>\n",
       "      <td>110</td>\n",
       "      <td>1</td>\n",
       "      <td>19</td>\n",
       "      <td>461</td>\n",
       "    </tr>\n",
       "    <tr>\n",
       "      <th>talk.religion.misc</th>\n",
       "      <td>44</td>\n",
       "      <td>198</td>\n",
       "      <td>2</td>\n",
       "      <td>133</td>\n",
       "    </tr>\n",
       "  </tbody>\n",
       "</table>\n",
       "</div>"
      ],
      "text/plain": [
       "obtained_clusters   cluster_1  cluster_2  cluster_3  cluster_4\n",
       "category                                                      \n",
       "misc.forsale              155          0        230        200\n",
       "sci.electronics           110          1         19        461\n",
       "talk.religion.misc         44        198          2        133"
      ]
     },
     "execution_count": 23,
     "metadata": {},
     "output_type": "execute_result"
    }
   ],
   "source": [
    "news_data_df['obtained_clusters'] = clusters\n",
    "pd.crosstab(news_data_df['category'].replace({0:'misc.forsale', 1:'sci.electronics', 2:'talk.religion.misc'}),\\\n",
    "            news_data_df['obtained_clusters'].\\\n",
    "            replace({1 : 'cluster_1', 2 : 'cluster_2', 3 : 'cluster_3', 4: 'cluster_4'}))"
   ]
  },
  {
   "cell_type": "markdown",
   "metadata": {},
   "source": [
    "<h2>Exercise 2: K-Means Clustering</h2>\n",
    "<br>\n",
    "Let's create four clusters from text documents in sklearn's \"fetch_20 newsgroups\" text dataset using <code>k-means</code> clustering. We will compare these clusters with the actual categories and use the <i>elbow method</i> to obtain the optimal number of clusters."
   ]
  },
  {
   "cell_type": "code",
   "execution_count": 24,
   "metadata": {},
   "outputs": [],
   "source": [
    "import pandas as pd\n",
    "from sklearn.datasets import fetch_20newsgroups\n",
    "import matplotlib.pyplot as plt\n",
    "%matplotlib inline\n",
    "import re\n",
    "import string\n",
    "from nltk import word_tokenize\n",
    "from nltk.corpus import stopwords\n",
    "from nltk.stem import WordNetLemmatizer\n",
    "from sklearn.feature_extraction.text import TfidfVectorizer\n",
    "from collections import Counter\n",
    "from pylab import *\n",
    "import nltk\n",
    "import warnings\n",
    "warnings.filterwarnings('ignore')\n",
    "import seaborn as sns; \n",
    "sns.set()\n",
    "import numpy as np\n",
    "from scipy.spatial.distance import cdist\n",
    "from sklearn.cluster import KMeans"
   ]
  },
  {
   "cell_type": "markdown",
   "metadata": {},
   "source": [
    "We will be using stop words from the English language only. Also, we will use the <code>wordnet</code> corpus for lemmatization."
   ]
  },
  {
   "cell_type": "code",
   "execution_count": 25,
   "metadata": {},
   "outputs": [],
   "source": [
    "stop_words = stopwords.words('english')\n",
    "stop_words = stop_words + list(string.printable)\n",
    "lemmatizer = WordNetLemmatizer()"
   ]
  },
  {
   "cell_type": "markdown",
   "metadata": {},
   "source": [
    "Specify the categories of news articles we want to fetch by"
   ]
  },
  {
   "cell_type": "code",
   "execution_count": 26,
   "metadata": {},
   "outputs": [],
   "source": [
    "categories= ['misc.forsale', 'sci.electronics', 'talk.religion.misc']"
   ]
  },
  {
   "cell_type": "markdown",
   "metadata": {},
   "source": [
    "Fetch the dataset"
   ]
  },
  {
   "cell_type": "code",
   "execution_count": 27,
   "metadata": {},
   "outputs": [],
   "source": [
    "news_data = fetch_20newsgroups(subset='train', categories=categories, shuffle=True, random_state=42, download_if_missing=True)"
   ]
  },
  {
   "cell_type": "markdown",
   "metadata": {},
   "source": [
    "In the next cell, we will use a <code>lambda</code> function to extract tokens from each <code>'text'</code> raw of the <code>news_data_df DataFrame</code>, check whether any of these tokens are stop words, lemmatize them, and concatenate them side by side. We make use of the <code>join</code> function to concatenate a list of words into a single sentence. We use the regular expression (<code>re</code>) to replace anything other than alphabets, digits, and white spaces with blank space."
   ]
  },
  {
   "cell_type": "code",
   "execution_count": 29,
   "metadata": {},
   "outputs": [],
   "source": [
    "news_data_df['cleaned_text'] = news_data_df['text'].apply(\\\n",
    "lambda x : ' '.join([lemmatizer.lemmatize(word.lower()) \\\n",
    "                     for word in word_tokenize(re.sub(r'([^\\s\\w]|_)+', ' ', str(x))) if word.lower() not in stop_words]))"
   ]
  },
  {
   "cell_type": "markdown",
   "metadata": {},
   "source": [
    "Let's create a <code>tf-idf</code> matrix and transform it into a dataframe"
   ]
  },
  {
   "cell_type": "code",
   "execution_count": 30,
   "metadata": {},
   "outputs": [
    {
     "data": {
      "text/html": [
       "<div>\n",
       "<style scoped>\n",
       "    .dataframe tbody tr th:only-of-type {\n",
       "        vertical-align: middle;\n",
       "    }\n",
       "\n",
       "    .dataframe tbody tr th {\n",
       "        vertical-align: top;\n",
       "    }\n",
       "\n",
       "    .dataframe thead th {\n",
       "        text-align: right;\n",
       "    }\n",
       "</style>\n",
       "<table border=\"1\" class=\"dataframe\">\n",
       "  <thead>\n",
       "    <tr style=\"text-align: right;\">\n",
       "      <th></th>\n",
       "      <th>00</th>\n",
       "      <th>10</th>\n",
       "      <th>100</th>\n",
       "      <th>12</th>\n",
       "      <th>14</th>\n",
       "      <th>15</th>\n",
       "      <th>16</th>\n",
       "      <th>20</th>\n",
       "      <th>25</th>\n",
       "      <th>30</th>\n",
       "      <th>...</th>\n",
       "      <th>well</th>\n",
       "      <th>wire</th>\n",
       "      <th>wiring</th>\n",
       "      <th>without</th>\n",
       "      <th>word</th>\n",
       "      <th>work</th>\n",
       "      <th>world</th>\n",
       "      <th>would</th>\n",
       "      <th>writes</th>\n",
       "      <th>year</th>\n",
       "    </tr>\n",
       "  </thead>\n",
       "  <tbody>\n",
       "    <tr>\n",
       "      <th>0</th>\n",
       "      <td>0.435655</td>\n",
       "      <td>0.0</td>\n",
       "      <td>0.000000</td>\n",
       "      <td>0.0</td>\n",
       "      <td>0.000000</td>\n",
       "      <td>0.127775</td>\n",
       "      <td>0.136811</td>\n",
       "      <td>0.127551</td>\n",
       "      <td>0.133311</td>\n",
       "      <td>0.0</td>\n",
       "      <td>...</td>\n",
       "      <td>0.0</td>\n",
       "      <td>0.0</td>\n",
       "      <td>0.0</td>\n",
       "      <td>0.0</td>\n",
       "      <td>0.0</td>\n",
       "      <td>0.113042</td>\n",
       "      <td>0.000000</td>\n",
       "      <td>0.000000</td>\n",
       "      <td>0.000000</td>\n",
       "      <td>0.0</td>\n",
       "    </tr>\n",
       "    <tr>\n",
       "      <th>1</th>\n",
       "      <td>0.000000</td>\n",
       "      <td>0.0</td>\n",
       "      <td>0.000000</td>\n",
       "      <td>0.0</td>\n",
       "      <td>0.000000</td>\n",
       "      <td>0.294937</td>\n",
       "      <td>0.000000</td>\n",
       "      <td>0.000000</td>\n",
       "      <td>0.000000</td>\n",
       "      <td>0.0</td>\n",
       "      <td>...</td>\n",
       "      <td>0.0</td>\n",
       "      <td>0.0</td>\n",
       "      <td>0.0</td>\n",
       "      <td>0.0</td>\n",
       "      <td>0.0</td>\n",
       "      <td>0.000000</td>\n",
       "      <td>0.000000</td>\n",
       "      <td>0.000000</td>\n",
       "      <td>0.000000</td>\n",
       "      <td>0.0</td>\n",
       "    </tr>\n",
       "    <tr>\n",
       "      <th>2</th>\n",
       "      <td>0.000000</td>\n",
       "      <td>0.0</td>\n",
       "      <td>0.000000</td>\n",
       "      <td>0.0</td>\n",
       "      <td>0.000000</td>\n",
       "      <td>0.000000</td>\n",
       "      <td>0.000000</td>\n",
       "      <td>0.000000</td>\n",
       "      <td>0.000000</td>\n",
       "      <td>0.0</td>\n",
       "      <td>...</td>\n",
       "      <td>0.0</td>\n",
       "      <td>0.0</td>\n",
       "      <td>0.0</td>\n",
       "      <td>0.0</td>\n",
       "      <td>0.0</td>\n",
       "      <td>0.000000</td>\n",
       "      <td>0.000000</td>\n",
       "      <td>0.000000</td>\n",
       "      <td>0.000000</td>\n",
       "      <td>0.0</td>\n",
       "    </tr>\n",
       "    <tr>\n",
       "      <th>3</th>\n",
       "      <td>0.000000</td>\n",
       "      <td>0.0</td>\n",
       "      <td>0.000000</td>\n",
       "      <td>0.0</td>\n",
       "      <td>0.000000</td>\n",
       "      <td>0.000000</td>\n",
       "      <td>0.000000</td>\n",
       "      <td>0.000000</td>\n",
       "      <td>0.000000</td>\n",
       "      <td>0.0</td>\n",
       "      <td>...</td>\n",
       "      <td>0.0</td>\n",
       "      <td>0.0</td>\n",
       "      <td>0.0</td>\n",
       "      <td>0.0</td>\n",
       "      <td>0.0</td>\n",
       "      <td>0.000000</td>\n",
       "      <td>0.142267</td>\n",
       "      <td>0.106317</td>\n",
       "      <td>0.100306</td>\n",
       "      <td>0.0</td>\n",
       "    </tr>\n",
       "    <tr>\n",
       "      <th>4</th>\n",
       "      <td>0.000000</td>\n",
       "      <td>0.0</td>\n",
       "      <td>0.207003</td>\n",
       "      <td>0.0</td>\n",
       "      <td>0.191897</td>\n",
       "      <td>0.182138</td>\n",
       "      <td>0.000000</td>\n",
       "      <td>0.000000</td>\n",
       "      <td>0.000000</td>\n",
       "      <td>0.0</td>\n",
       "      <td>...</td>\n",
       "      <td>0.0</td>\n",
       "      <td>0.0</td>\n",
       "      <td>0.0</td>\n",
       "      <td>0.0</td>\n",
       "      <td>0.0</td>\n",
       "      <td>0.000000</td>\n",
       "      <td>0.000000</td>\n",
       "      <td>0.000000</td>\n",
       "      <td>0.000000</td>\n",
       "      <td>0.0</td>\n",
       "    </tr>\n",
       "  </tbody>\n",
       "</table>\n",
       "<p>5 rows × 200 columns</p>\n",
       "</div>"
      ],
      "text/plain": [
       "         00   10       100   12        14        15        16        20  \\\n",
       "0  0.435655  0.0  0.000000  0.0  0.000000  0.127775  0.136811  0.127551   \n",
       "1  0.000000  0.0  0.000000  0.0  0.000000  0.294937  0.000000  0.000000   \n",
       "2  0.000000  0.0  0.000000  0.0  0.000000  0.000000  0.000000  0.000000   \n",
       "3  0.000000  0.0  0.000000  0.0  0.000000  0.000000  0.000000  0.000000   \n",
       "4  0.000000  0.0  0.207003  0.0  0.191897  0.182138  0.000000  0.000000   \n",
       "\n",
       "         25   30  ...  well  wire  wiring  without  word      work     world  \\\n",
       "0  0.133311  0.0  ...   0.0   0.0     0.0      0.0   0.0  0.113042  0.000000   \n",
       "1  0.000000  0.0  ...   0.0   0.0     0.0      0.0   0.0  0.000000  0.000000   \n",
       "2  0.000000  0.0  ...   0.0   0.0     0.0      0.0   0.0  0.000000  0.000000   \n",
       "3  0.000000  0.0  ...   0.0   0.0     0.0      0.0   0.0  0.000000  0.142267   \n",
       "4  0.000000  0.0  ...   0.0   0.0     0.0      0.0   0.0  0.000000  0.000000   \n",
       "\n",
       "      would    writes  year  \n",
       "0  0.000000  0.000000   0.0  \n",
       "1  0.000000  0.000000   0.0  \n",
       "2  0.000000  0.000000   0.0  \n",
       "3  0.106317  0.100306   0.0  \n",
       "4  0.000000  0.000000   0.0  \n",
       "\n",
       "[5 rows x 200 columns]"
      ]
     },
     "execution_count": 30,
     "metadata": {},
     "output_type": "execute_result"
    }
   ],
   "source": [
    "tfidf_model=TfidfVectorizer(max_features=200)\n",
    "tfidf_df=pd.DataFrame(tfidf_model.fit_transform(news_data_df['cleaned_text']).todense())\n",
    "tfidf_df.columns=sorted(tfidf_model.vocabulary_)\n",
    "tfidf_df.head()"
   ]
  },
  {
   "cell_type": "markdown",
   "metadata": {},
   "source": [
    "Let's use the <code>KMeans</code> function of <code>sklearn</code> to create four clusters from a <code>tf-idf</code> representation of news articles"
   ]
  },
  {
   "cell_type": "code",
   "execution_count": 31,
   "metadata": {},
   "outputs": [],
   "source": [
    "kmeans = KMeans(n_clusters=4)\n",
    "kmeans.fit(tfidf_df)\n",
    "y_kmeans = kmeans.predict(tfidf_df)\n",
    "news_data_df['obtained_clusters'] = y_kmeans"
   ]
  },
  {
   "cell_type": "markdown",
   "metadata": {},
   "source": [
    "Let's use pandas's <code>crosstab</code> function to compare the clusters we have obtained with the actual categories of the news articles"
   ]
  },
  {
   "cell_type": "code",
   "execution_count": 32,
   "metadata": {},
   "outputs": [
    {
     "data": {
      "text/html": [
       "<div>\n",
       "<style scoped>\n",
       "    .dataframe tbody tr th:only-of-type {\n",
       "        vertical-align: middle;\n",
       "    }\n",
       "\n",
       "    .dataframe tbody tr th {\n",
       "        vertical-align: top;\n",
       "    }\n",
       "\n",
       "    .dataframe thead th {\n",
       "        text-align: right;\n",
       "    }\n",
       "</style>\n",
       "<table border=\"1\" class=\"dataframe\">\n",
       "  <thead>\n",
       "    <tr style=\"text-align: right;\">\n",
       "      <th>obtained_clusters</th>\n",
       "      <th>cluster_1</th>\n",
       "      <th>cluster_2</th>\n",
       "      <th>cluster_3</th>\n",
       "      <th>cluster_4</th>\n",
       "    </tr>\n",
       "    <tr>\n",
       "      <th>category</th>\n",
       "      <th></th>\n",
       "      <th></th>\n",
       "      <th></th>\n",
       "      <th></th>\n",
       "    </tr>\n",
       "  </thead>\n",
       "  <tbody>\n",
       "    <tr>\n",
       "      <th>misc.forsale</th>\n",
       "      <td>129</td>\n",
       "      <td>1</td>\n",
       "      <td>103</td>\n",
       "      <td>352</td>\n",
       "    </tr>\n",
       "    <tr>\n",
       "      <th>sci.electronics</th>\n",
       "      <td>172</td>\n",
       "      <td>0</td>\n",
       "      <td>410</td>\n",
       "      <td>9</td>\n",
       "    </tr>\n",
       "    <tr>\n",
       "      <th>talk.religion.misc</th>\n",
       "      <td>82</td>\n",
       "      <td>216</td>\n",
       "      <td>79</td>\n",
       "      <td>0</td>\n",
       "    </tr>\n",
       "  </tbody>\n",
       "</table>\n",
       "</div>"
      ],
      "text/plain": [
       "obtained_clusters   cluster_1  cluster_2  cluster_3  cluster_4\n",
       "category                                                      \n",
       "misc.forsale              129          1        103        352\n",
       "sci.electronics           172          0        410          9\n",
       "talk.religion.misc         82        216         79          0"
      ]
     },
     "execution_count": 32,
     "metadata": {},
     "output_type": "execute_result"
    }
   ],
   "source": [
    "pd.crosstab(news_data_df['category'].replace({0:'misc.forsale', 1:'sci.electronics', 2:'talk.religion.misc'}),\\\n",
    "            news_data_df['obtained_clusters'].replace({0 : 'cluster_1', 1 : 'cluster_2', 2 : 'cluster_3', 3: 'cluster_4'}))"
   ]
  },
  {
   "cell_type": "markdown",
   "metadata": {},
   "source": [
    "Finally, to obtain the optimal value of $k$, that is, the number of clusters, we execute the <code>k-means</code> algorithm for values of $k$ ranging from $1$ to $6$. For each value of $k$, we store the distortion, that is, the mean of distances of documents from their nearest cluster center. We look for the value of $k$ where the slope of the plot changes rapidly."
   ]
  },
  {
   "cell_type": "code",
   "execution_count": 35,
   "metadata": {},
   "outputs": [
    {
     "data": {
      "image/png": "[encoded data removed]",
      "text/plain": [
       "<Figure size 432x288 with 1 Axes>"
      ]
     },
     "metadata": {},
     "output_type": "display_data"
    }
   ],
   "source": [
    "distortions = []\n",
    "K = range(1,6)\n",
    "\n",
    "for k in K:\n",
    "    kmeanModel = KMeans(n_clusters=k)\n",
    "    kmeanModel.fit(tfidf_df)\n",
    "    distortions.append(sum(np.min(cdist(tfidf_df, kmeanModel.cluster_centers_, 'euclidean'), axis=1)) / tfidf_df.shape[0])\n",
    "\n",
    "plt.plot(K, distortions, 'bx-')\n",
    "plt.xlabel('k')\n",
    "plt.ylabel('Distortion')\n",
    "plt.title('The Elbow Method Showing the Optimal Number of Clusters')\n",
    "plt.show()"
   ]
  },
  {
   "cell_type": "markdown",
   "metadata": {},
   "source": [
    "<h2>Exercise 3: Text Classification (Logistic regression, Naive Bayes and KNN)</h2>\n",
    "<br>\n",
    "In this exercise, we will classify reviews of musical instruments on Amazon with the help of various classification algorithms, such as logistic regression, Naïve Bayes, and KNN"
   ]
  },
  {
   "cell_type": "code",
   "execution_count": 19,
   "metadata": {},
   "outputs": [],
   "source": [
    "import pandas as pd\n",
    "import matplotlib.pyplot as plt\n",
    "%matplotlib inline\n",
    "import re\n",
    "import string\n",
    "from nltk import word_tokenize\n",
    "from nltk.stem import WordNetLemmatizer\n",
    "\n",
    "from sklearn.feature_extraction.text import TfidfVectorizer\n",
    "from sklearn.linear_model import LogisticRegression\n",
    "from sklearn.naive_bayes import GaussianNB\n",
    "from sklearn.neighbors import KNeighborsClassifier\n",
    "\n",
    "from collections import Counter\n",
    "from pylab import *\n",
    "import nltk\n",
    "import warnings\n",
    "warnings.filterwarnings('ignore')"
   ]
  },
  {
   "cell_type": "markdown",
   "metadata": {},
   "source": [
    "Now, we will read the data file in <code>JSON</code> format using <code>pandas</code>"
   ]
  },
  {
   "cell_type": "code",
   "execution_count": 2,
   "metadata": {},
   "outputs": [
    {
     "data": {
      "text/html": [
       "<div>\n",
       "<style scoped>\n",
       "    .dataframe tbody tr th:only-of-type {\n",
       "        vertical-align: middle;\n",
       "    }\n",
       "\n",
       "    .dataframe tbody tr th {\n",
       "        vertical-align: top;\n",
       "    }\n",
       "\n",
       "    .dataframe thead th {\n",
       "        text-align: right;\n",
       "    }\n",
       "</style>\n",
       "<table border=\"1\" class=\"dataframe\">\n",
       "  <thead>\n",
       "    <tr style=\"text-align: right;\">\n",
       "      <th></th>\n",
       "      <th>reviewText</th>\n",
       "      <th>overall</th>\n",
       "    </tr>\n",
       "  </thead>\n",
       "  <tbody>\n",
       "    <tr>\n",
       "      <th>0</th>\n",
       "      <td>Not much to write about here, but it does exac...</td>\n",
       "      <td>5</td>\n",
       "    </tr>\n",
       "    <tr>\n",
       "      <th>1</th>\n",
       "      <td>The product does exactly as it should and is q...</td>\n",
       "      <td>5</td>\n",
       "    </tr>\n",
       "    <tr>\n",
       "      <th>2</th>\n",
       "      <td>The primary job of this device is to block the...</td>\n",
       "      <td>5</td>\n",
       "    </tr>\n",
       "    <tr>\n",
       "      <th>3</th>\n",
       "      <td>Nice windscreen protects my MXL mic and preven...</td>\n",
       "      <td>5</td>\n",
       "    </tr>\n",
       "    <tr>\n",
       "      <th>4</th>\n",
       "      <td>This pop filter is great. It looks and perform...</td>\n",
       "      <td>5</td>\n",
       "    </tr>\n",
       "  </tbody>\n",
       "</table>\n",
       "</div>"
      ],
      "text/plain": [
       "                                          reviewText  overall\n",
       "0  Not much to write about here, but it does exac...        5\n",
       "1  The product does exactly as it should and is q...        5\n",
       "2  The primary job of this device is to block the...        5\n",
       "3  Nice windscreen protects my MXL mic and preven...        5\n",
       "4  This pop filter is great. It looks and perform...        5"
      ]
     },
     "execution_count": 2,
     "metadata": {},
     "output_type": "execute_result"
    }
   ],
   "source": [
    "review_data = pd.read_json('reviews_Musical_Instruments_5.json', lines=True)\n",
    "review_data[['reviewText', 'overall']].head()"
   ]
  },
  {
   "cell_type": "markdown",
   "metadata": {},
   "source": [
    "In the next cell, we will use a <code>lambda</code> function to extract tokens from each <code>'reviewText'</code> raw of the <code>news_data_df DataFrame</code>, check whether any of these tokens are stop words, lemmatize them, and concatenate them side by side. We make use of the <code>join</code> function to concatenate a list of words into a single sentence. We use the regular expression (<code>re</code>) to replace anything other than alphabets, digits, and white spaces with blank space."
   ]
  },
  {
   "cell_type": "code",
   "execution_count": 3,
   "metadata": {},
   "outputs": [],
   "source": [
    "lemmatizer = WordNetLemmatizer()\n",
    "review_data['cleaned_review_text'] = review_data['reviewText'].apply(\\\n",
    "lambda x : ' '.join([lemmatizer.lemmatize(word.lower()) for word in word_tokenize(re.sub(r'([^\\s\\w]|_)+', ' ', str(x)))]))"
   ]
  },
  {
   "cell_type": "markdown",
   "metadata": {},
   "source": [
    "Now, we'll create a <code>DataFrame</code> from the TFIDF matrix representation of the cleaned version of <code>reviewText</code>"
   ]
  },
  {
   "cell_type": "code",
   "execution_count": 4,
   "metadata": {},
   "outputs": [
    {
     "data": {
      "text/html": [
       "<div>\n",
       "<style scoped>\n",
       "    .dataframe tbody tr th:only-of-type {\n",
       "        vertical-align: middle;\n",
       "    }\n",
       "\n",
       "    .dataframe tbody tr th {\n",
       "        vertical-align: top;\n",
       "    }\n",
       "\n",
       "    .dataframe thead th {\n",
       "        text-align: right;\n",
       "    }\n",
       "</style>\n",
       "<table border=\"1\" class=\"dataframe\">\n",
       "  <thead>\n",
       "    <tr style=\"text-align: right;\">\n",
       "      <th></th>\n",
       "      <th>cleaned_review_text</th>\n",
       "      <th>reviewText</th>\n",
       "      <th>overall</th>\n",
       "    </tr>\n",
       "  </thead>\n",
       "  <tbody>\n",
       "    <tr>\n",
       "      <th>0</th>\n",
       "      <td>not much to write about here but it doe exactl...</td>\n",
       "      <td>Not much to write about here, but it does exac...</td>\n",
       "      <td>5</td>\n",
       "    </tr>\n",
       "    <tr>\n",
       "      <th>1</th>\n",
       "      <td>the product doe exactly a it should and is qui...</td>\n",
       "      <td>The product does exactly as it should and is q...</td>\n",
       "      <td>5</td>\n",
       "    </tr>\n",
       "    <tr>\n",
       "      <th>2</th>\n",
       "      <td>the primary job of this device is to block the...</td>\n",
       "      <td>The primary job of this device is to block the...</td>\n",
       "      <td>5</td>\n",
       "    </tr>\n",
       "    <tr>\n",
       "      <th>3</th>\n",
       "      <td>nice windscreen protects my mxl mic and preven...</td>\n",
       "      <td>Nice windscreen protects my MXL mic and preven...</td>\n",
       "      <td>5</td>\n",
       "    </tr>\n",
       "    <tr>\n",
       "      <th>4</th>\n",
       "      <td>this pop filter is great it look and performs ...</td>\n",
       "      <td>This pop filter is great. It looks and perform...</td>\n",
       "      <td>5</td>\n",
       "    </tr>\n",
       "  </tbody>\n",
       "</table>\n",
       "</div>"
      ],
      "text/plain": [
       "                                 cleaned_review_text  \\\n",
       "0  not much to write about here but it doe exactl...   \n",
       "1  the product doe exactly a it should and is qui...   \n",
       "2  the primary job of this device is to block the...   \n",
       "3  nice windscreen protects my mxl mic and preven...   \n",
       "4  this pop filter is great it look and performs ...   \n",
       "\n",
       "                                          reviewText  overall  \n",
       "0  Not much to write about here, but it does exac...        5  \n",
       "1  The product does exactly as it should and is q...        5  \n",
       "2  The primary job of this device is to block the...        5  \n",
       "3  Nice windscreen protects my MXL mic and preven...        5  \n",
       "4  This pop filter is great. It looks and perform...        5  "
      ]
     },
     "execution_count": 4,
     "metadata": {},
     "output_type": "execute_result"
    }
   ],
   "source": [
    "review_data[['cleaned_review_text', 'reviewText', 'overall']].head()"
   ]
  },
  {
   "cell_type": "markdown",
   "metadata": {},
   "source": [
    "Now, we'll create a tf-idf matrix and transform it into a <code>DataFrame</code>"
   ]
  },
  {
   "cell_type": "code",
   "execution_count": 5,
   "metadata": {},
   "outputs": [
    {
     "data": {
      "text/html": [
       "<div>\n",
       "<style scoped>\n",
       "    .dataframe tbody tr th:only-of-type {\n",
       "        vertical-align: middle;\n",
       "    }\n",
       "\n",
       "    .dataframe tbody tr th {\n",
       "        vertical-align: top;\n",
       "    }\n",
       "\n",
       "    .dataframe thead th {\n",
       "        text-align: right;\n",
       "    }\n",
       "</style>\n",
       "<table border=\"1\" class=\"dataframe\">\n",
       "  <thead>\n",
       "    <tr style=\"text-align: right;\">\n",
       "      <th></th>\n",
       "      <th>10</th>\n",
       "      <th>100</th>\n",
       "      <th>12</th>\n",
       "      <th>20</th>\n",
       "      <th>34</th>\n",
       "      <th>able</th>\n",
       "      <th>about</th>\n",
       "      <th>accurate</th>\n",
       "      <th>acoustic</th>\n",
       "      <th>actually</th>\n",
       "      <th>...</th>\n",
       "      <th>won</th>\n",
       "      <th>work</th>\n",
       "      <th>worked</th>\n",
       "      <th>worth</th>\n",
       "      <th>would</th>\n",
       "      <th>wrong</th>\n",
       "      <th>year</th>\n",
       "      <th>yet</th>\n",
       "      <th>you</th>\n",
       "      <th>your</th>\n",
       "    </tr>\n",
       "  </thead>\n",
       "  <tbody>\n",
       "    <tr>\n",
       "      <th>0</th>\n",
       "      <td>0.0</td>\n",
       "      <td>0.0</td>\n",
       "      <td>0.0</td>\n",
       "      <td>0.0</td>\n",
       "      <td>0.0</td>\n",
       "      <td>0.000000</td>\n",
       "      <td>0.159684</td>\n",
       "      <td>0.0</td>\n",
       "      <td>0.0</td>\n",
       "      <td>0.0</td>\n",
       "      <td>...</td>\n",
       "      <td>0.0</td>\n",
       "      <td>0.134327</td>\n",
       "      <td>0.0</td>\n",
       "      <td>0.0</td>\n",
       "      <td>0.000000</td>\n",
       "      <td>0.0</td>\n",
       "      <td>0.0</td>\n",
       "      <td>0.0</td>\n",
       "      <td>0.000000</td>\n",
       "      <td>0.000000</td>\n",
       "    </tr>\n",
       "    <tr>\n",
       "      <th>1</th>\n",
       "      <td>0.0</td>\n",
       "      <td>0.0</td>\n",
       "      <td>0.0</td>\n",
       "      <td>0.0</td>\n",
       "      <td>0.0</td>\n",
       "      <td>0.000000</td>\n",
       "      <td>0.000000</td>\n",
       "      <td>0.0</td>\n",
       "      <td>0.0</td>\n",
       "      <td>0.0</td>\n",
       "      <td>...</td>\n",
       "      <td>0.0</td>\n",
       "      <td>0.085436</td>\n",
       "      <td>0.0</td>\n",
       "      <td>0.0</td>\n",
       "      <td>0.000000</td>\n",
       "      <td>0.0</td>\n",
       "      <td>0.0</td>\n",
       "      <td>0.0</td>\n",
       "      <td>0.067074</td>\n",
       "      <td>0.000000</td>\n",
       "    </tr>\n",
       "    <tr>\n",
       "      <th>2</th>\n",
       "      <td>0.0</td>\n",
       "      <td>0.0</td>\n",
       "      <td>0.0</td>\n",
       "      <td>0.0</td>\n",
       "      <td>0.0</td>\n",
       "      <td>0.000000</td>\n",
       "      <td>0.000000</td>\n",
       "      <td>0.0</td>\n",
       "      <td>0.0</td>\n",
       "      <td>0.0</td>\n",
       "      <td>...</td>\n",
       "      <td>0.0</td>\n",
       "      <td>0.000000</td>\n",
       "      <td>0.0</td>\n",
       "      <td>0.0</td>\n",
       "      <td>0.115312</td>\n",
       "      <td>0.0</td>\n",
       "      <td>0.0</td>\n",
       "      <td>0.0</td>\n",
       "      <td>0.079880</td>\n",
       "      <td>0.111989</td>\n",
       "    </tr>\n",
       "    <tr>\n",
       "      <th>3</th>\n",
       "      <td>0.0</td>\n",
       "      <td>0.0</td>\n",
       "      <td>0.0</td>\n",
       "      <td>0.0</td>\n",
       "      <td>0.0</td>\n",
       "      <td>0.339573</td>\n",
       "      <td>0.000000</td>\n",
       "      <td>0.0</td>\n",
       "      <td>0.0</td>\n",
       "      <td>0.0</td>\n",
       "      <td>...</td>\n",
       "      <td>0.0</td>\n",
       "      <td>0.000000</td>\n",
       "      <td>0.0</td>\n",
       "      <td>0.0</td>\n",
       "      <td>0.000000</td>\n",
       "      <td>0.0</td>\n",
       "      <td>0.0</td>\n",
       "      <td>0.0</td>\n",
       "      <td>0.000000</td>\n",
       "      <td>0.000000</td>\n",
       "    </tr>\n",
       "    <tr>\n",
       "      <th>4</th>\n",
       "      <td>0.0</td>\n",
       "      <td>0.0</td>\n",
       "      <td>0.0</td>\n",
       "      <td>0.0</td>\n",
       "      <td>0.0</td>\n",
       "      <td>0.000000</td>\n",
       "      <td>0.000000</td>\n",
       "      <td>0.0</td>\n",
       "      <td>0.0</td>\n",
       "      <td>0.0</td>\n",
       "      <td>...</td>\n",
       "      <td>0.0</td>\n",
       "      <td>0.000000</td>\n",
       "      <td>0.0</td>\n",
       "      <td>0.0</td>\n",
       "      <td>0.000000</td>\n",
       "      <td>0.0</td>\n",
       "      <td>0.0</td>\n",
       "      <td>0.0</td>\n",
       "      <td>0.303608</td>\n",
       "      <td>0.000000</td>\n",
       "    </tr>\n",
       "  </tbody>\n",
       "</table>\n",
       "<p>5 rows × 500 columns</p>\n",
       "</div>"
      ],
      "text/plain": [
       "    10  100   12   20   34      able     about  accurate  acoustic  actually  \\\n",
       "0  0.0  0.0  0.0  0.0  0.0  0.000000  0.159684       0.0       0.0       0.0   \n",
       "1  0.0  0.0  0.0  0.0  0.0  0.000000  0.000000       0.0       0.0       0.0   \n",
       "2  0.0  0.0  0.0  0.0  0.0  0.000000  0.000000       0.0       0.0       0.0   \n",
       "3  0.0  0.0  0.0  0.0  0.0  0.339573  0.000000       0.0       0.0       0.0   \n",
       "4  0.0  0.0  0.0  0.0  0.0  0.000000  0.000000       0.0       0.0       0.0   \n",
       "\n",
       "   ...  won      work  worked  worth     would  wrong  year  yet       you  \\\n",
       "0  ...  0.0  0.134327     0.0    0.0  0.000000    0.0   0.0  0.0  0.000000   \n",
       "1  ...  0.0  0.085436     0.0    0.0  0.000000    0.0   0.0  0.0  0.067074   \n",
       "2  ...  0.0  0.000000     0.0    0.0  0.115312    0.0   0.0  0.0  0.079880   \n",
       "3  ...  0.0  0.000000     0.0    0.0  0.000000    0.0   0.0  0.0  0.000000   \n",
       "4  ...  0.0  0.000000     0.0    0.0  0.000000    0.0   0.0  0.0  0.303608   \n",
       "\n",
       "       your  \n",
       "0  0.000000  \n",
       "1  0.000000  \n",
       "2  0.111989  \n",
       "3  0.000000  \n",
       "4  0.000000  \n",
       "\n",
       "[5 rows x 500 columns]"
      ]
     },
     "execution_count": 5,
     "metadata": {},
     "output_type": "execute_result"
    }
   ],
   "source": [
    "tfidf_model = TfidfVectorizer(max_features=500)\n",
    "tfidf_df = pd.DataFrame(tfidf_model.fit_transform(review_data['cleaned_review_text']).todense())\n",
    "tfidf_df.columns = sorted(tfidf_model.vocabulary_)\n",
    "tfidf_df.head()"
   ]
  },
  {
   "cell_type": "markdown",
   "metadata": {},
   "source": [
    "The following lines of code are used to create a new column target, which will have $0$ if the <code>overall</code> parameter is less than $4$, and $1$ otherwise.\n",
    "<br>\n",
    "<br>\n",
    "Let's consider review with <code>overall</code> $score <= 4$ to be negative (encode it as $0$)  and overall $score > 4$ to be positive (encode it as 1)"
   ]
  },
  {
   "cell_type": "code",
   "execution_count": 6,
   "metadata": {},
   "outputs": [
    {
     "data": {
      "text/plain": [
       "1    6938\n",
       "0    3323\n",
       "Name: target, dtype: int64"
      ]
     },
     "execution_count": 6,
     "metadata": {},
     "output_type": "execute_result"
    }
   ],
   "source": [
    "review_data['target'] = review_data['overall'].apply(lambda x : 0 if x<=4 else 1)\n",
    "review_data['target'].value_counts()"
   ]
  },
  {
   "cell_type": "markdown",
   "metadata": {},
   "source": [
    "Now, we will use <code>LogisticRegression()</code> from <code>sklearn</code>, to fit a logistic regression model on the TF-IDF representation of these reviews after cleaning. "
   ]
  },
  {
   "cell_type": "code",
   "execution_count": 11,
   "metadata": {},
   "outputs": [
    {
     "data": {
      "text/plain": [
       "array([0.57128792, 0.68592533, 0.56024418, ..., 0.65982135, 0.55011397,\n",
       "       0.21210037])"
      ]
     },
     "execution_count": 11,
     "metadata": {},
     "output_type": "execute_result"
    }
   ],
   "source": [
    "logreg = LogisticRegression()\n",
    "logreg.fit(tfidf_df,review_data['target'])\n",
    "predicted_labels = logreg.predict(tfidf_df)\n",
    "logreg.predict_proba(tfidf_df)[:,1]"
   ]
  },
  {
   "cell_type": "markdown",
   "metadata": {},
   "source": [
    "We further use the <code>crosstab</code> function of <code>pandas</code> to compare the results of our classification model with the actual classes (<code>target</code> in this case) of the reviews."
   ]
  },
  {
   "cell_type": "code",
   "execution_count": 12,
   "metadata": {},
   "outputs": [
    {
     "data": {
      "text/html": [
       "<div>\n",
       "<style scoped>\n",
       "    .dataframe tbody tr th:only-of-type {\n",
       "        vertical-align: middle;\n",
       "    }\n",
       "\n",
       "    .dataframe tbody tr th {\n",
       "        vertical-align: top;\n",
       "    }\n",
       "\n",
       "    .dataframe thead th {\n",
       "        text-align: right;\n",
       "    }\n",
       "</style>\n",
       "<table border=\"1\" class=\"dataframe\">\n",
       "  <thead>\n",
       "    <tr style=\"text-align: right;\">\n",
       "      <th>predicted_labels</th>\n",
       "      <th>0</th>\n",
       "      <th>1</th>\n",
       "    </tr>\n",
       "    <tr>\n",
       "      <th>target</th>\n",
       "      <th></th>\n",
       "      <th></th>\n",
       "    </tr>\n",
       "  </thead>\n",
       "  <tbody>\n",
       "    <tr>\n",
       "      <th>0</th>\n",
       "      <td>1543</td>\n",
       "      <td>1780</td>\n",
       "    </tr>\n",
       "    <tr>\n",
       "      <th>1</th>\n",
       "      <td>626</td>\n",
       "      <td>6312</td>\n",
       "    </tr>\n",
       "  </tbody>\n",
       "</table>\n",
       "</div>"
      ],
      "text/plain": [
       "predicted_labels     0     1\n",
       "target                      \n",
       "0                 1543  1780\n",
       "1                  626  6312"
      ]
     },
     "execution_count": 12,
     "metadata": {},
     "output_type": "execute_result"
    }
   ],
   "source": [
    "review_data['predicted_labels'] = predicted_labels\n",
    "pd.crosstab(review_data['target'], review_data['predicted_labels'])"
   ]
  },
  {
   "cell_type": "markdown",
   "metadata": {},
   "source": [
    "In this step, we'll be using <code>GaussianNB()</code> from <code>sklearn</code>, to fit a Gaussian Naive Bayes model on the TF-IDF representation of these reviews after cleaning."
   ]
  },
  {
   "cell_type": "code",
   "execution_count": 16,
   "metadata": {},
   "outputs": [
    {
     "data": {
      "text/plain": [
       "array([9.97730158e-01, 3.63599675e-09, 9.45692105e-07, ...,\n",
       "       2.46001047e-02, 3.43660991e-08, 1.72767906e-27])"
      ]
     },
     "execution_count": 16,
     "metadata": {},
     "output_type": "execute_result"
    }
   ],
   "source": [
    "nb = GaussianNB()\n",
    "nb.fit(tfidf_df,review_data['target'])\n",
    "predicted_labels = nb.predict(tfidf_df)\n",
    "nb.predict_proba(tfidf_df)[:,1]"
   ]
  },
  {
   "cell_type": "markdown",
   "metadata": {},
   "source": [
    "We further use the <code>crosstab</code> function of <code>pandas</code> to compare the results of our classification model with the actual classes (<code>target</code> in this case) of the reviews."
   ]
  },
  {
   "cell_type": "code",
   "execution_count": 17,
   "metadata": {},
   "outputs": [
    {
     "data": {
      "text/html": [
       "<div>\n",
       "<style scoped>\n",
       "    .dataframe tbody tr th:only-of-type {\n",
       "        vertical-align: middle;\n",
       "    }\n",
       "\n",
       "    .dataframe tbody tr th {\n",
       "        vertical-align: top;\n",
       "    }\n",
       "\n",
       "    .dataframe thead th {\n",
       "        text-align: right;\n",
       "    }\n",
       "</style>\n",
       "<table border=\"1\" class=\"dataframe\">\n",
       "  <thead>\n",
       "    <tr style=\"text-align: right;\">\n",
       "      <th>predicted_labels_nb</th>\n",
       "      <th>0</th>\n",
       "      <th>1</th>\n",
       "    </tr>\n",
       "    <tr>\n",
       "      <th>target</th>\n",
       "      <th></th>\n",
       "      <th></th>\n",
       "    </tr>\n",
       "  </thead>\n",
       "  <tbody>\n",
       "    <tr>\n",
       "      <th>0</th>\n",
       "      <td>2333</td>\n",
       "      <td>990</td>\n",
       "    </tr>\n",
       "    <tr>\n",
       "      <th>1</th>\n",
       "      <td>2380</td>\n",
       "      <td>4558</td>\n",
       "    </tr>\n",
       "  </tbody>\n",
       "</table>\n",
       "</div>"
      ],
      "text/plain": [
       "predicted_labels_nb     0     1\n",
       "target                         \n",
       "0                    2333   990\n",
       "1                    2380  4558"
      ]
     },
     "execution_count": 17,
     "metadata": {},
     "output_type": "execute_result"
    }
   ],
   "source": [
    "review_data['predicted_labels_nb'] = predicted_labels\n",
    "pd.crosstab(review_data['target'], review_data['predicted_labels_nb'])"
   ]
  },
  {
   "cell_type": "markdown",
   "metadata": {},
   "source": [
    "Now, we'll be using <code>KNeighborsClassifier()</code> from <code>sklearn</code>, to fit a 3-Nearest Neighbour model on the TF-IDF representation of these reviews after cleaning."
   ]
  },
  {
   "cell_type": "code",
   "execution_count": 22,
   "metadata": {},
   "outputs": [],
   "source": [
    "knn = KNeighborsClassifier(n_neighbors=3)\n",
    "knn.fit(tfidf_df,review_data['target'])\n",
    "review_data['predicted_labels_knn'] = knn.predict(tfidf_df)"
   ]
  },
  {
   "cell_type": "markdown",
   "metadata": {},
   "source": [
    "We further use the <code>crosstab</code> function of <code>pandas</code> to compare the results of our classification model with the actual classes (<code>target</code> in this case) of the reviews."
   ]
  },
  {
   "cell_type": "code",
   "execution_count": 21,
   "metadata": {},
   "outputs": [
    {
     "data": {
      "text/html": [
       "<div>\n",
       "<style scoped>\n",
       "    .dataframe tbody tr th:only-of-type {\n",
       "        vertical-align: middle;\n",
       "    }\n",
       "\n",
       "    .dataframe tbody tr th {\n",
       "        vertical-align: top;\n",
       "    }\n",
       "\n",
       "    .dataframe thead th {\n",
       "        text-align: right;\n",
       "    }\n",
       "</style>\n",
       "<table border=\"1\" class=\"dataframe\">\n",
       "  <thead>\n",
       "    <tr style=\"text-align: right;\">\n",
       "      <th>predicted_labels_knn</th>\n",
       "      <th>0</th>\n",
       "      <th>1</th>\n",
       "    </tr>\n",
       "    <tr>\n",
       "      <th>target</th>\n",
       "      <th></th>\n",
       "      <th></th>\n",
       "    </tr>\n",
       "  </thead>\n",
       "  <tbody>\n",
       "    <tr>\n",
       "      <th>0</th>\n",
       "      <td>2594</td>\n",
       "      <td>729</td>\n",
       "    </tr>\n",
       "    <tr>\n",
       "      <th>1</th>\n",
       "      <td>375</td>\n",
       "      <td>6563</td>\n",
       "    </tr>\n",
       "  </tbody>\n",
       "</table>\n",
       "</div>"
      ],
      "text/plain": [
       "predicted_labels_knn     0     1\n",
       "target                          \n",
       "0                     2594   729\n",
       "1                      375  6563"
      ]
     },
     "execution_count": 21,
     "metadata": {},
     "output_type": "execute_result"
    }
   ],
   "source": [
    "pd.crosstab(review_data['target'], review_data['predicted_labels_knn'])"
   ]
  },
  {
   "cell_type": "markdown",
   "metadata": {},
   "source": [
    "Here, we see $2594$ instances with the target label as $0$ correctly classified and $729$ such instances wrongly classified. Furthermore, $6563$ instances with the target label as $1$ are correctly classified, whereas $375$ such instances are wrongly classified."
   ]
  },
  {
   "cell_type": "markdown",
   "metadata": {},
   "source": [
    "<h2>Exercise 4: Regression Analysis Using Textual Data</h2>\n",
    "<br>\n",
    "In this exercise, we will use regression to predict the overall scores of reviews of musical instruments on Amazon."
   ]
  },
  {
   "cell_type": "code",
   "execution_count": 28,
   "metadata": {},
   "outputs": [],
   "source": [
    "import pandas as pd\n",
    "import matplotlib.pyplot as plt\n",
    "%matplotlib inline\n",
    "import re\n",
    "import string\n",
    "from nltk import word_tokenize\n",
    "from nltk.stem import WordNetLemmatizer\n",
    "from sklearn.linear_model import LinearRegression\n",
    "from sklearn.feature_extraction.text import TfidfVectorizer\n",
    "from collections import Counter\n",
    "from pylab import *\n",
    "import nltk\n",
    "import warnings\n",
    "warnings.filterwarnings('ignore')"
   ]
  },
  {
   "cell_type": "markdown",
   "metadata": {},
   "source": [
    "Now, we will read the data file in <code>JSON</code> format using <code>pandas</code>"
   ]
  },
  {
   "cell_type": "code",
   "execution_count": 24,
   "metadata": {},
   "outputs": [
    {
     "data": {
      "text/html": [
       "<div>\n",
       "<style scoped>\n",
       "    .dataframe tbody tr th:only-of-type {\n",
       "        vertical-align: middle;\n",
       "    }\n",
       "\n",
       "    .dataframe tbody tr th {\n",
       "        vertical-align: top;\n",
       "    }\n",
       "\n",
       "    .dataframe thead th {\n",
       "        text-align: right;\n",
       "    }\n",
       "</style>\n",
       "<table border=\"1\" class=\"dataframe\">\n",
       "  <thead>\n",
       "    <tr style=\"text-align: right;\">\n",
       "      <th></th>\n",
       "      <th>reviewText</th>\n",
       "      <th>overall</th>\n",
       "    </tr>\n",
       "  </thead>\n",
       "  <tbody>\n",
       "    <tr>\n",
       "      <th>0</th>\n",
       "      <td>Not much to write about here, but it does exac...</td>\n",
       "      <td>5</td>\n",
       "    </tr>\n",
       "    <tr>\n",
       "      <th>1</th>\n",
       "      <td>The product does exactly as it should and is q...</td>\n",
       "      <td>5</td>\n",
       "    </tr>\n",
       "    <tr>\n",
       "      <th>2</th>\n",
       "      <td>The primary job of this device is to block the...</td>\n",
       "      <td>5</td>\n",
       "    </tr>\n",
       "    <tr>\n",
       "      <th>3</th>\n",
       "      <td>Nice windscreen protects my MXL mic and preven...</td>\n",
       "      <td>5</td>\n",
       "    </tr>\n",
       "    <tr>\n",
       "      <th>4</th>\n",
       "      <td>This pop filter is great. It looks and perform...</td>\n",
       "      <td>5</td>\n",
       "    </tr>\n",
       "  </tbody>\n",
       "</table>\n",
       "</div>"
      ],
      "text/plain": [
       "                                          reviewText  overall\n",
       "0  Not much to write about here, but it does exac...        5\n",
       "1  The product does exactly as it should and is q...        5\n",
       "2  The primary job of this device is to block the...        5\n",
       "3  Nice windscreen protects my MXL mic and preven...        5\n",
       "4  This pop filter is great. It looks and perform...        5"
      ]
     },
     "execution_count": 24,
     "metadata": {},
     "output_type": "execute_result"
    }
   ],
   "source": [
    "review_data = pd.read_json('reviews_Musical_Instruments_5.json', lines=True)\n",
    "review_data[['reviewText', 'overall']].head()"
   ]
  },
  {
   "cell_type": "markdown",
   "metadata": {},
   "source": [
    "In the next cell, we will use a <code>lambda</code> function to extract tokens from each <code>'reviewText'</code> raw of the <code>news_data_df DataFrame</code>, check whether any of these tokens are stop words, lemmatize them, and concatenate them side by side. We make use of the <code>join</code> function to concatenate a list of words into a single sentence. We use the regular expression (<code>re</code>) to replace anything other than alphabets, digits, and white spaces with blank space."
   ]
  },
  {
   "cell_type": "code",
   "execution_count": 26,
   "metadata": {},
   "outputs": [
    {
     "data": {
      "text/html": [
       "<div>\n",
       "<style scoped>\n",
       "    .dataframe tbody tr th:only-of-type {\n",
       "        vertical-align: middle;\n",
       "    }\n",
       "\n",
       "    .dataframe tbody tr th {\n",
       "        vertical-align: top;\n",
       "    }\n",
       "\n",
       "    .dataframe thead th {\n",
       "        text-align: right;\n",
       "    }\n",
       "</style>\n",
       "<table border=\"1\" class=\"dataframe\">\n",
       "  <thead>\n",
       "    <tr style=\"text-align: right;\">\n",
       "      <th></th>\n",
       "      <th>cleaned_review_text</th>\n",
       "      <th>reviewText</th>\n",
       "      <th>overall</th>\n",
       "    </tr>\n",
       "  </thead>\n",
       "  <tbody>\n",
       "    <tr>\n",
       "      <th>0</th>\n",
       "      <td>not much to write about here but it doe exactl...</td>\n",
       "      <td>Not much to write about here, but it does exac...</td>\n",
       "      <td>5</td>\n",
       "    </tr>\n",
       "    <tr>\n",
       "      <th>1</th>\n",
       "      <td>the product doe exactly a it should and is qui...</td>\n",
       "      <td>The product does exactly as it should and is q...</td>\n",
       "      <td>5</td>\n",
       "    </tr>\n",
       "    <tr>\n",
       "      <th>2</th>\n",
       "      <td>the primary job of this device is to block the...</td>\n",
       "      <td>The primary job of this device is to block the...</td>\n",
       "      <td>5</td>\n",
       "    </tr>\n",
       "    <tr>\n",
       "      <th>3</th>\n",
       "      <td>nice windscreen protects my mxl mic and preven...</td>\n",
       "      <td>Nice windscreen protects my MXL mic and preven...</td>\n",
       "      <td>5</td>\n",
       "    </tr>\n",
       "    <tr>\n",
       "      <th>4</th>\n",
       "      <td>this pop filter is great it look and performs ...</td>\n",
       "      <td>This pop filter is great. It looks and perform...</td>\n",
       "      <td>5</td>\n",
       "    </tr>\n",
       "  </tbody>\n",
       "</table>\n",
       "</div>"
      ],
      "text/plain": [
       "                                 cleaned_review_text  \\\n",
       "0  not much to write about here but it doe exactl...   \n",
       "1  the product doe exactly a it should and is qui...   \n",
       "2  the primary job of this device is to block the...   \n",
       "3  nice windscreen protects my mxl mic and preven...   \n",
       "4  this pop filter is great it look and performs ...   \n",
       "\n",
       "                                          reviewText  overall  \n",
       "0  Not much to write about here, but it does exac...        5  \n",
       "1  The product does exactly as it should and is q...        5  \n",
       "2  The primary job of this device is to block the...        5  \n",
       "3  Nice windscreen protects my MXL mic and preven...        5  \n",
       "4  This pop filter is great. It looks and perform...        5  "
      ]
     },
     "execution_count": 26,
     "metadata": {},
     "output_type": "execute_result"
    }
   ],
   "source": [
    "lemmatizer = WordNetLemmatizer()\n",
    "review_data['cleaned_review_text'] = review_data['reviewText'].apply(\\\n",
    "lambda x : ' '.join([lemmatizer.lemmatize(word.lower()) for word in word_tokenize(re.sub(r'([^\\s\\w]|_)+', ' ', str(x)))]))\n",
    "review_data[['cleaned_review_text', 'reviewText', 'overall']].head()"
   ]
  },
  {
   "cell_type": "markdown",
   "metadata": {},
   "source": [
    "Now, we'll create a <code>DataFrame</code> from the TFIDF matrix representation of the cleaned version of <code>reviewText</code>"
   ]
  },
  {
   "cell_type": "code",
   "execution_count": 27,
   "metadata": {},
   "outputs": [
    {
     "data": {
      "text/html": [
       "<div>\n",
       "<style scoped>\n",
       "    .dataframe tbody tr th:only-of-type {\n",
       "        vertical-align: middle;\n",
       "    }\n",
       "\n",
       "    .dataframe tbody tr th {\n",
       "        vertical-align: top;\n",
       "    }\n",
       "\n",
       "    .dataframe thead th {\n",
       "        text-align: right;\n",
       "    }\n",
       "</style>\n",
       "<table border=\"1\" class=\"dataframe\">\n",
       "  <thead>\n",
       "    <tr style=\"text-align: right;\">\n",
       "      <th></th>\n",
       "      <th>10</th>\n",
       "      <th>100</th>\n",
       "      <th>12</th>\n",
       "      <th>20</th>\n",
       "      <th>34</th>\n",
       "      <th>able</th>\n",
       "      <th>about</th>\n",
       "      <th>accurate</th>\n",
       "      <th>acoustic</th>\n",
       "      <th>actually</th>\n",
       "      <th>...</th>\n",
       "      <th>won</th>\n",
       "      <th>work</th>\n",
       "      <th>worked</th>\n",
       "      <th>worth</th>\n",
       "      <th>would</th>\n",
       "      <th>wrong</th>\n",
       "      <th>year</th>\n",
       "      <th>yet</th>\n",
       "      <th>you</th>\n",
       "      <th>your</th>\n",
       "    </tr>\n",
       "  </thead>\n",
       "  <tbody>\n",
       "    <tr>\n",
       "      <th>0</th>\n",
       "      <td>0.0</td>\n",
       "      <td>0.0</td>\n",
       "      <td>0.0</td>\n",
       "      <td>0.0</td>\n",
       "      <td>0.0</td>\n",
       "      <td>0.000000</td>\n",
       "      <td>0.159684</td>\n",
       "      <td>0.0</td>\n",
       "      <td>0.0</td>\n",
       "      <td>0.0</td>\n",
       "      <td>...</td>\n",
       "      <td>0.0</td>\n",
       "      <td>0.134327</td>\n",
       "      <td>0.0</td>\n",
       "      <td>0.0</td>\n",
       "      <td>0.000000</td>\n",
       "      <td>0.0</td>\n",
       "      <td>0.0</td>\n",
       "      <td>0.0</td>\n",
       "      <td>0.000000</td>\n",
       "      <td>0.000000</td>\n",
       "    </tr>\n",
       "    <tr>\n",
       "      <th>1</th>\n",
       "      <td>0.0</td>\n",
       "      <td>0.0</td>\n",
       "      <td>0.0</td>\n",
       "      <td>0.0</td>\n",
       "      <td>0.0</td>\n",
       "      <td>0.000000</td>\n",
       "      <td>0.000000</td>\n",
       "      <td>0.0</td>\n",
       "      <td>0.0</td>\n",
       "      <td>0.0</td>\n",
       "      <td>...</td>\n",
       "      <td>0.0</td>\n",
       "      <td>0.085436</td>\n",
       "      <td>0.0</td>\n",
       "      <td>0.0</td>\n",
       "      <td>0.000000</td>\n",
       "      <td>0.0</td>\n",
       "      <td>0.0</td>\n",
       "      <td>0.0</td>\n",
       "      <td>0.067074</td>\n",
       "      <td>0.000000</td>\n",
       "    </tr>\n",
       "    <tr>\n",
       "      <th>2</th>\n",
       "      <td>0.0</td>\n",
       "      <td>0.0</td>\n",
       "      <td>0.0</td>\n",
       "      <td>0.0</td>\n",
       "      <td>0.0</td>\n",
       "      <td>0.000000</td>\n",
       "      <td>0.000000</td>\n",
       "      <td>0.0</td>\n",
       "      <td>0.0</td>\n",
       "      <td>0.0</td>\n",
       "      <td>...</td>\n",
       "      <td>0.0</td>\n",
       "      <td>0.000000</td>\n",
       "      <td>0.0</td>\n",
       "      <td>0.0</td>\n",
       "      <td>0.115312</td>\n",
       "      <td>0.0</td>\n",
       "      <td>0.0</td>\n",
       "      <td>0.0</td>\n",
       "      <td>0.079880</td>\n",
       "      <td>0.111989</td>\n",
       "    </tr>\n",
       "    <tr>\n",
       "      <th>3</th>\n",
       "      <td>0.0</td>\n",
       "      <td>0.0</td>\n",
       "      <td>0.0</td>\n",
       "      <td>0.0</td>\n",
       "      <td>0.0</td>\n",
       "      <td>0.339573</td>\n",
       "      <td>0.000000</td>\n",
       "      <td>0.0</td>\n",
       "      <td>0.0</td>\n",
       "      <td>0.0</td>\n",
       "      <td>...</td>\n",
       "      <td>0.0</td>\n",
       "      <td>0.000000</td>\n",
       "      <td>0.0</td>\n",
       "      <td>0.0</td>\n",
       "      <td>0.000000</td>\n",
       "      <td>0.0</td>\n",
       "      <td>0.0</td>\n",
       "      <td>0.0</td>\n",
       "      <td>0.000000</td>\n",
       "      <td>0.000000</td>\n",
       "    </tr>\n",
       "    <tr>\n",
       "      <th>4</th>\n",
       "      <td>0.0</td>\n",
       "      <td>0.0</td>\n",
       "      <td>0.0</td>\n",
       "      <td>0.0</td>\n",
       "      <td>0.0</td>\n",
       "      <td>0.000000</td>\n",
       "      <td>0.000000</td>\n",
       "      <td>0.0</td>\n",
       "      <td>0.0</td>\n",
       "      <td>0.0</td>\n",
       "      <td>...</td>\n",
       "      <td>0.0</td>\n",
       "      <td>0.000000</td>\n",
       "      <td>0.0</td>\n",
       "      <td>0.0</td>\n",
       "      <td>0.000000</td>\n",
       "      <td>0.0</td>\n",
       "      <td>0.0</td>\n",
       "      <td>0.0</td>\n",
       "      <td>0.303608</td>\n",
       "      <td>0.000000</td>\n",
       "    </tr>\n",
       "  </tbody>\n",
       "</table>\n",
       "<p>5 rows × 500 columns</p>\n",
       "</div>"
      ],
      "text/plain": [
       "    10  100   12   20   34      able     about  accurate  acoustic  actually  \\\n",
       "0  0.0  0.0  0.0  0.0  0.0  0.000000  0.159684       0.0       0.0       0.0   \n",
       "1  0.0  0.0  0.0  0.0  0.0  0.000000  0.000000       0.0       0.0       0.0   \n",
       "2  0.0  0.0  0.0  0.0  0.0  0.000000  0.000000       0.0       0.0       0.0   \n",
       "3  0.0  0.0  0.0  0.0  0.0  0.339573  0.000000       0.0       0.0       0.0   \n",
       "4  0.0  0.0  0.0  0.0  0.0  0.000000  0.000000       0.0       0.0       0.0   \n",
       "\n",
       "   ...  won      work  worked  worth     would  wrong  year  yet       you  \\\n",
       "0  ...  0.0  0.134327     0.0    0.0  0.000000    0.0   0.0  0.0  0.000000   \n",
       "1  ...  0.0  0.085436     0.0    0.0  0.000000    0.0   0.0  0.0  0.067074   \n",
       "2  ...  0.0  0.000000     0.0    0.0  0.115312    0.0   0.0  0.0  0.079880   \n",
       "3  ...  0.0  0.000000     0.0    0.0  0.000000    0.0   0.0  0.0  0.000000   \n",
       "4  ...  0.0  0.000000     0.0    0.0  0.000000    0.0   0.0  0.0  0.303608   \n",
       "\n",
       "       your  \n",
       "0  0.000000  \n",
       "1  0.000000  \n",
       "2  0.111989  \n",
       "3  0.000000  \n",
       "4  0.000000  \n",
       "\n",
       "[5 rows x 500 columns]"
      ]
     },
     "execution_count": 27,
     "metadata": {},
     "output_type": "execute_result"
    }
   ],
   "source": [
    "tfidf_model = TfidfVectorizer(max_features=500)\n",
    "tfidf_df = pd.DataFrame(tfidf_model.fit_transform(review_data['cleaned_review_text']).todense())\n",
    "tfidf_df.columns = sorted(tfidf_model.vocabulary_)\n",
    "tfidf_df.head()"
   ]
  },
  {
   "cell_type": "markdown",
   "metadata": {},
   "source": [
    "Now, we'll be using <code>LinearRegression()</code> from <code>sklearn</code>, to fit a linear regression model on the TF-IDF representation of these reviews after cleaning."
   ]
  },
  {
   "cell_type": "code",
   "execution_count": 29,
   "metadata": {},
   "outputs": [
    {
     "data": {
      "text/plain": [
       "array([-1.93271993e-01,  5.65226131e-01,  5.63243687e-01, -1.84418658e-01,\n",
       "       -6.32257431e-02,  3.05320627e-01,  4.95264614e-01,  5.21333693e-01,\n",
       "        2.65736989e-01,  4.00058256e-01,  5.64020424e-01,  7.56022958e-01,\n",
       "        1.00174846e-02, -3.06429115e-01, -3.12104234e-01,  3.38294736e-01,\n",
       "       -6.05747380e-01, -1.04123996e-01,  5.58669738e-02, -1.13320890e-01,\n",
       "        4.79471129e-01,  1.49528459e-01,  7.79094545e-01, -3.63399268e-01,\n",
       "        1.25993539e-01, -6.29415062e-02,  4.94517373e-01, -3.34989132e-01,\n",
       "        2.55374355e-01,  8.84676972e-02, -3.68013360e-01, -1.09910777e-01,\n",
       "       -7.09777794e-03, -5.15547511e-02,  1.17415090e-01, -8.89213726e-02,\n",
       "        1.06398798e+00, -1.19791236e+00, -1.14906460e+00,  1.55215016e-01,\n",
       "       -5.05283241e-01,  2.43200389e-01,  8.56413437e-02, -3.74044994e-02,\n",
       "       -7.31390217e-03,  9.63911076e-01, -7.82062558e-02,  1.50616236e-01,\n",
       "       -9.35299622e-02,  1.87239631e-02,  9.34145997e-02,  1.18038260e+00,\n",
       "       -3.79855115e-01,  4.51076351e-02,  1.11808544e-01,  7.22506502e-03,\n",
       "        3.60057791e-01,  2.35459334e-01,  1.15359278e-01, -2.48993670e-01,\n",
       "        1.34437898e-01, -2.99424905e-01, -1.00687767e-01, -3.10436924e-01,\n",
       "        2.44420457e-02,  1.34593395e-01,  1.52613968e-01,  1.14304224e-01,\n",
       "        8.46643557e-02, -9.06292369e-02,  1.88909690e-01,  1.71488133e-01,\n",
       "       -1.37036225e+00,  3.67418288e-01,  3.00925842e-01,  3.45914386e-01,\n",
       "       -1.39496654e-01,  6.68231981e-02,  5.38717132e-01,  6.48768917e-01,\n",
       "        6.17383337e-02,  5.90813730e-02,  5.61672845e-01,  1.65737402e-01,\n",
       "       -8.01100597e-01,  9.93604486e-02,  3.42102623e-01, -1.29841794e-01,\n",
       "       -4.25999748e-01,  2.83217045e-01,  3.96739434e-01,  6.94398428e-01,\n",
       "       -9.29986944e-02,  2.53968461e-01, -2.91635937e-01, -3.46844229e-02,\n",
       "        3.39672607e-01, -3.20811765e-02,  3.16527336e-01, -5.27045844e-01,\n",
       "        5.55128892e-02, -3.18888381e-01, -3.93976706e-01,  3.44831236e-01,\n",
       "       -1.09811899e+00,  1.06783494e+00,  3.20517435e-01,  2.74594922e-01,\n",
       "       -2.74537172e-01, -2.00034628e-01, -3.88451233e-01, -8.28259779e-01,\n",
       "        4.89597376e-01,  2.98632125e-01, -3.03832118e-01,  2.15146287e-01,\n",
       "        2.37705277e-01, -1.19349623e+00, -4.86907978e-01,  1.23847986e-01,\n",
       "        2.47467009e-01,  3.45766756e-01,  3.84952037e-01, -1.93286291e-01,\n",
       "        5.02815823e-01,  4.16654695e-01,  7.63182609e-01,  4.62696451e-01,\n",
       "        7.26065135e-01, -1.44403752e-01, -2.10959957e-01, -8.83598953e-02,\n",
       "        4.51769978e-02, -2.25989865e-01, -4.95298506e-02,  4.57461293e-01,\n",
       "        1.04151118e-01, -8.35502661e-01,  3.29435658e-01,  3.94006403e-01,\n",
       "        4.58700193e-01,  8.52483777e-01,  9.70149909e-01, -1.24825255e-01,\n",
       "        1.89749957e-01,  3.82321287e-01,  7.26176775e-03, -1.55920740e-01,\n",
       "       -1.73973353e-02,  4.01520057e-01,  4.47059265e-01,  5.18776710e-01,\n",
       "       -1.61112536e-01,  2.86691269e-01, -6.53365932e-02,  2.38044230e-02,\n",
       "        8.20000801e-02, -1.20056480e-01,  3.89333220e-01,  1.38422928e-01,\n",
       "        5.49925732e-02, -3.04367104e-01, -9.60751203e-03, -9.69433592e-02,\n",
       "       -2.03537217e-01, -3.68099032e-01,  3.54810908e-01, -1.46514952e-02,\n",
       "       -3.54021304e-01, -9.35858009e-02, -6.23931750e-01, -4.48651761e-01,\n",
       "        5.35645290e-02,  5.58110661e-01,  9.63451691e-02, -1.29780206e-02,\n",
       "        3.18286212e-01, -1.59390392e-01,  1.30039970e+00,  2.22448975e-02,\n",
       "        5.55963027e-01,  1.28237358e-01,  7.23155597e-02,  2.46284840e-01,\n",
       "        6.33134043e-01, -6.52865260e-01, -9.30867741e-02,  5.84683837e-01,\n",
       "        1.08044842e-02,  2.77280354e-01, -2.81426660e-02, -9.84860826e-02,\n",
       "        1.17531098e-01, -4.24386800e-01,  5.88017322e-01, -1.38548764e-01,\n",
       "       -1.25628910e-01,  1.57512395e-01,  9.33203209e-01,  3.25132254e-02,\n",
       "        8.98133874e-02,  3.17834624e-01, -2.97413983e-01,  3.66058362e-01,\n",
       "       -1.55746502e+00, -6.43870693e-01,  1.75615680e-01,  1.28757684e-01,\n",
       "        1.26220732e-01, -5.74926282e-01,  3.78284458e-01, -1.11390930e-01,\n",
       "       -6.56401257e-02, -2.53858700e-01,  1.47011419e-01, -2.68552764e-01,\n",
       "       -4.79420557e-01, -5.91272069e-01, -2.02510176e-01,  2.68707129e-01,\n",
       "       -8.28231157e-02,  2.47870138e-01, -4.45901764e-01,  1.62281868e-01,\n",
       "        4.77368877e-01, -2.18716128e-01,  2.54328954e-01, -5.04035777e-01,\n",
       "       -4.33294544e-02, -2.13836601e-01,  5.19535255e-02,  2.03542663e-01,\n",
       "        6.13121146e-01, -2.31998670e-01,  3.59421473e-01, -3.63420033e-01,\n",
       "        1.62419255e-01,  3.50746976e-02, -4.00346486e-01, -2.98894418e-01,\n",
       "        4.27505472e-01,  4.89597351e-01,  1.70218767e-01,  1.31857890e-01,\n",
       "        1.71619867e-01,  3.88279685e-01,  9.58379745e-01, -3.86699805e-01,\n",
       "        1.54475915e-01, -1.89309560e-02,  5.40953363e-01, -4.69498241e-02,\n",
       "       -3.46477399e-01, -1.26528012e+00, -4.50216457e-02, -7.52738603e-01,\n",
       "        7.53935019e-02,  1.14937104e-01,  4.87852366e-01, -5.74077006e-02,\n",
       "       -2.78806732e-01, -1.20705919e-01, -1.11277131e-02, -1.41433709e-01,\n",
       "       -7.75266500e-01, -6.65652499e-01,  1.94094686e-02,  1.85966537e-01,\n",
       "       -1.72715590e-01,  2.90414848e-01,  4.26737622e-01, -1.53330694e-03,\n",
       "        4.66135977e-01,  5.05620235e-01, -2.10774669e-01,  6.04575408e-01,\n",
       "        7.20248797e-01, -3.17183510e-02,  2.00405290e-01,  2.83794788e-01,\n",
       "        5.12085536e-01,  2.67768419e-01, -1.08474890e-01, -1.63159747e+00,\n",
       "        1.67278045e-01, -3.69530332e-01,  5.35249863e-02, -1.29252981e-02,\n",
       "       -5.82978562e-01, -2.07798521e+00,  1.16815703e-01,  2.66136545e-01,\n",
       "       -9.50507895e-02,  2.78698740e-01, -5.01203695e-01, -1.22923206e-01,\n",
       "        1.26832497e-01, -3.65893920e-02,  2.37750752e-01, -4.47664948e-01,\n",
       "       -4.24128724e-01, -4.04263784e-01, -3.37536146e-01,  1.65827147e-01,\n",
       "       -1.14338177e-01, -6.70131284e-01,  5.92094121e-01,  1.05601281e-01,\n",
       "        2.89504473e-01,  1.31742301e-01,  4.83844304e-01, -9.99079185e-01,\n",
       "        1.19551569e-01, -6.96940004e-03,  1.09318886e+00,  1.19507815e+00,\n",
       "        2.67020088e-01, -2.74773837e-01, -7.66395691e-01, -1.11263226e-01,\n",
       "       -1.08237713e+00, -2.04066847e-01,  3.60102663e-01,  5.87382963e-01,\n",
       "        4.52694008e-01,  3.60096410e-01, -1.13942810e-01,  1.79318699e-01,\n",
       "       -2.93677000e-01, -4.53757969e-01,  2.82414931e-01, -2.72631181e-01,\n",
       "       -3.46871405e-01,  2.00630876e-01,  2.00689863e-01, -9.33367286e-01,\n",
       "       -3.12529100e-01, -3.00966173e-01, -3.28582019e-01,  2.30185278e-01,\n",
       "       -3.80441724e-01,  4.52816835e-01,  3.49832777e-01, -1.73618711e-01,\n",
       "        2.19822504e-01,  8.66635967e-02, -3.14333239e-02, -2.63437027e-01,\n",
       "        6.62043655e-02,  1.06812143e-01, -1.77756020e-01,  1.36979894e-01,\n",
       "        2.71498178e-01, -2.73817878e-01,  1.46190253e-02,  2.29009983e-01,\n",
       "       -1.61353381e-01, -2.10593693e-01,  4.44673649e-01,  4.31090628e-01,\n",
       "        4.67190681e-01, -7.35593892e-01,  8.93869036e-01,  4.13078094e-01,\n",
       "       -1.84331993e-01,  5.72999885e-01, -4.89719510e-02, -4.42213934e-01,\n",
       "        9.44028449e-02, -1.03395547e-01, -2.53047294e-01,  1.00254604e-01,\n",
       "        4.13240728e-01,  5.30475780e-02, -2.72262922e-01, -2.47359209e-01,\n",
       "       -2.83658688e-01, -4.64448676e-01,  7.27123145e-01,  2.07472622e-02,\n",
       "        7.56389485e-02,  3.89405303e-01,  2.74638266e-01,  6.25369260e-01,\n",
       "        1.62699280e-01,  1.00754742e-01,  2.86090379e-01,  2.83866399e-01,\n",
       "        2.99935538e-01,  5.65319387e-01,  2.34964556e-01, -1.69741878e+00,\n",
       "        1.57580490e-01, -1.50414780e-02,  1.94774466e-01,  5.42581979e-01,\n",
       "        4.64313702e-01,  3.24999550e-01,  3.21783809e-02, -2.58626388e-01,\n",
       "       -9.73583012e-01, -3.62621769e-01,  6.34859224e-03, -1.81695404e-02,\n",
       "        1.48906028e-01, -6.72105435e-03,  1.70058522e-01,  4.78402178e-01,\n",
       "        1.45041965e-01,  1.23209461e-02,  7.67616898e-01, -6.70331739e-02,\n",
       "       -1.71649245e-01,  5.30898648e-01,  1.09450026e-01,  7.91226721e-01,\n",
       "        1.75810531e-01,  6.34860683e-01,  4.99289304e-01,  4.08358203e-01,\n",
       "        4.95506621e-03, -2.20468567e-01, -8.53093325e-02, -4.72805318e-02,\n",
       "       -1.70055009e-01, -7.19370959e-02,  4.48697843e-01, -5.06147529e-02,\n",
       "       -3.20801154e-01, -4.65152234e-01,  5.45728950e-01,  9.54605928e-02,\n",
       "       -4.04120842e-01, -6.70204376e-01, -3.29416474e-01,  2.48938286e-01,\n",
       "       -4.90623213e-03, -1.01010271e-01, -1.32782826e-01,  4.70385338e-01,\n",
       "       -5.55964380e-01, -1.27289242e-01,  2.79522842e-01, -2.17014232e-01,\n",
       "       -5.57982622e-01, -5.61478956e-01, -5.82690167e-01,  2.22768926e-01,\n",
       "        4.33096462e-01, -1.37950427e-02,  2.36254307e-02, -1.28133864e-02,\n",
       "       -2.17762031e-01,  3.88393065e-01, -1.16195058e-01,  1.28236304e-01,\n",
       "        2.18269931e-01, -5.75459840e-01,  1.64615111e-01,  3.87048741e-01,\n",
       "       -7.10658980e-01, -1.95294161e-01, -3.36317930e-03,  6.58732302e-01,\n",
       "        2.87907733e-01,  6.10860360e-01,  2.19851291e-01,  7.56529751e-01,\n",
       "       -5.60809654e-01, -3.36099682e-01,  9.32018693e-02,  6.69108052e-01,\n",
       "        1.04158237e+00, -4.44587828e-01, -4.29607980e-02, -1.44032383e+00,\n",
       "        2.38861531e-02,  6.98214915e-01, -3.94158673e-01, -7.40189590e-01,\n",
       "       -3.22798935e-02,  1.61259853e-01, -9.69826808e-02,  3.04829487e-01,\n",
       "       -7.44705654e-02,  2.20731530e-01, -3.43352588e-01, -2.16832556e-01,\n",
       "        1.94448819e-01,  4.87130275e-01,  5.79170133e-01, -4.74507928e-02,\n",
       "       -2.65153095e-01,  4.26185502e-01, -6.45001217e-01, -3.76632374e-01,\n",
       "        3.89235808e-01,  5.09934206e-01,  2.29448789e-01,  1.42186481e-01])"
      ]
     },
     "execution_count": 29,
     "metadata": {},
     "output_type": "execute_result"
    }
   ],
   "source": [
    "linreg = LinearRegression()\n",
    "linreg.fit(tfidf_df,review_data['overall'])\n",
    "linreg.coef_"
   ]
  },
  {
   "cell_type": "markdown",
   "metadata": {},
   "source": [
    "To check the intercept of the linear regression"
   ]
  },
  {
   "cell_type": "code",
   "execution_count": 30,
   "metadata": {},
   "outputs": [
    {
     "data": {
      "text/plain": [
       "4.218882428983381"
      ]
     },
     "execution_count": 30,
     "metadata": {},
     "output_type": "execute_result"
    }
   ],
   "source": [
    "linreg.intercept_"
   ]
  },
  {
   "cell_type": "markdown",
   "metadata": {},
   "source": [
    "To check the prediction in a tf-idf DataFrame"
   ]
  },
  {
   "cell_type": "code",
   "execution_count": 31,
   "metadata": {},
   "outputs": [
    {
     "data": {
      "text/plain": [
       "array([4.19200071, 4.25771652, 4.23084868, ..., 4.40384767, 4.49036403,\n",
       "       4.14791976])"
      ]
     },
     "execution_count": 31,
     "metadata": {},
     "output_type": "execute_result"
    }
   ],
   "source": [
    "linreg.predict(tfidf_df)"
   ]
  },
  {
   "cell_type": "markdown",
   "metadata": {},
   "source": [
    "Finally, we use this model to predict the <code>overall</code> score and store it in a column called <code>predicted_score_from_linear_regression</code>"
   ]
  },
  {
   "cell_type": "code",
   "execution_count": 32,
   "metadata": {},
   "outputs": [
    {
     "data": {
      "text/html": [
       "<div>\n",
       "<style scoped>\n",
       "    .dataframe tbody tr th:only-of-type {\n",
       "        vertical-align: middle;\n",
       "    }\n",
       "\n",
       "    .dataframe tbody tr th {\n",
       "        vertical-align: top;\n",
       "    }\n",
       "\n",
       "    .dataframe thead th {\n",
       "        text-align: right;\n",
       "    }\n",
       "</style>\n",
       "<table border=\"1\" class=\"dataframe\">\n",
       "  <thead>\n",
       "    <tr style=\"text-align: right;\">\n",
       "      <th></th>\n",
       "      <th>overall</th>\n",
       "      <th>predicted_score_from_linear_regression</th>\n",
       "    </tr>\n",
       "  </thead>\n",
       "  <tbody>\n",
       "    <tr>\n",
       "      <th>0</th>\n",
       "      <td>5</td>\n",
       "      <td>4.192001</td>\n",
       "    </tr>\n",
       "    <tr>\n",
       "      <th>1</th>\n",
       "      <td>5</td>\n",
       "      <td>4.257717</td>\n",
       "    </tr>\n",
       "    <tr>\n",
       "      <th>2</th>\n",
       "      <td>5</td>\n",
       "      <td>4.230849</td>\n",
       "    </tr>\n",
       "    <tr>\n",
       "      <th>3</th>\n",
       "      <td>5</td>\n",
       "      <td>4.085927</td>\n",
       "    </tr>\n",
       "    <tr>\n",
       "      <th>4</th>\n",
       "      <td>5</td>\n",
       "      <td>4.851061</td>\n",
       "    </tr>\n",
       "    <tr>\n",
       "      <th>5</th>\n",
       "      <td>5</td>\n",
       "      <td>4.955069</td>\n",
       "    </tr>\n",
       "    <tr>\n",
       "      <th>6</th>\n",
       "      <td>5</td>\n",
       "      <td>4.446274</td>\n",
       "    </tr>\n",
       "    <tr>\n",
       "      <th>7</th>\n",
       "      <td>3</td>\n",
       "      <td>3.888593</td>\n",
       "    </tr>\n",
       "    <tr>\n",
       "      <th>8</th>\n",
       "      <td>5</td>\n",
       "      <td>4.941788</td>\n",
       "    </tr>\n",
       "    <tr>\n",
       "      <th>9</th>\n",
       "      <td>5</td>\n",
       "      <td>4.513824</td>\n",
       "    </tr>\n",
       "  </tbody>\n",
       "</table>\n",
       "</div>"
      ],
      "text/plain": [
       "   overall  predicted_score_from_linear_regression\n",
       "0        5                                4.192001\n",
       "1        5                                4.257717\n",
       "2        5                                4.230849\n",
       "3        5                                4.085927\n",
       "4        5                                4.851061\n",
       "5        5                                4.955069\n",
       "6        5                                4.446274\n",
       "7        3                                3.888593\n",
       "8        5                                4.941788\n",
       "9        5                                4.513824"
      ]
     },
     "execution_count": 32,
     "metadata": {},
     "output_type": "execute_result"
    }
   ],
   "source": [
    "review_data['predicted_score_from_linear_regression'] = linreg.predict(tfidf_df)\n",
    "review_data[['overall', 'predicted_score_from_linear_regression']].head(10)"
   ]
  },
  {
   "cell_type": "markdown",
   "metadata": {},
   "source": [
    "From the preceding table, we can see how the actual and predicted score varies for different instances. We will use this table later to evaluate the performance of the model."
   ]
  },
  {
   "cell_type": "markdown",
   "metadata": {},
   "source": [
    "<h2>Exercise 5: Tree-Based Methods (Decision Tree, Random Forest, GBM, and XGBoost)</h2>\n",
    "<br>\n",
    "In this exercise, we will use tree-based methods such as decision trees, random forests, GBM, and XGBoost to predict the overall scores and labels of reviews of patio, lawn, and garden on Amazon."
   ]
  },
  {
   "cell_type": "code",
   "execution_count": 2,
   "metadata": {},
   "outputs": [],
   "source": [
    "import pandas as pd\n",
    "import matplotlib.pyplot as plt\n",
    "%matplotlib inline\n",
    "import re\n",
    "import string\n",
    "from nltk import word_tokenize\n",
    "from nltk.stem import WordNetLemmatizer\n",
    "\n",
    "from sklearn.feature_extraction.text import TfidfVectorizer\n",
    "from sklearn import tree\n",
    "from sklearn.ensemble import RandomForestClassifier \n",
    "from sklearn.ensemble import GradientBoostingClassifier \n",
    "\n",
    "from collections import Counter\n",
    "from pylab import *\n",
    "import nltk\n",
    "import warnings\n",
    "warnings.filterwarnings('ignore')"
   ]
  },
  {
   "cell_type": "markdown",
   "metadata": {},
   "source": [
    "Now, we'll read the given data file in <code>json</code> format using <code>pandas</code>"
   ]
  },
  {
   "cell_type": "code",
   "execution_count": 3,
   "metadata": {},
   "outputs": [
    {
     "data": {
      "text/html": [
       "<div>\n",
       "<style scoped>\n",
       "    .dataframe tbody tr th:only-of-type {\n",
       "        vertical-align: middle;\n",
       "    }\n",
       "\n",
       "    .dataframe tbody tr th {\n",
       "        vertical-align: top;\n",
       "    }\n",
       "\n",
       "    .dataframe thead th {\n",
       "        text-align: right;\n",
       "    }\n",
       "</style>\n",
       "<table border=\"1\" class=\"dataframe\">\n",
       "  <thead>\n",
       "    <tr style=\"text-align: right;\">\n",
       "      <th></th>\n",
       "      <th>reviewText</th>\n",
       "      <th>overall</th>\n",
       "    </tr>\n",
       "  </thead>\n",
       "  <tbody>\n",
       "    <tr>\n",
       "      <th>0</th>\n",
       "      <td>Good USA company that stands behind their prod...</td>\n",
       "      <td>4</td>\n",
       "    </tr>\n",
       "    <tr>\n",
       "      <th>1</th>\n",
       "      <td>This is a high quality 8 ply hose. I have had ...</td>\n",
       "      <td>5</td>\n",
       "    </tr>\n",
       "    <tr>\n",
       "      <th>2</th>\n",
       "      <td>It's probably one of the best hoses I've ever ...</td>\n",
       "      <td>4</td>\n",
       "    </tr>\n",
       "    <tr>\n",
       "      <th>3</th>\n",
       "      <td>I probably should have bought something a bit ...</td>\n",
       "      <td>5</td>\n",
       "    </tr>\n",
       "    <tr>\n",
       "      <th>4</th>\n",
       "      <td>I bought three of these 5/8-inch Flexogen hose...</td>\n",
       "      <td>5</td>\n",
       "    </tr>\n",
       "  </tbody>\n",
       "</table>\n",
       "</div>"
      ],
      "text/plain": [
       "                                          reviewText  overall\n",
       "0  Good USA company that stands behind their prod...        4\n",
       "1  This is a high quality 8 ply hose. I have had ...        5\n",
       "2  It's probably one of the best hoses I've ever ...        4\n",
       "3  I probably should have bought something a bit ...        5\n",
       "4  I bought three of these 5/8-inch Flexogen hose...        5"
      ]
     },
     "execution_count": 3,
     "metadata": {},
     "output_type": "execute_result"
    }
   ],
   "source": [
    "data_patio_lawn_garden = pd.read_json('reviews_Patio_Lawn_and_Garden_5.json', lines=True)\n",
    "data_patio_lawn_garden[['reviewText', 'overall']].head() "
   ]
  },
  {
   "cell_type": "markdown",
   "metadata": {},
   "source": [
    "We will be using WordNet corpus for lemmatization"
   ]
  },
  {
   "cell_type": "code",
   "execution_count": 4,
   "metadata": {},
   "outputs": [],
   "source": [
    "lemmatizer = WordNetLemmatizer()"
   ]
  },
  {
   "cell_type": "markdown",
   "metadata": {},
   "source": [
    "In the next cell, we will use a <code>lambda</code> function to extract tokens from each <code>'reviewText'</code> raw of the <code>news_data_df DataFrame</code>, check whether any of these tokens are stop words, lemmatize them, and concatenate them side by side. We make use of the <code>join</code> function to concatenate a list of words into a single sentence. We use the regular expression (<code>re</code>) to replace anything other than alphabets, digits, and white spaces with blank space."
   ]
  },
  {
   "cell_type": "code",
   "execution_count": 5,
   "metadata": {},
   "outputs": [
    {
     "data": {
      "text/html": [
       "<div>\n",
       "<style scoped>\n",
       "    .dataframe tbody tr th:only-of-type {\n",
       "        vertical-align: middle;\n",
       "    }\n",
       "\n",
       "    .dataframe tbody tr th {\n",
       "        vertical-align: top;\n",
       "    }\n",
       "\n",
       "    .dataframe thead th {\n",
       "        text-align: right;\n",
       "    }\n",
       "</style>\n",
       "<table border=\"1\" class=\"dataframe\">\n",
       "  <thead>\n",
       "    <tr style=\"text-align: right;\">\n",
       "      <th></th>\n",
       "      <th>cleaned_review_text</th>\n",
       "      <th>reviewText</th>\n",
       "      <th>overall</th>\n",
       "    </tr>\n",
       "  </thead>\n",
       "  <tbody>\n",
       "    <tr>\n",
       "      <th>0</th>\n",
       "      <td>good usa company that stand behind their produ...</td>\n",
       "      <td>Good USA company that stands behind their prod...</td>\n",
       "      <td>4</td>\n",
       "    </tr>\n",
       "    <tr>\n",
       "      <th>1</th>\n",
       "      <td>this is a high quality 8 ply hose i have had g...</td>\n",
       "      <td>This is a high quality 8 ply hose. I have had ...</td>\n",
       "      <td>5</td>\n",
       "    </tr>\n",
       "    <tr>\n",
       "      <th>2</th>\n",
       "      <td>it s probably one of the best hose i ve ever h...</td>\n",
       "      <td>It's probably one of the best hoses I've ever ...</td>\n",
       "      <td>4</td>\n",
       "    </tr>\n",
       "    <tr>\n",
       "      <th>3</th>\n",
       "      <td>i probably should have bought something a bit ...</td>\n",
       "      <td>I probably should have bought something a bit ...</td>\n",
       "      <td>5</td>\n",
       "    </tr>\n",
       "    <tr>\n",
       "      <th>4</th>\n",
       "      <td>i bought three of these 5 8 inch flexogen hose...</td>\n",
       "      <td>I bought three of these 5/8-inch Flexogen hose...</td>\n",
       "      <td>5</td>\n",
       "    </tr>\n",
       "  </tbody>\n",
       "</table>\n",
       "</div>"
      ],
      "text/plain": [
       "                                 cleaned_review_text  \\\n",
       "0  good usa company that stand behind their produ...   \n",
       "1  this is a high quality 8 ply hose i have had g...   \n",
       "2  it s probably one of the best hose i ve ever h...   \n",
       "3  i probably should have bought something a bit ...   \n",
       "4  i bought three of these 5 8 inch flexogen hose...   \n",
       "\n",
       "                                          reviewText  overall  \n",
       "0  Good USA company that stands behind their prod...        4  \n",
       "1  This is a high quality 8 ply hose. I have had ...        5  \n",
       "2  It's probably one of the best hoses I've ever ...        4  \n",
       "3  I probably should have bought something a bit ...        5  \n",
       "4  I bought three of these 5/8-inch Flexogen hose...        5  "
      ]
     },
     "execution_count": 5,
     "metadata": {},
     "output_type": "execute_result"
    }
   ],
   "source": [
    "data_patio_lawn_garden['cleaned_review_text'] = data_patio_lawn_garden['reviewText'].apply(\\\n",
    "lambda x : ' '.join([lemmatizer.lemmatize(word.lower()) for word in word_tokenize(re.sub(r'([^\\s\\w]|_)+', ' ', str(x)))]))\n",
    "data_patio_lawn_garden[['cleaned_review_text', 'reviewText', 'overall']].head()"
   ]
  },
  {
   "cell_type": "markdown",
   "metadata": {},
   "source": [
    "We will be creating a <code>DataFrame</code> from the TFIDF matrix representation of the cleaned version of <code>reviewText</code>"
   ]
  },
  {
   "cell_type": "code",
   "execution_count": 6,
   "metadata": {},
   "outputs": [
    {
     "data": {
      "text/html": [
       "<div>\n",
       "<style scoped>\n",
       "    .dataframe tbody tr th:only-of-type {\n",
       "        vertical-align: middle;\n",
       "    }\n",
       "\n",
       "    .dataframe tbody tr th {\n",
       "        vertical-align: top;\n",
       "    }\n",
       "\n",
       "    .dataframe thead th {\n",
       "        text-align: right;\n",
       "    }\n",
       "</style>\n",
       "<table border=\"1\" class=\"dataframe\">\n",
       "  <thead>\n",
       "    <tr style=\"text-align: right;\">\n",
       "      <th></th>\n",
       "      <th>10</th>\n",
       "      <th>20</th>\n",
       "      <th>34</th>\n",
       "      <th>8217</th>\n",
       "      <th>able</th>\n",
       "      <th>about</th>\n",
       "      <th>actually</th>\n",
       "      <th>add</th>\n",
       "      <th>after</th>\n",
       "      <th>again</th>\n",
       "      <th>...</th>\n",
       "      <th>work</th>\n",
       "      <th>worked</th>\n",
       "      <th>working</th>\n",
       "      <th>worth</th>\n",
       "      <th>would</th>\n",
       "      <th>yard</th>\n",
       "      <th>year</th>\n",
       "      <th>yet</th>\n",
       "      <th>you</th>\n",
       "      <th>your</th>\n",
       "    </tr>\n",
       "  </thead>\n",
       "  <tbody>\n",
       "    <tr>\n",
       "      <th>0</th>\n",
       "      <td>0.0</td>\n",
       "      <td>0.0</td>\n",
       "      <td>0.0</td>\n",
       "      <td>0.0</td>\n",
       "      <td>0.0</td>\n",
       "      <td>0.000000</td>\n",
       "      <td>0.0</td>\n",
       "      <td>0.0</td>\n",
       "      <td>0.120568</td>\n",
       "      <td>0.0</td>\n",
       "      <td>...</td>\n",
       "      <td>0.0</td>\n",
       "      <td>0.0</td>\n",
       "      <td>0.0</td>\n",
       "      <td>0.0</td>\n",
       "      <td>0.0</td>\n",
       "      <td>0.000000</td>\n",
       "      <td>0.0</td>\n",
       "      <td>0.000000</td>\n",
       "      <td>0.161561</td>\n",
       "      <td>0.000000</td>\n",
       "    </tr>\n",
       "    <tr>\n",
       "      <th>1</th>\n",
       "      <td>0.0</td>\n",
       "      <td>0.0</td>\n",
       "      <td>0.0</td>\n",
       "      <td>0.0</td>\n",
       "      <td>0.0</td>\n",
       "      <td>0.000000</td>\n",
       "      <td>0.0</td>\n",
       "      <td>0.0</td>\n",
       "      <td>0.000000</td>\n",
       "      <td>0.0</td>\n",
       "      <td>...</td>\n",
       "      <td>0.0</td>\n",
       "      <td>0.0</td>\n",
       "      <td>0.0</td>\n",
       "      <td>0.0</td>\n",
       "      <td>0.0</td>\n",
       "      <td>0.000000</td>\n",
       "      <td>0.0</td>\n",
       "      <td>0.000000</td>\n",
       "      <td>0.000000</td>\n",
       "      <td>0.000000</td>\n",
       "    </tr>\n",
       "    <tr>\n",
       "      <th>2</th>\n",
       "      <td>0.0</td>\n",
       "      <td>0.0</td>\n",
       "      <td>0.0</td>\n",
       "      <td>0.0</td>\n",
       "      <td>0.0</td>\n",
       "      <td>0.000000</td>\n",
       "      <td>0.0</td>\n",
       "      <td>0.0</td>\n",
       "      <td>0.000000</td>\n",
       "      <td>0.0</td>\n",
       "      <td>...</td>\n",
       "      <td>0.0</td>\n",
       "      <td>0.0</td>\n",
       "      <td>0.0</td>\n",
       "      <td>0.0</td>\n",
       "      <td>0.0</td>\n",
       "      <td>0.116566</td>\n",
       "      <td>0.0</td>\n",
       "      <td>0.216988</td>\n",
       "      <td>0.000000</td>\n",
       "      <td>0.049357</td>\n",
       "    </tr>\n",
       "    <tr>\n",
       "      <th>3</th>\n",
       "      <td>0.0</td>\n",
       "      <td>0.0</td>\n",
       "      <td>0.0</td>\n",
       "      <td>0.0</td>\n",
       "      <td>0.0</td>\n",
       "      <td>0.000000</td>\n",
       "      <td>0.0</td>\n",
       "      <td>0.0</td>\n",
       "      <td>0.000000</td>\n",
       "      <td>0.0</td>\n",
       "      <td>...</td>\n",
       "      <td>0.0</td>\n",
       "      <td>0.0</td>\n",
       "      <td>0.0</td>\n",
       "      <td>0.0</td>\n",
       "      <td>0.0</td>\n",
       "      <td>0.000000</td>\n",
       "      <td>0.0</td>\n",
       "      <td>0.000000</td>\n",
       "      <td>0.000000</td>\n",
       "      <td>0.000000</td>\n",
       "    </tr>\n",
       "    <tr>\n",
       "      <th>4</th>\n",
       "      <td>0.0</td>\n",
       "      <td>0.0</td>\n",
       "      <td>0.0</td>\n",
       "      <td>0.0</td>\n",
       "      <td>0.0</td>\n",
       "      <td>0.064347</td>\n",
       "      <td>0.0</td>\n",
       "      <td>0.0</td>\n",
       "      <td>0.070857</td>\n",
       "      <td>0.0</td>\n",
       "      <td>...</td>\n",
       "      <td>0.0</td>\n",
       "      <td>0.0</td>\n",
       "      <td>0.0</td>\n",
       "      <td>0.0</td>\n",
       "      <td>0.0</td>\n",
       "      <td>0.083019</td>\n",
       "      <td>0.0</td>\n",
       "      <td>0.000000</td>\n",
       "      <td>0.000000</td>\n",
       "      <td>0.000000</td>\n",
       "    </tr>\n",
       "  </tbody>\n",
       "</table>\n",
       "<p>5 rows × 500 columns</p>\n",
       "</div>"
      ],
      "text/plain": [
       "    10   20   34  8217  able     about  actually  add     after  again  ...  \\\n",
       "0  0.0  0.0  0.0   0.0   0.0  0.000000       0.0  0.0  0.120568    0.0  ...   \n",
       "1  0.0  0.0  0.0   0.0   0.0  0.000000       0.0  0.0  0.000000    0.0  ...   \n",
       "2  0.0  0.0  0.0   0.0   0.0  0.000000       0.0  0.0  0.000000    0.0  ...   \n",
       "3  0.0  0.0  0.0   0.0   0.0  0.000000       0.0  0.0  0.000000    0.0  ...   \n",
       "4  0.0  0.0  0.0   0.0   0.0  0.064347       0.0  0.0  0.070857    0.0  ...   \n",
       "\n",
       "   work  worked  working  worth  would      yard  year       yet       you  \\\n",
       "0   0.0     0.0      0.0    0.0    0.0  0.000000   0.0  0.000000  0.161561   \n",
       "1   0.0     0.0      0.0    0.0    0.0  0.000000   0.0  0.000000  0.000000   \n",
       "2   0.0     0.0      0.0    0.0    0.0  0.116566   0.0  0.216988  0.000000   \n",
       "3   0.0     0.0      0.0    0.0    0.0  0.000000   0.0  0.000000  0.000000   \n",
       "4   0.0     0.0      0.0    0.0    0.0  0.083019   0.0  0.000000  0.000000   \n",
       "\n",
       "       your  \n",
       "0  0.000000  \n",
       "1  0.000000  \n",
       "2  0.049357  \n",
       "3  0.000000  \n",
       "4  0.000000  \n",
       "\n",
       "[5 rows x 500 columns]"
      ]
     },
     "execution_count": 6,
     "metadata": {},
     "output_type": "execute_result"
    }
   ],
   "source": [
    "tfidf_model = TfidfVectorizer(max_features=500)\n",
    "tfidf_df = pd.DataFrame(tfidf_model.fit_transform(data_patio_lawn_garden['cleaned_review_text']).todense())\n",
    "tfidf_df.columns = sorted(tfidf_model.vocabulary_)\n",
    "tfidf_df.head()"
   ]
  },
  {
   "cell_type": "markdown",
   "metadata": {},
   "source": [
    "The following lines of code are used to create a new column target, which will have $0$ if the overall parameter is less than $4$, otherwise, it will have $1$"
   ]
  },
  {
   "cell_type": "code",
   "execution_count": 7,
   "metadata": {},
   "outputs": [
    {
     "data": {
      "text/plain": [
       "1    7037\n",
       "0    6235\n",
       "Name: target, dtype: int64"
      ]
     },
     "execution_count": 7,
     "metadata": {},
     "output_type": "execute_result"
    }
   ],
   "source": [
    "data_patio_lawn_garden['target'] = data_patio_lawn_garden['overall'].apply(lambda x : 0 if x<=4 else 1)\n",
    "data_patio_lawn_garden['target'].value_counts()"
   ]
  },
  {
   "cell_type": "markdown",
   "metadata": {},
   "source": [
    "Now, we'll be using <code>tree()</code> from <code>sklearn</code>, to fit a decision tree model on the TF-IDF representation of these reviews after cleaning."
   ]
  },
  {
   "cell_type": "code",
   "execution_count": 8,
   "metadata": {},
   "outputs": [],
   "source": [
    "dtc = tree.DecisionTreeClassifier()\n",
    "dtc = dtc.fit(tfidf_df, data_patio_lawn_garden['target'])\n",
    "data_patio_lawn_garden['predicted_labels_dtc'] = dtc.predict(tfidf_df)"
   ]
  },
  {
   "cell_type": "markdown",
   "metadata": {},
   "source": [
    "We'll use the <code>crosstab</code> function of <code>pandas</code> to compare the results of our classification model with the actual classes (<code>target</code> in this case) of the reviews."
   ]
  },
  {
   "cell_type": "code",
   "execution_count": 9,
   "metadata": {},
   "outputs": [
    {
     "data": {
      "text/html": [
       "<div>\n",
       "<style scoped>\n",
       "    .dataframe tbody tr th:only-of-type {\n",
       "        vertical-align: middle;\n",
       "    }\n",
       "\n",
       "    .dataframe tbody tr th {\n",
       "        vertical-align: top;\n",
       "    }\n",
       "\n",
       "    .dataframe thead th {\n",
       "        text-align: right;\n",
       "    }\n",
       "</style>\n",
       "<table border=\"1\" class=\"dataframe\">\n",
       "  <thead>\n",
       "    <tr style=\"text-align: right;\">\n",
       "      <th>predicted_labels_dtc</th>\n",
       "      <th>0</th>\n",
       "      <th>1</th>\n",
       "    </tr>\n",
       "    <tr>\n",
       "      <th>target</th>\n",
       "      <th></th>\n",
       "      <th></th>\n",
       "    </tr>\n",
       "  </thead>\n",
       "  <tbody>\n",
       "    <tr>\n",
       "      <th>0</th>\n",
       "      <td>6227</td>\n",
       "      <td>8</td>\n",
       "    </tr>\n",
       "    <tr>\n",
       "      <th>1</th>\n",
       "      <td>1</td>\n",
       "      <td>7036</td>\n",
       "    </tr>\n",
       "  </tbody>\n",
       "</table>\n",
       "</div>"
      ],
      "text/plain": [
       "predicted_labels_dtc     0     1\n",
       "target                          \n",
       "0                     6227     8\n",
       "1                        1  7036"
      ]
     },
     "execution_count": 9,
     "metadata": {},
     "output_type": "execute_result"
    }
   ],
   "source": [
    "pd.crosstab(data_patio_lawn_garden['target'], data_patio_lawn_garden['predicted_labels_dtc'])"
   ]
  },
  {
   "cell_type": "markdown",
   "metadata": {},
   "source": [
    "Here, we see $6627$ instances with a target label of $0$ correctly classified, and $8$ such instances wrongly classified. Furthermore, $7036$ instances with a target label of $1$ are correctly classified, whereas $1$ such instance is wrongly classified."
   ]
  },
  {
   "cell_type": "code",
   "execution_count": 10,
   "metadata": {},
   "outputs": [
    {
     "data": {
      "text/html": [
       "<div>\n",
       "<style scoped>\n",
       "    .dataframe tbody tr th:only-of-type {\n",
       "        vertical-align: middle;\n",
       "    }\n",
       "\n",
       "    .dataframe tbody tr th {\n",
       "        vertical-align: top;\n",
       "    }\n",
       "\n",
       "    .dataframe thead th {\n",
       "        text-align: right;\n",
       "    }\n",
       "</style>\n",
       "<table border=\"1\" class=\"dataframe\">\n",
       "  <thead>\n",
       "    <tr style=\"text-align: right;\">\n",
       "      <th></th>\n",
       "      <th>predicted_values_dtr</th>\n",
       "      <th>overall</th>\n",
       "    </tr>\n",
       "  </thead>\n",
       "  <tbody>\n",
       "    <tr>\n",
       "      <th>0</th>\n",
       "      <td>4.0</td>\n",
       "      <td>4</td>\n",
       "    </tr>\n",
       "    <tr>\n",
       "      <th>1</th>\n",
       "      <td>5.0</td>\n",
       "      <td>5</td>\n",
       "    </tr>\n",
       "    <tr>\n",
       "      <th>2</th>\n",
       "      <td>4.0</td>\n",
       "      <td>4</td>\n",
       "    </tr>\n",
       "    <tr>\n",
       "      <th>3</th>\n",
       "      <td>5.0</td>\n",
       "      <td>5</td>\n",
       "    </tr>\n",
       "    <tr>\n",
       "      <th>4</th>\n",
       "      <td>5.0</td>\n",
       "      <td>5</td>\n",
       "    </tr>\n",
       "    <tr>\n",
       "      <th>5</th>\n",
       "      <td>5.0</td>\n",
       "      <td>5</td>\n",
       "    </tr>\n",
       "    <tr>\n",
       "      <th>6</th>\n",
       "      <td>5.0</td>\n",
       "      <td>5</td>\n",
       "    </tr>\n",
       "    <tr>\n",
       "      <th>7</th>\n",
       "      <td>5.0</td>\n",
       "      <td>5</td>\n",
       "    </tr>\n",
       "    <tr>\n",
       "      <th>8</th>\n",
       "      <td>5.0</td>\n",
       "      <td>5</td>\n",
       "    </tr>\n",
       "    <tr>\n",
       "      <th>9</th>\n",
       "      <td>4.0</td>\n",
       "      <td>4</td>\n",
       "    </tr>\n",
       "  </tbody>\n",
       "</table>\n",
       "</div>"
      ],
      "text/plain": [
       "   predicted_values_dtr  overall\n",
       "0                   4.0        4\n",
       "1                   5.0        5\n",
       "2                   4.0        4\n",
       "3                   5.0        5\n",
       "4                   5.0        5\n",
       "5                   5.0        5\n",
       "6                   5.0        5\n",
       "7                   5.0        5\n",
       "8                   5.0        5\n",
       "9                   4.0        4"
      ]
     },
     "execution_count": 10,
     "metadata": {},
     "output_type": "execute_result"
    }
   ],
   "source": [
    "dtr = tree.DecisionTreeRegressor()\n",
    "dtr = dtr.fit(tfidf_df, data_patio_lawn_garden['overall'])\n",
    "data_patio_lawn_garden['predicted_values_dtr'] = dtr.predict(tfidf_df)\n",
    "data_patio_lawn_garden[['predicted_values_dtr', 'overall']].head(10)"
   ]
  },
  {
   "cell_type": "markdown",
   "metadata": {},
   "source": [
    "From the preceding table, we can see how the actual and predicted score varies for different instances. We will use this table later to evaluate the performance of the model."
   ]
  },
  {
   "cell_type": "markdown",
   "metadata": {},
   "source": [
    "Now, we'll define a generic function for all classifier models"
   ]
  },
  {
   "cell_type": "code",
   "execution_count": 11,
   "metadata": {},
   "outputs": [],
   "source": [
    "def clf_model(model_type, X_train, y):\n",
    "    model = model_type.fit(X_train,y)\n",
    "    predicted_labels = model.predict(tfidf_df)\n",
    "    return predicted_labels"
   ]
  },
  {
   "cell_type": "markdown",
   "metadata": {},
   "source": [
    "We'll train three kinds of classifier models, namely: random forest, gradient boosting machines, and XGBoost. For random forest, we predict the class labels of the given set of review texts and compare it with their actual class, that is, the target using crosstabs."
   ]
  },
  {
   "cell_type": "code",
   "execution_count": 12,
   "metadata": {},
   "outputs": [
    {
     "data": {
      "text/html": [
       "<div>\n",
       "<style scoped>\n",
       "    .dataframe tbody tr th:only-of-type {\n",
       "        vertical-align: middle;\n",
       "    }\n",
       "\n",
       "    .dataframe tbody tr th {\n",
       "        vertical-align: top;\n",
       "    }\n",
       "\n",
       "    .dataframe thead th {\n",
       "        text-align: right;\n",
       "    }\n",
       "</style>\n",
       "<table border=\"1\" class=\"dataframe\">\n",
       "  <thead>\n",
       "    <tr style=\"text-align: right;\">\n",
       "      <th>predicted_labels_rfc</th>\n",
       "      <th>0</th>\n",
       "      <th>1</th>\n",
       "    </tr>\n",
       "    <tr>\n",
       "      <th>target</th>\n",
       "      <th></th>\n",
       "      <th></th>\n",
       "    </tr>\n",
       "  </thead>\n",
       "  <tbody>\n",
       "    <tr>\n",
       "      <th>0</th>\n",
       "      <td>3302</td>\n",
       "      <td>2933</td>\n",
       "    </tr>\n",
       "    <tr>\n",
       "      <th>1</th>\n",
       "      <td>1557</td>\n",
       "      <td>5480</td>\n",
       "    </tr>\n",
       "  </tbody>\n",
       "</table>\n",
       "</div>"
      ],
      "text/plain": [
       "predicted_labels_rfc     0     1\n",
       "target                          \n",
       "0                     3302  2933\n",
       "1                     1557  5480"
      ]
     },
     "execution_count": 12,
     "metadata": {},
     "output_type": "execute_result"
    }
   ],
   "source": [
    "rfc = RandomForestClassifier(n_estimators=20,max_depth=4,max_features='sqrt',random_state=1)\n",
    "data_patio_lawn_garden['predicted_labels_rfc'] = clf_model(rfc, tfidf_df, data_patio_lawn_garden['target'])\n",
    "pd.crosstab(data_patio_lawn_garden['target'], data_patio_lawn_garden['predicted_labels_rfc'])"
   ]
  },
  {
   "cell_type": "markdown",
   "metadata": {},
   "source": [
    "Here, we see $3302$ instances with a target label of $0$ correctly classified and $2933$ such instances wrongly classified. Furthermore, $5480$ instances with a target label of $1$ are correctly classified, whereas $1557$ such instances are wrongly classified.\n",
    "<br>\n",
    "<br>\n",
    "For GBM, we predict the class labels of the given set of reviewTexts and compare it with their actual class, that is, the target using crosstabs. "
   ]
  },
  {
   "cell_type": "code",
   "execution_count": 13,
   "metadata": {},
   "outputs": [
    {
     "data": {
      "text/html": [
       "<div>\n",
       "<style scoped>\n",
       "    .dataframe tbody tr th:only-of-type {\n",
       "        vertical-align: middle;\n",
       "    }\n",
       "\n",
       "    .dataframe tbody tr th {\n",
       "        vertical-align: top;\n",
       "    }\n",
       "\n",
       "    .dataframe thead th {\n",
       "        text-align: right;\n",
       "    }\n",
       "</style>\n",
       "<table border=\"1\" class=\"dataframe\">\n",
       "  <thead>\n",
       "    <tr style=\"text-align: right;\">\n",
       "      <th>predicted_labels_gbc</th>\n",
       "      <th>0</th>\n",
       "      <th>1</th>\n",
       "    </tr>\n",
       "    <tr>\n",
       "      <th>target</th>\n",
       "      <th></th>\n",
       "      <th></th>\n",
       "    </tr>\n",
       "  </thead>\n",
       "  <tbody>\n",
       "    <tr>\n",
       "      <th>0</th>\n",
       "      <td>101</td>\n",
       "      <td>6134</td>\n",
       "    </tr>\n",
       "    <tr>\n",
       "      <th>1</th>\n",
       "      <td>26</td>\n",
       "      <td>7011</td>\n",
       "    </tr>\n",
       "  </tbody>\n",
       "</table>\n",
       "</div>"
      ],
      "text/plain": [
       "predicted_labels_gbc    0     1\n",
       "target                         \n",
       "0                     101  6134\n",
       "1                      26  7011"
      ]
     },
     "execution_count": 13,
     "metadata": {},
     "output_type": "execute_result"
    }
   ],
   "source": [
    "gbc = GradientBoostingClassifier(n_estimators=2,max_depth=3,max_features='sqrt',random_state=1)\n",
    "data_patio_lawn_garden['predicted_labels_gbc'] = clf_model(gbc, tfidf_df, data_patio_lawn_garden['target'])\n",
    "pd.crosstab(data_patio_lawn_garden['target'], data_patio_lawn_garden['predicted_labels_gbc'])"
   ]
  },
  {
   "cell_type": "markdown",
   "metadata": {},
   "source": [
    "Here, we see $101$ instances with a target label of $0$ correctly classified and $6134$ such instances wrongly classified. Furthermore, $7011$ instances with a target label of $1$ are correctly classified, whereas $26$ such instances are wrongly classified."
   ]
  },
  {
   "cell_type": "code",
   "execution_count": null,
   "metadata": {},
   "outputs": [],
   "source": [
    "xgb_clf = XGBClassifier(n_estimators=20,learning_rate=0.03,max_depth=5,subsample=0.6,colsample_bytree= 0.6,reg_alpha= 10,seed=42)\n",
    "data_patio_lawn_garden['predicted_labels_xgbc'] = clf_model(xgb_clf, tfidf_df, data_patio_lawn_garden['target'])\n",
    "pd.crosstab(data_patio_lawn_garden['target'], data_patio_lawn_garden['predicted_labels_xgbc'])"
   ]
  },
  {
   "cell_type": "markdown",
   "metadata": {},
   "source": [
    "Here, we see $4222$ instances with a target label of $0$ correctly classified, and $2013$ such instances wrongly classified. Furthermore, $4949$ instances with a target label of $1$ are correctly classified, whereas $2088$ such instances are wrongly classified."
   ]
  },
  {
   "cell_type": "markdown",
   "metadata": {},
   "source": [
    "Now, we'll define a generic function for all regression models"
   ]
  },
  {
   "cell_type": "markdown",
   "metadata": {},
   "source": [
    "<h2>Exercise 6: Sampling (Simple Random, Stratified, Multi-Stage)</h2>\n",
    "<br>\n",
    "In this exercise, we will extract samples from an online retail dataset, with the help of simple random sampling, stratified sampling, and multi-stage sampling."
   ]
  },
  {
   "cell_type": "code",
   "execution_count": 1,
   "metadata": {},
   "outputs": [],
   "source": [
    "import pandas as pd\n",
    "from sklearn.model_selection import train_test_split"
   ]
  },
  {
   "cell_type": "code",
   "execution_count": 2,
   "metadata": {},
   "outputs": [
    {
     "data": {
      "text/html": [
       "<div>\n",
       "<style scoped>\n",
       "    .dataframe tbody tr th:only-of-type {\n",
       "        vertical-align: middle;\n",
       "    }\n",
       "\n",
       "    .dataframe tbody tr th {\n",
       "        vertical-align: top;\n",
       "    }\n",
       "\n",
       "    .dataframe thead th {\n",
       "        text-align: right;\n",
       "    }\n",
       "</style>\n",
       "<table border=\"1\" class=\"dataframe\">\n",
       "  <thead>\n",
       "    <tr style=\"text-align: right;\">\n",
       "      <th></th>\n",
       "      <th>InvoiceNo</th>\n",
       "      <th>StockCode</th>\n",
       "      <th>Description</th>\n",
       "      <th>Quantity</th>\n",
       "      <th>InvoiceDate</th>\n",
       "      <th>UnitPrice</th>\n",
       "      <th>CustomerID</th>\n",
       "      <th>Country</th>\n",
       "    </tr>\n",
       "  </thead>\n",
       "  <tbody>\n",
       "    <tr>\n",
       "      <th>0</th>\n",
       "      <td>536365</td>\n",
       "      <td>85123A</td>\n",
       "      <td>WHITE HANGING HEART T-LIGHT HOLDER</td>\n",
       "      <td>6</td>\n",
       "      <td>2010-12-01 08:26:00</td>\n",
       "      <td>2.55</td>\n",
       "      <td>17850.0</td>\n",
       "      <td>United Kingdom</td>\n",
       "    </tr>\n",
       "    <tr>\n",
       "      <th>1</th>\n",
       "      <td>536365</td>\n",
       "      <td>71053</td>\n",
       "      <td>WHITE METAL LANTERN</td>\n",
       "      <td>6</td>\n",
       "      <td>2010-12-01 08:26:00</td>\n",
       "      <td>3.39</td>\n",
       "      <td>17850.0</td>\n",
       "      <td>United Kingdom</td>\n",
       "    </tr>\n",
       "    <tr>\n",
       "      <th>2</th>\n",
       "      <td>536365</td>\n",
       "      <td>84406B</td>\n",
       "      <td>CREAM CUPID HEARTS COAT HANGER</td>\n",
       "      <td>8</td>\n",
       "      <td>2010-12-01 08:26:00</td>\n",
       "      <td>2.75</td>\n",
       "      <td>17850.0</td>\n",
       "      <td>United Kingdom</td>\n",
       "    </tr>\n",
       "    <tr>\n",
       "      <th>3</th>\n",
       "      <td>536365</td>\n",
       "      <td>84029G</td>\n",
       "      <td>KNITTED UNION FLAG HOT WATER BOTTLE</td>\n",
       "      <td>6</td>\n",
       "      <td>2010-12-01 08:26:00</td>\n",
       "      <td>3.39</td>\n",
       "      <td>17850.0</td>\n",
       "      <td>United Kingdom</td>\n",
       "    </tr>\n",
       "    <tr>\n",
       "      <th>4</th>\n",
       "      <td>536365</td>\n",
       "      <td>84029E</td>\n",
       "      <td>RED WOOLLY HOTTIE WHITE HEART.</td>\n",
       "      <td>6</td>\n",
       "      <td>2010-12-01 08:26:00</td>\n",
       "      <td>3.39</td>\n",
       "      <td>17850.0</td>\n",
       "      <td>United Kingdom</td>\n",
       "    </tr>\n",
       "  </tbody>\n",
       "</table>\n",
       "</div>"
      ],
      "text/plain": [
       "  InvoiceNo StockCode                          Description  Quantity  \\\n",
       "0    536365    85123A   WHITE HANGING HEART T-LIGHT HOLDER         6   \n",
       "1    536365     71053                  WHITE METAL LANTERN         6   \n",
       "2    536365    84406B       CREAM CUPID HEARTS COAT HANGER         8   \n",
       "3    536365    84029G  KNITTED UNION FLAG HOT WATER BOTTLE         6   \n",
       "4    536365    84029E       RED WOOLLY HOTTIE WHITE HEART.         6   \n",
       "\n",
       "          InvoiceDate  UnitPrice  CustomerID         Country  \n",
       "0 2010-12-01 08:26:00       2.55     17850.0  United Kingdom  \n",
       "1 2010-12-01 08:26:00       3.39     17850.0  United Kingdom  \n",
       "2 2010-12-01 08:26:00       2.75     17850.0  United Kingdom  \n",
       "3 2010-12-01 08:26:00       3.39     17850.0  United Kingdom  \n",
       "4 2010-12-01 08:26:00       3.39     17850.0  United Kingdom  "
      ]
     },
     "execution_count": 2,
     "metadata": {},
     "output_type": "execute_result"
    }
   ],
   "source": [
    "data = pd.read_excel('Online Retail.xlsx')\n",
    "data.head()"
   ]
  },
  {
   "cell_type": "markdown",
   "metadata": {},
   "source": [
    "We use <code>sample</code> function to extract a sample from the DataFrame."
   ]
  },
  {
   "cell_type": "code",
   "execution_count": 3,
   "metadata": {},
   "outputs": [
    {
     "data": {
      "text/html": [
       "<div>\n",
       "<style scoped>\n",
       "    .dataframe tbody tr th:only-of-type {\n",
       "        vertical-align: middle;\n",
       "    }\n",
       "\n",
       "    .dataframe tbody tr th {\n",
       "        vertical-align: top;\n",
       "    }\n",
       "\n",
       "    .dataframe thead th {\n",
       "        text-align: right;\n",
       "    }\n",
       "</style>\n",
       "<table border=\"1\" class=\"dataframe\">\n",
       "  <thead>\n",
       "    <tr style=\"text-align: right;\">\n",
       "      <th></th>\n",
       "      <th>InvoiceNo</th>\n",
       "      <th>StockCode</th>\n",
       "      <th>Description</th>\n",
       "      <th>Quantity</th>\n",
       "      <th>InvoiceDate</th>\n",
       "      <th>UnitPrice</th>\n",
       "      <th>CustomerID</th>\n",
       "      <th>Country</th>\n",
       "    </tr>\n",
       "  </thead>\n",
       "  <tbody>\n",
       "    <tr>\n",
       "      <th>209268</th>\n",
       "      <td>555200</td>\n",
       "      <td>71459</td>\n",
       "      <td>HANGING JAM JAR T-LIGHT HOLDER</td>\n",
       "      <td>24</td>\n",
       "      <td>2011-06-01 12:05:00</td>\n",
       "      <td>0.85</td>\n",
       "      <td>17315.0</td>\n",
       "      <td>United Kingdom</td>\n",
       "    </tr>\n",
       "    <tr>\n",
       "      <th>207108</th>\n",
       "      <td>554974</td>\n",
       "      <td>21128</td>\n",
       "      <td>GOLD FISHING GNOME</td>\n",
       "      <td>4</td>\n",
       "      <td>2011-05-27 17:14:00</td>\n",
       "      <td>6.95</td>\n",
       "      <td>14031.0</td>\n",
       "      <td>United Kingdom</td>\n",
       "    </tr>\n",
       "    <tr>\n",
       "      <th>167085</th>\n",
       "      <td>550972</td>\n",
       "      <td>21086</td>\n",
       "      <td>SET/6 RED SPOTTY PAPER CUPS</td>\n",
       "      <td>4</td>\n",
       "      <td>2011-04-21 17:05:00</td>\n",
       "      <td>0.65</td>\n",
       "      <td>14031.0</td>\n",
       "      <td>United Kingdom</td>\n",
       "    </tr>\n",
       "    <tr>\n",
       "      <th>471836</th>\n",
       "      <td>576652</td>\n",
       "      <td>22812</td>\n",
       "      <td>PACK 3 BOXES CHRISTMAS PANETTONE</td>\n",
       "      <td>3</td>\n",
       "      <td>2011-11-16 10:39:00</td>\n",
       "      <td>1.95</td>\n",
       "      <td>17198.0</td>\n",
       "      <td>United Kingdom</td>\n",
       "    </tr>\n",
       "    <tr>\n",
       "      <th>115865</th>\n",
       "      <td>546157</td>\n",
       "      <td>22180</td>\n",
       "      <td>RETROSPOT LAMP</td>\n",
       "      <td>2</td>\n",
       "      <td>2011-03-10 08:40:00</td>\n",
       "      <td>9.95</td>\n",
       "      <td>13502.0</td>\n",
       "      <td>United Kingdom</td>\n",
       "    </tr>\n",
       "  </tbody>\n",
       "</table>\n",
       "</div>"
      ],
      "text/plain": [
       "       InvoiceNo StockCode                       Description  Quantity  \\\n",
       "209268    555200     71459    HANGING JAM JAR T-LIGHT HOLDER        24   \n",
       "207108    554974     21128                GOLD FISHING GNOME         4   \n",
       "167085    550972     21086       SET/6 RED SPOTTY PAPER CUPS         4   \n",
       "471836    576652     22812  PACK 3 BOXES CHRISTMAS PANETTONE         3   \n",
       "115865    546157     22180                    RETROSPOT LAMP         2   \n",
       "\n",
       "               InvoiceDate  UnitPrice  CustomerID         Country  \n",
       "209268 2011-06-01 12:05:00       0.85     17315.0  United Kingdom  \n",
       "207108 2011-05-27 17:14:00       6.95     14031.0  United Kingdom  \n",
       "167085 2011-04-21 17:05:00       0.65     14031.0  United Kingdom  \n",
       "471836 2011-11-16 10:39:00       1.95     17198.0  United Kingdom  \n",
       "115865 2011-03-10 08:40:00       9.95     13502.0  United Kingdom  "
      ]
     },
     "execution_count": 3,
     "metadata": {},
     "output_type": "execute_result"
    }
   ],
   "source": [
    "data_sample_random = data.sample(frac=0.1,random_state=42) # selecting 10% of the data randomly\n",
    "data_sample_random.head()"
   ]
  },
  {
   "cell_type": "markdown",
   "metadata": {},
   "source": [
    "Now, we'll use <code>train_test_split</code> from <code>sklearn</code> function to create stratified samples"
   ]
  },
  {
   "cell_type": "code",
   "execution_count": 4,
   "metadata": {},
   "outputs": [
    {
     "data": {
      "text/plain": [
       "(541909, 8)"
      ]
     },
     "execution_count": 4,
     "metadata": {},
     "output_type": "execute_result"
    }
   ],
   "source": [
    "X_train, X_valid, y_train, y_valid = train_test_split(data, data['Country'],test_size=0.2, random_state=42,stratify = data['Country'])\n",
    "data.shape"
   ]
  },
  {
   "cell_type": "markdown",
   "metadata": {},
   "source": [
    "To check the shape of the training model"
   ]
  },
  {
   "cell_type": "code",
   "execution_count": 5,
   "metadata": {},
   "outputs": [
    {
     "data": {
      "text/plain": [
       "(433527, 8)"
      ]
     },
     "execution_count": 5,
     "metadata": {},
     "output_type": "execute_result"
    }
   ],
   "source": [
    "X_train.shape"
   ]
  },
  {
   "cell_type": "markdown",
   "metadata": {},
   "source": [
    "We filter out the data in various stages and extract random samples from it. We will extract a random sample of 2% from those transactions by country, which occurred in United Kingdom, Germany, or France and corresponding quantity is >= 2"
   ]
  },
  {
   "cell_type": "code",
   "execution_count": 6,
   "metadata": {},
   "outputs": [
    {
     "data": {
      "text/html": [
       "<div>\n",
       "<style scoped>\n",
       "    .dataframe tbody tr th:only-of-type {\n",
       "        vertical-align: middle;\n",
       "    }\n",
       "\n",
       "    .dataframe tbody tr th {\n",
       "        vertical-align: top;\n",
       "    }\n",
       "\n",
       "    .dataframe thead th {\n",
       "        text-align: right;\n",
       "    }\n",
       "</style>\n",
       "<table border=\"1\" class=\"dataframe\">\n",
       "  <thead>\n",
       "    <tr style=\"text-align: right;\">\n",
       "      <th></th>\n",
       "      <th>InvoiceNo</th>\n",
       "      <th>StockCode</th>\n",
       "      <th>Description</th>\n",
       "      <th>Quantity</th>\n",
       "      <th>InvoiceDate</th>\n",
       "      <th>UnitPrice</th>\n",
       "      <th>CustomerID</th>\n",
       "      <th>Country</th>\n",
       "    </tr>\n",
       "  </thead>\n",
       "  <tbody>\n",
       "    <tr>\n",
       "      <th>224900</th>\n",
       "      <td>556579</td>\n",
       "      <td>22987</td>\n",
       "      <td>WRAP SUMMER ROSE DESIGN</td>\n",
       "      <td>25</td>\n",
       "      <td>2011-06-13 14:16:00</td>\n",
       "      <td>0.42</td>\n",
       "      <td>15069.0</td>\n",
       "      <td>United Kingdom</td>\n",
       "    </tr>\n",
       "    <tr>\n",
       "      <th>479100</th>\n",
       "      <td>577137</td>\n",
       "      <td>21137</td>\n",
       "      <td>BLACK RECORD COVER FRAME</td>\n",
       "      <td>96</td>\n",
       "      <td>2011-11-18 08:59:00</td>\n",
       "      <td>3.39</td>\n",
       "      <td>14110.0</td>\n",
       "      <td>United Kingdom</td>\n",
       "    </tr>\n",
       "    <tr>\n",
       "      <th>78507</th>\n",
       "      <td>542888</td>\n",
       "      <td>22476</td>\n",
       "      <td>EMPIRE UNION JACK TV DINNER TRAY</td>\n",
       "      <td>3</td>\n",
       "      <td>2011-02-01 13:15:00</td>\n",
       "      <td>4.95</td>\n",
       "      <td>15687.0</td>\n",
       "      <td>United Kingdom</td>\n",
       "    </tr>\n",
       "    <tr>\n",
       "      <th>499283</th>\n",
       "      <td>578664</td>\n",
       "      <td>22593</td>\n",
       "      <td>CHRISTMAS GINGHAM STAR</td>\n",
       "      <td>7</td>\n",
       "      <td>2011-11-24 16:59:00</td>\n",
       "      <td>0.85</td>\n",
       "      <td>15910.0</td>\n",
       "      <td>United Kingdom</td>\n",
       "    </tr>\n",
       "    <tr>\n",
       "      <th>153888</th>\n",
       "      <td>549831</td>\n",
       "      <td>16156S</td>\n",
       "      <td>WRAP PINK FAIRY CAKES</td>\n",
       "      <td>25</td>\n",
       "      <td>2011-04-12 13:10:00</td>\n",
       "      <td>0.42</td>\n",
       "      <td>14844.0</td>\n",
       "      <td>United Kingdom</td>\n",
       "    </tr>\n",
       "  </tbody>\n",
       "</table>\n",
       "</div>"
      ],
      "text/plain": [
       "       InvoiceNo StockCode                       Description  Quantity  \\\n",
       "224900    556579     22987           WRAP SUMMER ROSE DESIGN        25   \n",
       "479100    577137     21137          BLACK RECORD COVER FRAME        96   \n",
       "78507     542888     22476  EMPIRE UNION JACK TV DINNER TRAY         3   \n",
       "499283    578664     22593            CHRISTMAS GINGHAM STAR         7   \n",
       "153888    549831    16156S            WRAP PINK FAIRY CAKES         25   \n",
       "\n",
       "               InvoiceDate  UnitPrice  CustomerID         Country  \n",
       "224900 2011-06-13 14:16:00       0.42     15069.0  United Kingdom  \n",
       "479100 2011-11-18 08:59:00       3.39     14110.0  United Kingdom  \n",
       "78507  2011-02-01 13:15:00       4.95     15687.0  United Kingdom  \n",
       "499283 2011-11-24 16:59:00       0.85     15910.0  United Kingdom  \n",
       "153888 2011-04-12 13:10:00       0.42     14844.0  United Kingdom  "
      ]
     },
     "execution_count": 6,
     "metadata": {},
     "output_type": "execute_result"
    }
   ],
   "source": [
    "data_ugf = data[data['Country'].isin(['United Kingdom', 'Germany', 'France'])]\n",
    "data_ugf_q2 = data_ugf[data_ugf['Quantity']>=2]\n",
    "data_ugf_q2_sample = data_ugf_q2.sample(frac = .02, random_state=42)\n",
    "data_ugf_q2_sample.head()"
   ]
  },
  {
   "cell_type": "markdown",
   "metadata": {},
   "source": [
    "<h1>Developing a Text classifier</h1>\n",
    "<br>\n",
    "<h2>Exercise 7: Removing Highly Correlated Features (Tokens)</h2>\n",
    "<br>\n",
    "In this exercise, we will remove highly correlated words from a tf-idf matrix representation of <code>fetch_20newsgroups</code> text dataset from <code>sklearn</code>"
   ]
  },
  {
   "cell_type": "code",
   "execution_count": 17,
   "metadata": {},
   "outputs": [],
   "source": [
    "import pandas as pd\n",
    "import numpy as np\n",
    "import matplotlib as mpl\n",
    "import matplotlib.pyplot as plt\n",
    "%matplotlib inline\n",
    "import re\n",
    "import string\n",
    "\n",
    "import nltk\n",
    "from nltk import word_tokenize\n",
    "from nltk.corpus import stopwords\n",
    "from nltk.stem import WordNetLemmatizer\n",
    "\n",
    "from sklearn.feature_extraction.text import TfidfVectorizer\n",
    "from sklearn.datasets import fetch_20newsgroups\n",
    "\n",
    "import seaborn as sns\n",
    "from collections import Counter\n",
    "from pylab import *\n",
    "import warnings\n",
    "warnings.filterwarnings('ignore')"
   ]
  },
  {
   "cell_type": "markdown",
   "metadata": {},
   "source": [
    "We will be using stop words from the English language only. <code>WordNet</code> states the <code>lemmatizer</code> we will be using."
   ]
  },
  {
   "cell_type": "code",
   "execution_count": 8,
   "metadata": {},
   "outputs": [],
   "source": [
    "stop_words = stopwords.words('english')\n",
    "stop_words = stop_words + list(string.printable)\n",
    "lemmatizer = WordNetLemmatizer()"
   ]
  },
  {
   "cell_type": "markdown",
   "metadata": {},
   "source": [
    "To specify the categories of news articles we want to fetch by"
   ]
  },
  {
   "cell_type": "markdown",
   "metadata": {},
   "source": [
    "To fetch sklearn's \"the 20 newsgroups\" text dataset, corresponding to the categories mentioned earlier."
   ]
  },
  {
   "cell_type": "code",
   "execution_count": 12,
   "metadata": {},
   "outputs": [
    {
     "data": {
      "text/html": [
       "<div>\n",
       "<style scoped>\n",
       "    .dataframe tbody tr th:only-of-type {\n",
       "        vertical-align: middle;\n",
       "    }\n",
       "\n",
       "    .dataframe tbody tr th {\n",
       "        vertical-align: top;\n",
       "    }\n",
       "\n",
       "    .dataframe thead th {\n",
       "        text-align: right;\n",
       "    }\n",
       "</style>\n",
       "<table border=\"1\" class=\"dataframe\">\n",
       "  <thead>\n",
       "    <tr style=\"text-align: right;\">\n",
       "      <th></th>\n",
       "      <th>text</th>\n",
       "      <th>category</th>\n",
       "    </tr>\n",
       "  </thead>\n",
       "  <tbody>\n",
       "    <tr>\n",
       "      <th>0</th>\n",
       "      <td>From: Steve@Busop.cit.wayne.edu (Steve Teolis)...</td>\n",
       "      <td>0</td>\n",
       "    </tr>\n",
       "    <tr>\n",
       "      <th>1</th>\n",
       "      <td>From: jks2x@holmes.acc.Virginia.EDU (Jason K. ...</td>\n",
       "      <td>0</td>\n",
       "    </tr>\n",
       "    <tr>\n",
       "      <th>2</th>\n",
       "      <td>From: wayne@uva386.schools.virginia.edu (Tony ...</td>\n",
       "      <td>1</td>\n",
       "    </tr>\n",
       "    <tr>\n",
       "      <th>3</th>\n",
       "      <td>From: lihan@ccwf.cc.utexas.edu (Bruce G. Bostw...</td>\n",
       "      <td>1</td>\n",
       "    </tr>\n",
       "    <tr>\n",
       "      <th>4</th>\n",
       "      <td>From: myoakam@cis.ohio-state.edu (micah r yoak...</td>\n",
       "      <td>0</td>\n",
       "    </tr>\n",
       "  </tbody>\n",
       "</table>\n",
       "</div>"
      ],
      "text/plain": [
       "                                                text  category\n",
       "0  From: Steve@Busop.cit.wayne.edu (Steve Teolis)...         0\n",
       "1  From: jks2x@holmes.acc.Virginia.EDU (Jason K. ...         0\n",
       "2  From: wayne@uva386.schools.virginia.edu (Tony ...         1\n",
       "3  From: lihan@ccwf.cc.utexas.edu (Bruce G. Bostw...         1\n",
       "4  From: myoakam@cis.ohio-state.edu (micah r yoak...         0"
      ]
     },
     "execution_count": 12,
     "metadata": {},
     "output_type": "execute_result"
    }
   ],
   "source": [
    "news_data = fetch_20newsgroups(subset='train', categories=categories, shuffle=True, random_state=42, download_if_missing=True)\n",
    "news_data_df = pd.DataFrame({'text' : news_data.data, 'category': news_data.target})\n",
    "news_data_df.head()"
   ]
  },
  {
   "cell_type": "markdown",
   "metadata": {},
   "source": [
    "Now, make use of the <code>lambda</code> function to extract tokens from each 'text' of the <code>news_data_df</code> <code>DataFrame</code>. Check whether any of these tokens are stop words, lemmatize them, and concatenate them side by side. We'll use the join function to concatenate a list of words into a single sentence. We'll use the regular expression (<code>re</code>) to replace anything other than letters, digits, and white spaces with blank space. "
   ]
  },
  {
   "cell_type": "code",
   "execution_count": 14,
   "metadata": {},
   "outputs": [],
   "source": [
    "news_data_df['cleaned_text'] = news_data_df['text'].apply(\\\n",
    "lambda x : ' '.join([lemmatizer.lemmatize(word.lower()) \\\n",
    "                     for word in word_tokenize(re.sub(r'([^\\s\\w]|_)+', ' ', str(x))) if word.lower() not in stop_words]))"
   ]
  },
  {
   "cell_type": "markdown",
   "metadata": {},
   "source": [
    "The following lines of codes are used to create a tf-idf matrix and transform it to a <code>DataFrame</code>"
   ]
  },
  {
   "cell_type": "code",
   "execution_count": 15,
   "metadata": {},
   "outputs": [
    {
     "data": {
      "text/html": [
       "<div>\n",
       "<style scoped>\n",
       "    .dataframe tbody tr th:only-of-type {\n",
       "        vertical-align: middle;\n",
       "    }\n",
       "\n",
       "    .dataframe tbody tr th {\n",
       "        vertical-align: top;\n",
       "    }\n",
       "\n",
       "    .dataframe thead th {\n",
       "        text-align: right;\n",
       "    }\n",
       "</style>\n",
       "<table border=\"1\" class=\"dataframe\">\n",
       "  <thead>\n",
       "    <tr style=\"text-align: right;\">\n",
       "      <th></th>\n",
       "      <th>00</th>\n",
       "      <th>article</th>\n",
       "      <th>com</th>\n",
       "      <th>edu</th>\n",
       "      <th>good</th>\n",
       "      <th>host</th>\n",
       "      <th>know</th>\n",
       "      <th>like</th>\n",
       "      <th>line</th>\n",
       "      <th>new</th>\n",
       "      <th>nntp</th>\n",
       "      <th>one</th>\n",
       "      <th>organization</th>\n",
       "      <th>posting</th>\n",
       "      <th>sale</th>\n",
       "      <th>subject</th>\n",
       "      <th>university</th>\n",
       "      <th>use</th>\n",
       "      <th>would</th>\n",
       "      <th>writes</th>\n",
       "    </tr>\n",
       "  </thead>\n",
       "  <tbody>\n",
       "    <tr>\n",
       "      <th>0</th>\n",
       "      <td>0.719664</td>\n",
       "      <td>0.000000</td>\n",
       "      <td>0.000000</td>\n",
       "      <td>0.191683</td>\n",
       "      <td>0.0</td>\n",
       "      <td>0.124066</td>\n",
       "      <td>0.000000</td>\n",
       "      <td>0.153294</td>\n",
       "      <td>0.066931</td>\n",
       "      <td>0.520927</td>\n",
       "      <td>0.124370</td>\n",
       "      <td>0.0</td>\n",
       "      <td>0.068809</td>\n",
       "      <td>0.120711</td>\n",
       "      <td>0.161624</td>\n",
       "      <td>0.066888</td>\n",
       "      <td>0.255410</td>\n",
       "      <td>0.0</td>\n",
       "      <td>0.00000</td>\n",
       "      <td>0.000000</td>\n",
       "    </tr>\n",
       "    <tr>\n",
       "      <th>1</th>\n",
       "      <td>0.000000</td>\n",
       "      <td>0.000000</td>\n",
       "      <td>0.000000</td>\n",
       "      <td>0.219265</td>\n",
       "      <td>0.0</td>\n",
       "      <td>0.000000</td>\n",
       "      <td>0.353598</td>\n",
       "      <td>0.350704</td>\n",
       "      <td>0.153124</td>\n",
       "      <td>0.000000</td>\n",
       "      <td>0.000000</td>\n",
       "      <td>0.0</td>\n",
       "      <td>0.157421</td>\n",
       "      <td>0.000000</td>\n",
       "      <td>0.739523</td>\n",
       "      <td>0.153025</td>\n",
       "      <td>0.292162</td>\n",
       "      <td>0.0</td>\n",
       "      <td>0.00000</td>\n",
       "      <td>0.000000</td>\n",
       "    </tr>\n",
       "    <tr>\n",
       "      <th>2</th>\n",
       "      <td>0.000000</td>\n",
       "      <td>0.000000</td>\n",
       "      <td>0.000000</td>\n",
       "      <td>0.853563</td>\n",
       "      <td>0.0</td>\n",
       "      <td>0.000000</td>\n",
       "      <td>0.000000</td>\n",
       "      <td>0.000000</td>\n",
       "      <td>0.298044</td>\n",
       "      <td>0.000000</td>\n",
       "      <td>0.000000</td>\n",
       "      <td>0.0</td>\n",
       "      <td>0.306407</td>\n",
       "      <td>0.000000</td>\n",
       "      <td>0.000000</td>\n",
       "      <td>0.297852</td>\n",
       "      <td>0.000000</td>\n",
       "      <td>0.0</td>\n",
       "      <td>0.00000</td>\n",
       "      <td>0.000000</td>\n",
       "    </tr>\n",
       "    <tr>\n",
       "      <th>3</th>\n",
       "      <td>0.000000</td>\n",
       "      <td>0.267175</td>\n",
       "      <td>0.255208</td>\n",
       "      <td>0.567867</td>\n",
       "      <td>0.0</td>\n",
       "      <td>0.245034</td>\n",
       "      <td>0.000000</td>\n",
       "      <td>0.302760</td>\n",
       "      <td>0.132190</td>\n",
       "      <td>0.000000</td>\n",
       "      <td>0.245634</td>\n",
       "      <td>0.0</td>\n",
       "      <td>0.135900</td>\n",
       "      <td>0.238407</td>\n",
       "      <td>0.000000</td>\n",
       "      <td>0.132105</td>\n",
       "      <td>0.252221</td>\n",
       "      <td>0.0</td>\n",
       "      <td>0.28648</td>\n",
       "      <td>0.270283</td>\n",
       "    </tr>\n",
       "    <tr>\n",
       "      <th>4</th>\n",
       "      <td>0.000000</td>\n",
       "      <td>0.000000</td>\n",
       "      <td>0.000000</td>\n",
       "      <td>0.411807</td>\n",
       "      <td>0.0</td>\n",
       "      <td>0.266541</td>\n",
       "      <td>0.000000</td>\n",
       "      <td>0.000000</td>\n",
       "      <td>0.143793</td>\n",
       "      <td>0.000000</td>\n",
       "      <td>0.267194</td>\n",
       "      <td>0.0</td>\n",
       "      <td>0.147828</td>\n",
       "      <td>0.259333</td>\n",
       "      <td>0.694459</td>\n",
       "      <td>0.143700</td>\n",
       "      <td>0.274358</td>\n",
       "      <td>0.0</td>\n",
       "      <td>0.00000</td>\n",
       "      <td>0.000000</td>\n",
       "    </tr>\n",
       "  </tbody>\n",
       "</table>\n",
       "</div>"
      ],
      "text/plain": [
       "         00   article       com       edu  good      host      know      like  \\\n",
       "0  0.719664  0.000000  0.000000  0.191683   0.0  0.124066  0.000000  0.153294   \n",
       "1  0.000000  0.000000  0.000000  0.219265   0.0  0.000000  0.353598  0.350704   \n",
       "2  0.000000  0.000000  0.000000  0.853563   0.0  0.000000  0.000000  0.000000   \n",
       "3  0.000000  0.267175  0.255208  0.567867   0.0  0.245034  0.000000  0.302760   \n",
       "4  0.000000  0.000000  0.000000  0.411807   0.0  0.266541  0.000000  0.000000   \n",
       "\n",
       "       line       new      nntp  one  organization   posting      sale  \\\n",
       "0  0.066931  0.520927  0.124370  0.0      0.068809  0.120711  0.161624   \n",
       "1  0.153124  0.000000  0.000000  0.0      0.157421  0.000000  0.739523   \n",
       "2  0.298044  0.000000  0.000000  0.0      0.306407  0.000000  0.000000   \n",
       "3  0.132190  0.000000  0.245634  0.0      0.135900  0.238407  0.000000   \n",
       "4  0.143793  0.000000  0.267194  0.0      0.147828  0.259333  0.694459   \n",
       "\n",
       "    subject  university  use    would    writes  \n",
       "0  0.066888    0.255410  0.0  0.00000  0.000000  \n",
       "1  0.153025    0.292162  0.0  0.00000  0.000000  \n",
       "2  0.297852    0.000000  0.0  0.00000  0.000000  \n",
       "3  0.132105    0.252221  0.0  0.28648  0.270283  \n",
       "4  0.143700    0.274358  0.0  0.00000  0.000000  "
      ]
     },
     "execution_count": 15,
     "metadata": {},
     "output_type": "execute_result"
    }
   ],
   "source": [
    "tfidf_model = TfidfVectorizer(max_features=20)\n",
    "tfidf_df = pd.DataFrame(tfidf_model.fit_transform(news_data_df['cleaned_text']).todense())\n",
    "tfidf_df.columns = sorted(tfidf_model.vocabulary_)\n",
    "tfidf_df.head()"
   ]
  },
  {
   "cell_type": "markdown",
   "metadata": {},
   "source": [
    "We'll calculate the correlation matrix for this tf-idf representation"
   ]
  },
  {
   "cell_type": "code",
   "execution_count": 16,
   "metadata": {},
   "outputs": [
    {
     "data": {
      "text/html": [
       "<div>\n",
       "<style scoped>\n",
       "    .dataframe tbody tr th:only-of-type {\n",
       "        vertical-align: middle;\n",
       "    }\n",
       "\n",
       "    .dataframe tbody tr th {\n",
       "        vertical-align: top;\n",
       "    }\n",
       "\n",
       "    .dataframe thead th {\n",
       "        text-align: right;\n",
       "    }\n",
       "</style>\n",
       "<table border=\"1\" class=\"dataframe\">\n",
       "  <thead>\n",
       "    <tr style=\"text-align: right;\">\n",
       "      <th></th>\n",
       "      <th>00</th>\n",
       "      <th>article</th>\n",
       "      <th>com</th>\n",
       "      <th>edu</th>\n",
       "      <th>good</th>\n",
       "      <th>host</th>\n",
       "      <th>know</th>\n",
       "      <th>like</th>\n",
       "      <th>line</th>\n",
       "      <th>new</th>\n",
       "      <th>nntp</th>\n",
       "      <th>one</th>\n",
       "      <th>organization</th>\n",
       "      <th>posting</th>\n",
       "      <th>sale</th>\n",
       "      <th>subject</th>\n",
       "      <th>university</th>\n",
       "      <th>use</th>\n",
       "      <th>would</th>\n",
       "      <th>writes</th>\n",
       "    </tr>\n",
       "  </thead>\n",
       "  <tbody>\n",
       "    <tr>\n",
       "      <th>00</th>\n",
       "      <td>1.000000</td>\n",
       "      <td>-0.113080</td>\n",
       "      <td>-0.081874</td>\n",
       "      <td>-0.116847</td>\n",
       "      <td>-0.053495</td>\n",
       "      <td>-0.078405</td>\n",
       "      <td>-0.096597</td>\n",
       "      <td>-0.084413</td>\n",
       "      <td>-0.161674</td>\n",
       "      <td>0.026696</td>\n",
       "      <td>-0.084632</td>\n",
       "      <td>-0.076635</td>\n",
       "      <td>-0.208121</td>\n",
       "      <td>-0.083772</td>\n",
       "      <td>0.054777</td>\n",
       "      <td>-0.188759</td>\n",
       "      <td>-0.105828</td>\n",
       "      <td>-0.076621</td>\n",
       "      <td>-0.094492</td>\n",
       "      <td>-0.127518</td>\n",
       "    </tr>\n",
       "    <tr>\n",
       "      <th>article</th>\n",
       "      <td>-0.113080</td>\n",
       "      <td>1.000000</td>\n",
       "      <td>0.125853</td>\n",
       "      <td>0.076146</td>\n",
       "      <td>-0.008246</td>\n",
       "      <td>-0.055519</td>\n",
       "      <td>0.025570</td>\n",
       "      <td>-0.000201</td>\n",
       "      <td>-0.158956</td>\n",
       "      <td>-0.121483</td>\n",
       "      <td>-0.046249</td>\n",
       "      <td>0.029978</td>\n",
       "      <td>-0.201204</td>\n",
       "      <td>-0.038486</td>\n",
       "      <td>-0.197164</td>\n",
       "      <td>-0.189810</td>\n",
       "      <td>-0.158022</td>\n",
       "      <td>0.035890</td>\n",
       "      <td>0.015507</td>\n",
       "      <td>0.572650</td>\n",
       "    </tr>\n",
       "    <tr>\n",
       "      <th>com</th>\n",
       "      <td>-0.081874</td>\n",
       "      <td>0.125853</td>\n",
       "      <td>1.000000</td>\n",
       "      <td>-0.471456</td>\n",
       "      <td>-0.016128</td>\n",
       "      <td>-0.178742</td>\n",
       "      <td>-0.036333</td>\n",
       "      <td>-0.037284</td>\n",
       "      <td>-0.110011</td>\n",
       "      <td>-0.071355</td>\n",
       "      <td>-0.175256</td>\n",
       "      <td>-0.037293</td>\n",
       "      <td>-0.084630</td>\n",
       "      <td>-0.168613</td>\n",
       "      <td>-0.131051</td>\n",
       "      <td>-0.114145</td>\n",
       "      <td>-0.368688</td>\n",
       "      <td>-0.035631</td>\n",
       "      <td>-0.010214</td>\n",
       "      <td>0.150258</td>\n",
       "    </tr>\n",
       "    <tr>\n",
       "      <th>edu</th>\n",
       "      <td>-0.116847</td>\n",
       "      <td>0.076146</td>\n",
       "      <td>-0.471456</td>\n",
       "      <td>1.000000</td>\n",
       "      <td>-0.098067</td>\n",
       "      <td>0.242610</td>\n",
       "      <td>-0.100041</td>\n",
       "      <td>-0.103703</td>\n",
       "      <td>-0.043210</td>\n",
       "      <td>-0.059893</td>\n",
       "      <td>0.247395</td>\n",
       "      <td>-0.119432</td>\n",
       "      <td>0.023394</td>\n",
       "      <td>0.225912</td>\n",
       "      <td>-0.003604</td>\n",
       "      <td>-0.019058</td>\n",
       "      <td>0.371798</td>\n",
       "      <td>-0.126742</td>\n",
       "      <td>-0.152644</td>\n",
       "      <td>0.017169</td>\n",
       "    </tr>\n",
       "    <tr>\n",
       "      <th>good</th>\n",
       "      <td>-0.053495</td>\n",
       "      <td>-0.008246</td>\n",
       "      <td>-0.016128</td>\n",
       "      <td>-0.098067</td>\n",
       "      <td>1.000000</td>\n",
       "      <td>-0.098199</td>\n",
       "      <td>0.025899</td>\n",
       "      <td>0.045106</td>\n",
       "      <td>-0.186943</td>\n",
       "      <td>-0.046803</td>\n",
       "      <td>-0.098198</td>\n",
       "      <td>0.074548</td>\n",
       "      <td>-0.166908</td>\n",
       "      <td>-0.089622</td>\n",
       "      <td>-0.115122</td>\n",
       "      <td>-0.176614</td>\n",
       "      <td>-0.101782</td>\n",
       "      <td>0.068633</td>\n",
       "      <td>0.087909</td>\n",
       "      <td>0.056725</td>\n",
       "    </tr>\n",
       "  </tbody>\n",
       "</table>\n",
       "</div>"
      ],
      "text/plain": [
       "               00   article       com       edu      good      host      know  \\\n",
       "00       1.000000 -0.113080 -0.081874 -0.116847 -0.053495 -0.078405 -0.096597   \n",
       "article -0.113080  1.000000  0.125853  0.076146 -0.008246 -0.055519  0.025570   \n",
       "com     -0.081874  0.125853  1.000000 -0.471456 -0.016128 -0.178742 -0.036333   \n",
       "edu     -0.116847  0.076146 -0.471456  1.000000 -0.098067  0.242610 -0.100041   \n",
       "good    -0.053495 -0.008246 -0.016128 -0.098067  1.000000 -0.098199  0.025899   \n",
       "\n",
       "             like      line       new      nntp       one  organization  \\\n",
       "00      -0.084413 -0.161674  0.026696 -0.084632 -0.076635     -0.208121   \n",
       "article -0.000201 -0.158956 -0.121483 -0.046249  0.029978     -0.201204   \n",
       "com     -0.037284 -0.110011 -0.071355 -0.175256 -0.037293     -0.084630   \n",
       "edu     -0.103703 -0.043210 -0.059893  0.247395 -0.119432      0.023394   \n",
       "good     0.045106 -0.186943 -0.046803 -0.098198  0.074548     -0.166908   \n",
       "\n",
       "          posting      sale   subject  university       use     would  \\\n",
       "00      -0.083772  0.054777 -0.188759   -0.105828 -0.076621 -0.094492   \n",
       "article -0.038486 -0.197164 -0.189810   -0.158022  0.035890  0.015507   \n",
       "com     -0.168613 -0.131051 -0.114145   -0.368688 -0.035631 -0.010214   \n",
       "edu      0.225912 -0.003604 -0.019058    0.371798 -0.126742 -0.152644   \n",
       "good    -0.089622 -0.115122 -0.176614   -0.101782  0.068633  0.087909   \n",
       "\n",
       "           writes  \n",
       "00      -0.127518  \n",
       "article  0.572650  \n",
       "com      0.150258  \n",
       "edu      0.017169  \n",
       "good     0.056725  "
      ]
     },
     "execution_count": 16,
     "metadata": {},
     "output_type": "execute_result"
    }
   ],
   "source": [
    "correlation_matrix = tfidf_df.corr()\n",
    "correlation_matrix.head()"
   ]
  },
  {
   "cell_type": "markdown",
   "metadata": {},
   "source": [
    "Now, we'll plot the correlation matrix using seaborn's <code>heatmap</code> function."
   ]
  },
  {
   "cell_type": "code",
   "execution_count": 18,
   "metadata": {},
   "outputs": [
    {
     "data": {
      "text/plain": [
       "<matplotlib.axes._subplots.AxesSubplot at 0x1f11f0c03c8>"
      ]
     },
     "execution_count": 18,
     "metadata": {},
     "output_type": "execute_result"
    },
    {
     "data": {
      "image/png": "[encoded data removed]",
      "text/plain": [
       "<Figure size 1440x1440 with 2 Axes>"
      ]
     },
     "metadata": {
      "needs_background": "light"
     },
     "output_type": "display_data"
    }
   ],
   "source": [
    "fig, ax = plt.subplots(figsize=(20, 20))\n",
    "sns.heatmap(correlation_matrix,annot=True)"
   ]
  },
  {
   "cell_type": "markdown",
   "metadata": {},
   "source": [
    "To identify a pair of terms with high correlation, we created an upper triangular matrix from the correlation matrix. We also created a stacked array out of it and traversed it."
   ]
  },
  {
   "cell_type": "code",
   "execution_count": 20,
   "metadata": {},
   "outputs": [
    {
     "data": {
      "text/html": [
       "<div>\n",
       "<style scoped>\n",
       "    .dataframe tbody tr th:only-of-type {\n",
       "        vertical-align: middle;\n",
       "    }\n",
       "\n",
       "    .dataframe tbody tr th {\n",
       "        vertical-align: top;\n",
       "    }\n",
       "\n",
       "    .dataframe thead th {\n",
       "        text-align: right;\n",
       "    }\n",
       "</style>\n",
       "<table border=\"1\" class=\"dataframe\">\n",
       "  <thead>\n",
       "    <tr style=\"text-align: right;\">\n",
       "      <th></th>\n",
       "      <th>word1</th>\n",
       "      <th>word2</th>\n",
       "      <th>correlation</th>\n",
       "    </tr>\n",
       "  </thead>\n",
       "  <tbody>\n",
       "    <tr>\n",
       "      <th>95</th>\n",
       "      <td>host</td>\n",
       "      <td>nntp</td>\n",
       "      <td>0.953828</td>\n",
       "    </tr>\n",
       "    <tr>\n",
       "      <th>98</th>\n",
       "      <td>host</td>\n",
       "      <td>posting</td>\n",
       "      <td>0.896666</td>\n",
       "    </tr>\n",
       "    <tr>\n",
       "      <th>158</th>\n",
       "      <td>nntp</td>\n",
       "      <td>posting</td>\n",
       "      <td>0.934923</td>\n",
       "    </tr>\n",
       "    <tr>\n",
       "      <th>177</th>\n",
       "      <td>organization</td>\n",
       "      <td>subject</td>\n",
       "      <td>0.793946</td>\n",
       "    </tr>\n",
       "  </tbody>\n",
       "</table>\n",
       "</div>"
      ],
      "text/plain": [
       "            word1    word2  correlation\n",
       "95           host     nntp     0.953828\n",
       "98           host  posting     0.896666\n",
       "158          nntp  posting     0.934923\n",
       "177  organization  subject     0.793946"
      ]
     },
     "execution_count": 20,
     "metadata": {},
     "output_type": "execute_result"
    }
   ],
   "source": [
    "correlation_matrix_ut = correlation_matrix.where(np.triu(np.ones(correlation_matrix.shape)).astype(np.bool))\n",
    "correlation_matrix_melted = correlation_matrix_ut.stack().reset_index()\n",
    "correlation_matrix_melted.columns = ['word1', 'word2', 'correlation']\n",
    "correlation_matrix_melted[(correlation_matrix_melted['word1']!=\\\n",
    "                           correlation_matrix_melted['word2']) & (correlation_matrix_melted['correlation']>.7)]"
   ]
  },
  {
   "cell_type": "markdown",
   "metadata": {},
   "source": [
    "In this step, we'll remove terms for which the coefficient of correlation is $> 0.7$ and create a separate <code>DataFrame</code> with the remaining terms."
   ]
  },
  {
   "cell_type": "code",
   "execution_count": 21,
   "metadata": {},
   "outputs": [
    {
     "data": {
      "text/html": [
       "<div>\n",
       "<style scoped>\n",
       "    .dataframe tbody tr th:only-of-type {\n",
       "        vertical-align: middle;\n",
       "    }\n",
       "\n",
       "    .dataframe tbody tr th {\n",
       "        vertical-align: top;\n",
       "    }\n",
       "\n",
       "    .dataframe thead th {\n",
       "        text-align: right;\n",
       "    }\n",
       "</style>\n",
       "<table border=\"1\" class=\"dataframe\">\n",
       "  <thead>\n",
       "    <tr style=\"text-align: right;\">\n",
       "      <th></th>\n",
       "      <th>00</th>\n",
       "      <th>article</th>\n",
       "      <th>com</th>\n",
       "      <th>edu</th>\n",
       "      <th>good</th>\n",
       "      <th>host</th>\n",
       "      <th>know</th>\n",
       "      <th>like</th>\n",
       "      <th>line</th>\n",
       "      <th>new</th>\n",
       "      <th>one</th>\n",
       "      <th>sale</th>\n",
       "      <th>subject</th>\n",
       "      <th>university</th>\n",
       "      <th>use</th>\n",
       "      <th>would</th>\n",
       "      <th>writes</th>\n",
       "    </tr>\n",
       "  </thead>\n",
       "  <tbody>\n",
       "    <tr>\n",
       "      <th>0</th>\n",
       "      <td>0.719664</td>\n",
       "      <td>0.000000</td>\n",
       "      <td>0.000000</td>\n",
       "      <td>0.191683</td>\n",
       "      <td>0.0</td>\n",
       "      <td>0.124066</td>\n",
       "      <td>0.000000</td>\n",
       "      <td>0.153294</td>\n",
       "      <td>0.066931</td>\n",
       "      <td>0.520927</td>\n",
       "      <td>0.0</td>\n",
       "      <td>0.161624</td>\n",
       "      <td>0.066888</td>\n",
       "      <td>0.255410</td>\n",
       "      <td>0.0</td>\n",
       "      <td>0.00000</td>\n",
       "      <td>0.000000</td>\n",
       "    </tr>\n",
       "    <tr>\n",
       "      <th>1</th>\n",
       "      <td>0.000000</td>\n",
       "      <td>0.000000</td>\n",
       "      <td>0.000000</td>\n",
       "      <td>0.219265</td>\n",
       "      <td>0.0</td>\n",
       "      <td>0.000000</td>\n",
       "      <td>0.353598</td>\n",
       "      <td>0.350704</td>\n",
       "      <td>0.153124</td>\n",
       "      <td>0.000000</td>\n",
       "      <td>0.0</td>\n",
       "      <td>0.739523</td>\n",
       "      <td>0.153025</td>\n",
       "      <td>0.292162</td>\n",
       "      <td>0.0</td>\n",
       "      <td>0.00000</td>\n",
       "      <td>0.000000</td>\n",
       "    </tr>\n",
       "    <tr>\n",
       "      <th>2</th>\n",
       "      <td>0.000000</td>\n",
       "      <td>0.000000</td>\n",
       "      <td>0.000000</td>\n",
       "      <td>0.853563</td>\n",
       "      <td>0.0</td>\n",
       "      <td>0.000000</td>\n",
       "      <td>0.000000</td>\n",
       "      <td>0.000000</td>\n",
       "      <td>0.298044</td>\n",
       "      <td>0.000000</td>\n",
       "      <td>0.0</td>\n",
       "      <td>0.000000</td>\n",
       "      <td>0.297852</td>\n",
       "      <td>0.000000</td>\n",
       "      <td>0.0</td>\n",
       "      <td>0.00000</td>\n",
       "      <td>0.000000</td>\n",
       "    </tr>\n",
       "    <tr>\n",
       "      <th>3</th>\n",
       "      <td>0.000000</td>\n",
       "      <td>0.267175</td>\n",
       "      <td>0.255208</td>\n",
       "      <td>0.567867</td>\n",
       "      <td>0.0</td>\n",
       "      <td>0.245034</td>\n",
       "      <td>0.000000</td>\n",
       "      <td>0.302760</td>\n",
       "      <td>0.132190</td>\n",
       "      <td>0.000000</td>\n",
       "      <td>0.0</td>\n",
       "      <td>0.000000</td>\n",
       "      <td>0.132105</td>\n",
       "      <td>0.252221</td>\n",
       "      <td>0.0</td>\n",
       "      <td>0.28648</td>\n",
       "      <td>0.270283</td>\n",
       "    </tr>\n",
       "    <tr>\n",
       "      <th>4</th>\n",
       "      <td>0.000000</td>\n",
       "      <td>0.000000</td>\n",
       "      <td>0.000000</td>\n",
       "      <td>0.411807</td>\n",
       "      <td>0.0</td>\n",
       "      <td>0.266541</td>\n",
       "      <td>0.000000</td>\n",
       "      <td>0.000000</td>\n",
       "      <td>0.143793</td>\n",
       "      <td>0.000000</td>\n",
       "      <td>0.0</td>\n",
       "      <td>0.694459</td>\n",
       "      <td>0.143700</td>\n",
       "      <td>0.274358</td>\n",
       "      <td>0.0</td>\n",
       "      <td>0.00000</td>\n",
       "      <td>0.000000</td>\n",
       "    </tr>\n",
       "  </tbody>\n",
       "</table>\n",
       "</div>"
      ],
      "text/plain": [
       "         00   article       com       edu  good      host      know      like  \\\n",
       "0  0.719664  0.000000  0.000000  0.191683   0.0  0.124066  0.000000  0.153294   \n",
       "1  0.000000  0.000000  0.000000  0.219265   0.0  0.000000  0.353598  0.350704   \n",
       "2  0.000000  0.000000  0.000000  0.853563   0.0  0.000000  0.000000  0.000000   \n",
       "3  0.000000  0.267175  0.255208  0.567867   0.0  0.245034  0.000000  0.302760   \n",
       "4  0.000000  0.000000  0.000000  0.411807   0.0  0.266541  0.000000  0.000000   \n",
       "\n",
       "       line       new  one      sale   subject  university  use    would  \\\n",
       "0  0.066931  0.520927  0.0  0.161624  0.066888    0.255410  0.0  0.00000   \n",
       "1  0.153124  0.000000  0.0  0.739523  0.153025    0.292162  0.0  0.00000   \n",
       "2  0.298044  0.000000  0.0  0.000000  0.297852    0.000000  0.0  0.00000   \n",
       "3  0.132190  0.000000  0.0  0.000000  0.132105    0.252221  0.0  0.28648   \n",
       "4  0.143793  0.000000  0.0  0.694459  0.143700    0.274358  0.0  0.00000   \n",
       "\n",
       "     writes  \n",
       "0  0.000000  \n",
       "1  0.000000  \n",
       "2  0.000000  \n",
       "3  0.270283  \n",
       "4  0.000000  "
      ]
     },
     "execution_count": 21,
     "metadata": {},
     "output_type": "execute_result"
    }
   ],
   "source": [
    "tfidf_df_without_correlated_word = tfidf_df.drop(['nntp', 'posting', 'organization'], axis = 1)\n",
    "tfidf_df_without_correlated_word.head()"
   ]
  },
  {
   "cell_type": "markdown",
   "metadata": {},
   "source": [
    "<h2>Exercise 8: Dimensionality Reduction (PCA)</h2>\n",
    "<br>\n",
    "In this exercise, we will reduce the dimensionality of a tf-idf matrix representation of <code>fetch_20newsgroups</code> text dataset to two"
   ]
  },
  {
   "cell_type": "code",
   "execution_count": 28,
   "metadata": {},
   "outputs": [],
   "source": [
    "from sklearn.datasets import fetch_20newsgroups\n",
    "import matplotlib as mpl\n",
    "import pandas as pd\n",
    "import numpy as np\n",
    "import matplotlib.pyplot as plt\n",
    "%matplotlib inline\n",
    "import re\n",
    "import string\n",
    "from nltk import word_tokenize\n",
    "from nltk.corpus import stopwords\n",
    "from nltk.stem import WordNetLemmatizer\n",
    "from sklearn.feature_extraction.text import TfidfVectorizer\n",
    "from sklearn.decomposition import PCA\n",
    "\n",
    "from collections import Counter\n",
    "from pylab import *\n",
    "import nltk\n",
    "import warnings\n",
    "warnings.filterwarnings('ignore')"
   ]
  },
  {
   "cell_type": "markdown",
   "metadata": {},
   "source": [
    "We will be using stop words from the English language only. <code>WordNet</code> states the lemmatizer we will be using."
   ]
  },
  {
   "cell_type": "code",
   "execution_count": 23,
   "metadata": {},
   "outputs": [],
   "source": [
    "stop_words = stopwords.words('english')\n",
    "stop_words = stop_words + list(string.printable)\n",
    "lemmatizer = WordNetLemmatizer()"
   ]
  },
  {
   "cell_type": "markdown",
   "metadata": {},
   "source": [
    "To specify the categories of news articles we want to fetch by,"
   ]
  },
  {
   "cell_type": "code",
   "execution_count": 24,
   "metadata": {},
   "outputs": [],
   "source": [
    "categories= ['misc.forsale', 'sci.electronics', 'talk.religion.misc']"
   ]
  },
  {
   "cell_type": "markdown",
   "metadata": {},
   "source": [
    "To fetch the dataset, corresponding to the categories mentioned earlier."
   ]
  },
  {
   "cell_type": "code",
   "execution_count": 25,
   "metadata": {},
   "outputs": [
    {
     "data": {
      "text/html": [
       "<div>\n",
       "<style scoped>\n",
       "    .dataframe tbody tr th:only-of-type {\n",
       "        vertical-align: middle;\n",
       "    }\n",
       "\n",
       "    .dataframe tbody tr th {\n",
       "        vertical-align: top;\n",
       "    }\n",
       "\n",
       "    .dataframe thead th {\n",
       "        text-align: right;\n",
       "    }\n",
       "</style>\n",
       "<table border=\"1\" class=\"dataframe\">\n",
       "  <thead>\n",
       "    <tr style=\"text-align: right;\">\n",
       "      <th></th>\n",
       "      <th>text</th>\n",
       "      <th>category</th>\n",
       "    </tr>\n",
       "  </thead>\n",
       "  <tbody>\n",
       "    <tr>\n",
       "      <th>0</th>\n",
       "      <td>From: Steve@Busop.cit.wayne.edu (Steve Teolis)...</td>\n",
       "      <td>0</td>\n",
       "    </tr>\n",
       "    <tr>\n",
       "      <th>1</th>\n",
       "      <td>From: jks2x@holmes.acc.Virginia.EDU (Jason K. ...</td>\n",
       "      <td>0</td>\n",
       "    </tr>\n",
       "    <tr>\n",
       "      <th>2</th>\n",
       "      <td>From: wayne@uva386.schools.virginia.edu (Tony ...</td>\n",
       "      <td>1</td>\n",
       "    </tr>\n",
       "    <tr>\n",
       "      <th>3</th>\n",
       "      <td>From: lihan@ccwf.cc.utexas.edu (Bruce G. Bostw...</td>\n",
       "      <td>1</td>\n",
       "    </tr>\n",
       "    <tr>\n",
       "      <th>4</th>\n",
       "      <td>From: myoakam@cis.ohio-state.edu (micah r yoak...</td>\n",
       "      <td>0</td>\n",
       "    </tr>\n",
       "  </tbody>\n",
       "</table>\n",
       "</div>"
      ],
      "text/plain": [
       "                                                text  category\n",
       "0  From: Steve@Busop.cit.wayne.edu (Steve Teolis)...         0\n",
       "1  From: jks2x@holmes.acc.Virginia.EDU (Jason K. ...         0\n",
       "2  From: wayne@uva386.schools.virginia.edu (Tony ...         1\n",
       "3  From: lihan@ccwf.cc.utexas.edu (Bruce G. Bostw...         1\n",
       "4  From: myoakam@cis.ohio-state.edu (micah r yoak...         0"
      ]
     },
     "execution_count": 25,
     "metadata": {},
     "output_type": "execute_result"
    }
   ],
   "source": [
    "news_data = fetch_20newsgroups(subset='train', categories=categories, shuffle=True, random_state=42, download_if_missing=True)\n",
    "news_data_df = pd.DataFrame({'text' : news_data['data'], 'category': news_data.target})\n",
    "news_data_df.head()"
   ]
  },
  {
   "cell_type": "markdown",
   "metadata": {},
   "source": [
    "Now, make use of the <code>lambda</code> function to extract tokens from each 'text' of the <code>news_data_df</code> <code>DataFrame</code>. Check whether any of these tokens are stop words, lemmatize them, and concatenate them side by side. We'll use the join function to concatenate a list of words into a single sentence. We'll use the regular expression (<code>re</code>) to replace anything other than letters, digits, and white spaces with blank space. "
   ]
  },
  {
   "cell_type": "code",
   "execution_count": 26,
   "metadata": {},
   "outputs": [],
   "source": [
    "news_data_df['cleaned_text'] = news_data_df['text'].apply(\\\n",
    "lambda x : ' '.join([lemmatizer.lemmatize(word.lower()) \\\n",
    "                     for word in word_tokenize(re.sub(r'([^\\s\\w]|_)+', ' ', str(x))) if word.lower() not in stop_words]))"
   ]
  },
  {
   "cell_type": "markdown",
   "metadata": {},
   "source": [
    "The following lines of code are used to create a tf-idf matrix and transform it into a DataFrame"
   ]
  },
  {
   "cell_type": "code",
   "execution_count": 27,
   "metadata": {},
   "outputs": [
    {
     "data": {
      "text/html": [
       "<div>\n",
       "<style scoped>\n",
       "    .dataframe tbody tr th:only-of-type {\n",
       "        vertical-align: middle;\n",
       "    }\n",
       "\n",
       "    .dataframe tbody tr th {\n",
       "        vertical-align: top;\n",
       "    }\n",
       "\n",
       "    .dataframe thead th {\n",
       "        text-align: right;\n",
       "    }\n",
       "</style>\n",
       "<table border=\"1\" class=\"dataframe\">\n",
       "  <thead>\n",
       "    <tr style=\"text-align: right;\">\n",
       "      <th></th>\n",
       "      <th>00</th>\n",
       "      <th>article</th>\n",
       "      <th>com</th>\n",
       "      <th>edu</th>\n",
       "      <th>good</th>\n",
       "      <th>host</th>\n",
       "      <th>know</th>\n",
       "      <th>like</th>\n",
       "      <th>line</th>\n",
       "      <th>new</th>\n",
       "      <th>nntp</th>\n",
       "      <th>one</th>\n",
       "      <th>organization</th>\n",
       "      <th>posting</th>\n",
       "      <th>sale</th>\n",
       "      <th>subject</th>\n",
       "      <th>university</th>\n",
       "      <th>use</th>\n",
       "      <th>would</th>\n",
       "      <th>writes</th>\n",
       "    </tr>\n",
       "  </thead>\n",
       "  <tbody>\n",
       "    <tr>\n",
       "      <th>0</th>\n",
       "      <td>0.719664</td>\n",
       "      <td>0.000000</td>\n",
       "      <td>0.000000</td>\n",
       "      <td>0.191683</td>\n",
       "      <td>0.0</td>\n",
       "      <td>0.124066</td>\n",
       "      <td>0.000000</td>\n",
       "      <td>0.153294</td>\n",
       "      <td>0.066931</td>\n",
       "      <td>0.520927</td>\n",
       "      <td>0.124370</td>\n",
       "      <td>0.0</td>\n",
       "      <td>0.068809</td>\n",
       "      <td>0.120711</td>\n",
       "      <td>0.161624</td>\n",
       "      <td>0.066888</td>\n",
       "      <td>0.255410</td>\n",
       "      <td>0.0</td>\n",
       "      <td>0.00000</td>\n",
       "      <td>0.000000</td>\n",
       "    </tr>\n",
       "    <tr>\n",
       "      <th>1</th>\n",
       "      <td>0.000000</td>\n",
       "      <td>0.000000</td>\n",
       "      <td>0.000000</td>\n",
       "      <td>0.219265</td>\n",
       "      <td>0.0</td>\n",
       "      <td>0.000000</td>\n",
       "      <td>0.353598</td>\n",
       "      <td>0.350704</td>\n",
       "      <td>0.153124</td>\n",
       "      <td>0.000000</td>\n",
       "      <td>0.000000</td>\n",
       "      <td>0.0</td>\n",
       "      <td>0.157421</td>\n",
       "      <td>0.000000</td>\n",
       "      <td>0.739523</td>\n",
       "      <td>0.153025</td>\n",
       "      <td>0.292162</td>\n",
       "      <td>0.0</td>\n",
       "      <td>0.00000</td>\n",
       "      <td>0.000000</td>\n",
       "    </tr>\n",
       "    <tr>\n",
       "      <th>2</th>\n",
       "      <td>0.000000</td>\n",
       "      <td>0.000000</td>\n",
       "      <td>0.000000</td>\n",
       "      <td>0.853563</td>\n",
       "      <td>0.0</td>\n",
       "      <td>0.000000</td>\n",
       "      <td>0.000000</td>\n",
       "      <td>0.000000</td>\n",
       "      <td>0.298044</td>\n",
       "      <td>0.000000</td>\n",
       "      <td>0.000000</td>\n",
       "      <td>0.0</td>\n",
       "      <td>0.306407</td>\n",
       "      <td>0.000000</td>\n",
       "      <td>0.000000</td>\n",
       "      <td>0.297852</td>\n",
       "      <td>0.000000</td>\n",
       "      <td>0.0</td>\n",
       "      <td>0.00000</td>\n",
       "      <td>0.000000</td>\n",
       "    </tr>\n",
       "    <tr>\n",
       "      <th>3</th>\n",
       "      <td>0.000000</td>\n",
       "      <td>0.267175</td>\n",
       "      <td>0.255208</td>\n",
       "      <td>0.567867</td>\n",
       "      <td>0.0</td>\n",
       "      <td>0.245034</td>\n",
       "      <td>0.000000</td>\n",
       "      <td>0.302760</td>\n",
       "      <td>0.132190</td>\n",
       "      <td>0.000000</td>\n",
       "      <td>0.245634</td>\n",
       "      <td>0.0</td>\n",
       "      <td>0.135900</td>\n",
       "      <td>0.238407</td>\n",
       "      <td>0.000000</td>\n",
       "      <td>0.132105</td>\n",
       "      <td>0.252221</td>\n",
       "      <td>0.0</td>\n",
       "      <td>0.28648</td>\n",
       "      <td>0.270283</td>\n",
       "    </tr>\n",
       "    <tr>\n",
       "      <th>4</th>\n",
       "      <td>0.000000</td>\n",
       "      <td>0.000000</td>\n",
       "      <td>0.000000</td>\n",
       "      <td>0.411807</td>\n",
       "      <td>0.0</td>\n",
       "      <td>0.266541</td>\n",
       "      <td>0.000000</td>\n",
       "      <td>0.000000</td>\n",
       "      <td>0.143793</td>\n",
       "      <td>0.000000</td>\n",
       "      <td>0.267194</td>\n",
       "      <td>0.0</td>\n",
       "      <td>0.147828</td>\n",
       "      <td>0.259333</td>\n",
       "      <td>0.694459</td>\n",
       "      <td>0.143700</td>\n",
       "      <td>0.274358</td>\n",
       "      <td>0.0</td>\n",
       "      <td>0.00000</td>\n",
       "      <td>0.000000</td>\n",
       "    </tr>\n",
       "  </tbody>\n",
       "</table>\n",
       "</div>"
      ],
      "text/plain": [
       "         00   article       com       edu  good      host      know      like  \\\n",
       "0  0.719664  0.000000  0.000000  0.191683   0.0  0.124066  0.000000  0.153294   \n",
       "1  0.000000  0.000000  0.000000  0.219265   0.0  0.000000  0.353598  0.350704   \n",
       "2  0.000000  0.000000  0.000000  0.853563   0.0  0.000000  0.000000  0.000000   \n",
       "3  0.000000  0.267175  0.255208  0.567867   0.0  0.245034  0.000000  0.302760   \n",
       "4  0.000000  0.000000  0.000000  0.411807   0.0  0.266541  0.000000  0.000000   \n",
       "\n",
       "       line       new      nntp  one  organization   posting      sale  \\\n",
       "0  0.066931  0.520927  0.124370  0.0      0.068809  0.120711  0.161624   \n",
       "1  0.153124  0.000000  0.000000  0.0      0.157421  0.000000  0.739523   \n",
       "2  0.298044  0.000000  0.000000  0.0      0.306407  0.000000  0.000000   \n",
       "3  0.132190  0.000000  0.245634  0.0      0.135900  0.238407  0.000000   \n",
       "4  0.143793  0.000000  0.267194  0.0      0.147828  0.259333  0.694459   \n",
       "\n",
       "    subject  university  use    would    writes  \n",
       "0  0.066888    0.255410  0.0  0.00000  0.000000  \n",
       "1  0.153025    0.292162  0.0  0.00000  0.000000  \n",
       "2  0.297852    0.000000  0.0  0.00000  0.000000  \n",
       "3  0.132105    0.252221  0.0  0.28648  0.270283  \n",
       "4  0.143700    0.274358  0.0  0.00000  0.000000  "
      ]
     },
     "execution_count": 27,
     "metadata": {},
     "output_type": "execute_result"
    }
   ],
   "source": [
    "tfidf_model = TfidfVectorizer(max_features=20)\n",
    "tfidf_df = pd.DataFrame(tfidf_model.fit_transform(news_data_df['cleaned_text']).todense())\n",
    "tfidf_df.columns = sorted(tfidf_model.vocabulary_)\n",
    "tfidf_df.head()"
   ]
  },
  {
   "cell_type": "markdown",
   "metadata": {},
   "source": [
    "In this step, we are using <code>PCA</code> from <code>sklearn</code> to extract two principal components from the earlier data"
   ]
  },
  {
   "cell_type": "code",
   "execution_count": 29,
   "metadata": {},
   "outputs": [
    {
     "data": {
      "text/plain": [
       "array([[-0.18040211,  0.31757955],\n",
       "       [-0.20033999,  0.37267925],\n",
       "       [-0.44477443, -0.02223902],\n",
       "       ...,\n",
       "       [-0.0197252 ,  0.33025765],\n",
       "       [-0.37961409, -0.17549989],\n",
       "       [-0.46928541, -0.02581301]])"
      ]
     },
     "execution_count": 29,
     "metadata": {},
     "output_type": "execute_result"
    }
   ],
   "source": [
    "pca = PCA(2)\n",
    "pca.fit(tfidf_df)\n",
    "reduced_tfidf = pca.transform(tfidf_df)\n",
    "reduced_tfidf"
   ]
  },
  {
   "cell_type": "markdown",
   "metadata": {},
   "source": [
    "Now, we'll create a <code>scatter</code> plot along these principal components and represent each category with a separate color"
   ]
  },
  {
   "cell_type": "code",
   "execution_count": 30,
   "metadata": {},
   "outputs": [
    {
     "data": {
      "image/png": "[encoded data removed]",
      "text/plain": [
       "<Figure size 432x288 with 1 Axes>"
      ]
     },
     "metadata": {
      "needs_background": "light"
     },
     "output_type": "display_data"
    }
   ],
   "source": [
    "plt.scatter(reduced_tfidf[:, 0], reduced_tfidf[:, 1], c=news_data_df['category'], cmap='viridis')\n",
    "plt.xlabel('dimension_1')\n",
    "plt.ylabel('dimension_2')\n",
    "plt.title('Representation of NEWS documents in 2D')\n",
    "plt.show()"
   ]
  },
  {
   "cell_type": "markdown",
   "metadata": {},
   "source": [
    "From the preceding figure, we can see that a scatter plot is created, where each category is represented by a different color."
   ]
  },
  {
   "cell_type": "markdown",
   "metadata": {},
   "source": [
    "<h2>Exercise 9: Calculate the RMSE and MAPE</h2>\n",
    "<br>\n",
    "In this exercise, we will calculate the RMSE and MAPE of a given dataset."
   ]
  },
  {
   "cell_type": "code",
   "execution_count": 33,
   "metadata": {},
   "outputs": [],
   "source": [
    "from sklearn.metrics import mean_squared_error\n",
    "from sklearn.metrics import mean_absolute_error\n",
    "from math import sqrt"
   ]
  },
  {
   "cell_type": "code",
   "execution_count": 32,
   "metadata": {},
   "outputs": [
    {
     "name": "stdout",
     "output_type": "stream",
     "text": [
      "Root Mean Squared Error (RMSE) is: 0.21019038988498018\n"
     ]
    }
   ],
   "source": [
    "y_actual = [0,1,2,1,0]\n",
    "y_predicted = [0.03,1.2,1.6,.9,0.1]\n",
    "rms = sqrt(mean_squared_error(y_actual, y_predicted))\n",
    "print('Root Mean Squared Error (RMSE) is:', rms)"
   ]
  },
  {
   "cell_type": "markdown",
   "metadata": {},
   "source": [
    "We will use <code>mean_absolute_error</code> from <code>sklearn</code> to calculate the MAPE"
   ]
  },
  {
   "cell_type": "code",
   "execution_count": 34,
   "metadata": {},
   "outputs": [
    {
     "name": "stdout",
     "output_type": "stream",
     "text": [
      "Mean Absolute Percentage Error (MAPE) is: 16.6 %\n"
     ]
    }
   ],
   "source": [
    "y_actual = [0,1,2,1,0]\n",
    "y_predicted = [0.03,1.2,1.6,.9,0.1]\n",
    "mape = mean_absolute_error(y_actual, y_predicted) * 100\n",
    "print('Mean Absolute Percentage Error (MAPE) is:', round(mape,2), '%')"
   ]
  },
  {
   "cell_type": "markdown",
   "metadata": {},
   "source": [
    "<h1>Activity 5: Developing End-to-End Text Classifiers</h1>\n",
    "<br>\n",
    "In this activity, we will build an end-to-end classifier that classifies comments on Wikipedia articles. The classifier will classify comments as toxic or not. Use the following machine learning algorithms to classify the Wikipedia comments (classes: toxic or not):\n",
    "<ul>\n",
    "    <li>Logistic Regression.</li>\n",
    "    <li>Random Forest.</li>\n",
    "    <li>GBM.</li>\n",
    "</ul>\n",
    "<br>\n",
    "Have in mind to resolve the exercise according this:\n",
    "<ul>\n",
    "    <li>Which tokens (i.e. words) seem to be important predictors while using Random Forest Classifier and GBM.</li>\n",
    "</ul>\n",
    "<br>\n",
    "<b><i>Data source</i></b>: The data has been adapted from <a href='https://www.kaggle.com/c/jigsaw-toxic-comment-classification-challenge/data'>Toxic Comment Classification Challenge</a> The dataset under CC0, with the underlying comment text being governed by Wikipedia's CC-SA-3.0.\n",
    "<br>\n",
    "<br>\n",
    "<b>Import the Necessary Packages</b>"
   ]
  },
  {
   "cell_type": "code",
   "execution_count": 53,
   "metadata": {},
   "outputs": [],
   "source": [
    "import pandas as pd\n",
    "import seaborn as sns\n",
    "import matplotlib.pyplot as plt\n",
    "%matplotlib inline\n",
    "\n",
    "import re\n",
    "import string\n",
    "\n",
    "from nltk import word_tokenize\n",
    "from nltk.corpus import stopwords\n",
    "from nltk.stem import WordNetLemmatizer\n",
    "\n",
    "from sklearn.feature_extraction.text import TfidfVectorizer\n",
    "from sklearn.metrics import accuracy_score, roc_curve, classification_report, confusion_matrix, precision_recall_curve, auc\n",
    "from sklearn.model_selection import train_test_split\n",
    "from sklearn.linear_model import LogisticRegression\n",
    "from sklearn.ensemble import RandomForestClassifier, GradientBoostingClassifier\n",
    "\n",
    "from pylab import *\n",
    "import nltk\n",
    "import warnings\n",
    "warnings.filterwarnings('ignore')"
   ]
  },
  {
   "cell_type": "markdown",
   "metadata": {},
   "source": [
    "Create <code>clf_model(...)</code> method, in this method we fit the data for training a model, the model also predicts the dependent variable and its probability, this method returns the model, the predicted variable and the predicted probabilities."
   ]
  },
  {
   "cell_type": "code",
   "execution_count": 43,
   "metadata": {},
   "outputs": [],
   "source": [
    "def clf_model(model_type, X_train, y_train, X_valid):\n",
    "    model = model_type.fit(X_train,y_train)\n",
    "    predicted_labels = model.predict(X_valid)\n",
    "    predicted_probab = model.predict_proba(X_valid)[:,1]\n",
    "    return [predicted_labels,predicted_probab, model]"
   ]
  },
  {
   "cell_type": "markdown",
   "metadata": {},
   "source": [
    "Create <code>model_evaluation(...)</code> method, in this method we evaluate the performance of the model such as confusion matrix, accuracy, precision, recall, F1 plot curve, and ROC curve."
   ]
  },
  {
   "cell_type": "code",
   "execution_count": 44,
   "metadata": {},
   "outputs": [],
   "source": [
    "def model_evaluation(actual_values, predicted_values, predicted_probabilities):\n",
    "    cfn_mat = confusion_matrix(actual_values,predicted_values)\n",
    "    print(\"confusion matrix: \\n\",cfn_mat)\n",
    "    print(\"\\naccuracy: \",accuracy_score(actual_values,predicted_values))\n",
    "    print(\"\\nclassification report: \\n\", classification_report(actual_values,predicted_values))\n",
    "    fpr,tpr,threshold=roc_curve(actual_values, predicted_probabilities)\n",
    "    print ('\\nArea under ROC curve for validation set:', auc(fpr,tpr))\n",
    "    fig, ax = plt.subplots(figsize=(6,6))\n",
    "    ax.plot(fpr,tpr,label='Validation set AUC')\n",
    "    plt.xlabel('False Positive Rate')\n",
    "    plt.ylabel('True Positive Rate')\n",
    "    ax.legend(loc='best')\n",
    "    plt.show()"
   ]
  },
  {
   "cell_type": "markdown",
   "metadata": {},
   "source": [
    "<b>Read the dataset from and clean it</b>"
   ]
  },
  {
   "cell_type": "code",
   "execution_count": 45,
   "metadata": {},
   "outputs": [
    {
     "data": {
      "text/html": [
       "<div>\n",
       "<style scoped>\n",
       "    .dataframe tbody tr th:only-of-type {\n",
       "        vertical-align: middle;\n",
       "    }\n",
       "\n",
       "    .dataframe tbody tr th {\n",
       "        vertical-align: top;\n",
       "    }\n",
       "\n",
       "    .dataframe thead th {\n",
       "        text-align: right;\n",
       "    }\n",
       "</style>\n",
       "<table border=\"1\" class=\"dataframe\">\n",
       "  <thead>\n",
       "    <tr style=\"text-align: right;\">\n",
       "      <th></th>\n",
       "      <th>comment_text</th>\n",
       "      <th>toxic</th>\n",
       "    </tr>\n",
       "  </thead>\n",
       "  <tbody>\n",
       "    <tr>\n",
       "      <th>0</th>\n",
       "      <td>Explanation\\nWhy the edits made under my usern...</td>\n",
       "      <td>0</td>\n",
       "    </tr>\n",
       "    <tr>\n",
       "      <th>1</th>\n",
       "      <td>D'aww! He matches this background colour I'm s...</td>\n",
       "      <td>0</td>\n",
       "    </tr>\n",
       "    <tr>\n",
       "      <th>2</th>\n",
       "      <td>Hey man, I'm really not trying to edit war. It...</td>\n",
       "      <td>0</td>\n",
       "    </tr>\n",
       "    <tr>\n",
       "      <th>3</th>\n",
       "      <td>\"\\nMore\\nI can't make any real suggestions on ...</td>\n",
       "      <td>0</td>\n",
       "    </tr>\n",
       "    <tr>\n",
       "      <th>4</th>\n",
       "      <td>You, sir, are my hero. Any chance you remember...</td>\n",
       "      <td>0</td>\n",
       "    </tr>\n",
       "  </tbody>\n",
       "</table>\n",
       "</div>"
      ],
      "text/plain": [
       "                                        comment_text  toxic\n",
       "0  Explanation\\nWhy the edits made under my usern...      0\n",
       "1  D'aww! He matches this background colour I'm s...      0\n",
       "2  Hey man, I'm really not trying to edit war. It...      0\n",
       "3  \"\\nMore\\nI can't make any real suggestions on ...      0\n",
       "4  You, sir, are my hero. Any chance you remember...      0"
      ]
     },
     "execution_count": 45,
     "metadata": {},
     "output_type": "execute_result"
    }
   ],
   "source": [
    "data = pd.read_csv('train_comment_small.csv')\n",
    "data.head()"
   ]
  },
  {
   "cell_type": "markdown",
   "metadata": {},
   "source": [
    "Check the distribution of the classes"
   ]
  },
  {
   "cell_type": "code",
   "execution_count": 46,
   "metadata": {},
   "outputs": [
    {
     "data": {
      "text/plain": [
       "0    144277\n",
       "1     15294\n",
       "Name: toxic, dtype: int64"
      ]
     },
     "execution_count": 46,
     "metadata": {},
     "output_type": "execute_result"
    }
   ],
   "source": [
    "data.toxic.value_counts()"
   ]
  },
  {
   "cell_type": "code",
   "execution_count": 47,
   "metadata": {},
   "outputs": [],
   "source": [
    "# Create the lemmatizer\n",
    "lemmatizer = WordNetLemmatizer()"
   ]
  },
  {
   "cell_type": "code",
   "execution_count": 48,
   "metadata": {},
   "outputs": [],
   "source": [
    "# Indicate the language to indentify the stop words\n",
    "stop_words = stopwords.words('english')"
   ]
  },
  {
   "cell_type": "code",
   "execution_count": 49,
   "metadata": {},
   "outputs": [],
   "source": [
    "# Adding individual printable characters to list of stop words so that they get renoved along with the stopwords\n",
    "stop_words = stop_words + list(string.printable)"
   ]
  },
  {
   "cell_type": "markdown",
   "metadata": {},
   "source": [
    "We start cleaning the dataset"
   ]
  },
  {
   "cell_type": "code",
   "execution_count": 50,
   "metadata": {},
   "outputs": [],
   "source": [
    "data['cleaned_comment_text'] = data['comment_text'].apply(\\\n",
    "lambda x : ' '.join([lemmatizer.lemmatize(word.lower()) \\\n",
    "                     for word in word_tokenize(re.sub(r'([^\\s\\w]|_)+', ' ', str(x))) if word.lower() not in stop_words]))"
   ]
  },
  {
   "cell_type": "markdown",
   "metadata": {},
   "source": [
    "<b>Create a TF-IDF matrix out of it</b>"
   ]
  },
  {
   "cell_type": "code",
   "execution_count": 51,
   "metadata": {},
   "outputs": [
    {
     "data": {
      "text/html": [
       "<div>\n",
       "<style scoped>\n",
       "    .dataframe tbody tr th:only-of-type {\n",
       "        vertical-align: middle;\n",
       "    }\n",
       "\n",
       "    .dataframe tbody tr th {\n",
       "        vertical-align: top;\n",
       "    }\n",
       "\n",
       "    .dataframe thead th {\n",
       "        text-align: right;\n",
       "    }\n",
       "</style>\n",
       "<table border=\"1\" class=\"dataframe\">\n",
       "  <thead>\n",
       "    <tr style=\"text-align: right;\">\n",
       "      <th></th>\n",
       "      <th>10</th>\n",
       "      <th>100</th>\n",
       "      <th>11</th>\n",
       "      <th>12</th>\n",
       "      <th>20</th>\n",
       "      <th>2005</th>\n",
       "      <th>2006</th>\n",
       "      <th>2007</th>\n",
       "      <th>2008</th>\n",
       "      <th>24</th>\n",
       "      <th>...</th>\n",
       "      <th>wp</th>\n",
       "      <th>write</th>\n",
       "      <th>writing</th>\n",
       "      <th>written</th>\n",
       "      <th>wrong</th>\n",
       "      <th>wrote</th>\n",
       "      <th>www</th>\n",
       "      <th>year</th>\n",
       "      <th>yes</th>\n",
       "      <th>yet</th>\n",
       "    </tr>\n",
       "  </thead>\n",
       "  <tbody>\n",
       "    <tr>\n",
       "      <th>0</th>\n",
       "      <td>0.0</td>\n",
       "      <td>0.0</td>\n",
       "      <td>0.000000</td>\n",
       "      <td>0.0</td>\n",
       "      <td>0.0</td>\n",
       "      <td>0.0</td>\n",
       "      <td>0.0</td>\n",
       "      <td>0.0</td>\n",
       "      <td>0.0</td>\n",
       "      <td>0.0</td>\n",
       "      <td>...</td>\n",
       "      <td>0.0</td>\n",
       "      <td>0.0</td>\n",
       "      <td>0.0</td>\n",
       "      <td>0.0</td>\n",
       "      <td>0.0</td>\n",
       "      <td>0.0</td>\n",
       "      <td>0.0</td>\n",
       "      <td>0.0</td>\n",
       "      <td>0.0</td>\n",
       "      <td>0.0</td>\n",
       "    </tr>\n",
       "    <tr>\n",
       "      <th>1</th>\n",
       "      <td>0.0</td>\n",
       "      <td>0.0</td>\n",
       "      <td>0.537393</td>\n",
       "      <td>0.0</td>\n",
       "      <td>0.0</td>\n",
       "      <td>0.0</td>\n",
       "      <td>0.0</td>\n",
       "      <td>0.0</td>\n",
       "      <td>0.0</td>\n",
       "      <td>0.0</td>\n",
       "      <td>...</td>\n",
       "      <td>0.0</td>\n",
       "      <td>0.0</td>\n",
       "      <td>0.0</td>\n",
       "      <td>0.0</td>\n",
       "      <td>0.0</td>\n",
       "      <td>0.0</td>\n",
       "      <td>0.0</td>\n",
       "      <td>0.0</td>\n",
       "      <td>0.0</td>\n",
       "      <td>0.0</td>\n",
       "    </tr>\n",
       "    <tr>\n",
       "      <th>2</th>\n",
       "      <td>0.0</td>\n",
       "      <td>0.0</td>\n",
       "      <td>0.000000</td>\n",
       "      <td>0.0</td>\n",
       "      <td>0.0</td>\n",
       "      <td>0.0</td>\n",
       "      <td>0.0</td>\n",
       "      <td>0.0</td>\n",
       "      <td>0.0</td>\n",
       "      <td>0.0</td>\n",
       "      <td>...</td>\n",
       "      <td>0.0</td>\n",
       "      <td>0.0</td>\n",
       "      <td>0.0</td>\n",
       "      <td>0.0</td>\n",
       "      <td>0.0</td>\n",
       "      <td>0.0</td>\n",
       "      <td>0.0</td>\n",
       "      <td>0.0</td>\n",
       "      <td>0.0</td>\n",
       "      <td>0.0</td>\n",
       "    </tr>\n",
       "    <tr>\n",
       "      <th>3</th>\n",
       "      <td>0.0</td>\n",
       "      <td>0.0</td>\n",
       "      <td>0.000000</td>\n",
       "      <td>0.0</td>\n",
       "      <td>0.0</td>\n",
       "      <td>0.0</td>\n",
       "      <td>0.0</td>\n",
       "      <td>0.0</td>\n",
       "      <td>0.0</td>\n",
       "      <td>0.0</td>\n",
       "      <td>...</td>\n",
       "      <td>0.0</td>\n",
       "      <td>0.0</td>\n",
       "      <td>0.0</td>\n",
       "      <td>0.0</td>\n",
       "      <td>0.0</td>\n",
       "      <td>0.0</td>\n",
       "      <td>0.0</td>\n",
       "      <td>0.0</td>\n",
       "      <td>0.0</td>\n",
       "      <td>0.0</td>\n",
       "    </tr>\n",
       "    <tr>\n",
       "      <th>4</th>\n",
       "      <td>0.0</td>\n",
       "      <td>0.0</td>\n",
       "      <td>0.000000</td>\n",
       "      <td>0.0</td>\n",
       "      <td>0.0</td>\n",
       "      <td>0.0</td>\n",
       "      <td>0.0</td>\n",
       "      <td>0.0</td>\n",
       "      <td>0.0</td>\n",
       "      <td>0.0</td>\n",
       "      <td>...</td>\n",
       "      <td>0.0</td>\n",
       "      <td>0.0</td>\n",
       "      <td>0.0</td>\n",
       "      <td>0.0</td>\n",
       "      <td>0.0</td>\n",
       "      <td>0.0</td>\n",
       "      <td>0.0</td>\n",
       "      <td>0.0</td>\n",
       "      <td>0.0</td>\n",
       "      <td>0.0</td>\n",
       "    </tr>\n",
       "  </tbody>\n",
       "</table>\n",
       "<p>5 rows × 500 columns</p>\n",
       "</div>"
      ],
      "text/plain": [
       "    10  100        11   12   20  2005  2006  2007  2008   24  ...   wp  write  \\\n",
       "0  0.0  0.0  0.000000  0.0  0.0   0.0   0.0   0.0   0.0  0.0  ...  0.0    0.0   \n",
       "1  0.0  0.0  0.537393  0.0  0.0   0.0   0.0   0.0   0.0  0.0  ...  0.0    0.0   \n",
       "2  0.0  0.0  0.000000  0.0  0.0   0.0   0.0   0.0   0.0  0.0  ...  0.0    0.0   \n",
       "3  0.0  0.0  0.000000  0.0  0.0   0.0   0.0   0.0   0.0  0.0  ...  0.0    0.0   \n",
       "4  0.0  0.0  0.000000  0.0  0.0   0.0   0.0   0.0   0.0  0.0  ...  0.0    0.0   \n",
       "\n",
       "   writing  written  wrong  wrote  www  year  yes  yet  \n",
       "0      0.0      0.0    0.0    0.0  0.0   0.0  0.0  0.0  \n",
       "1      0.0      0.0    0.0    0.0  0.0   0.0  0.0  0.0  \n",
       "2      0.0      0.0    0.0    0.0  0.0   0.0  0.0  0.0  \n",
       "3      0.0      0.0    0.0    0.0  0.0   0.0  0.0  0.0  \n",
       "4      0.0      0.0    0.0    0.0  0.0   0.0  0.0  0.0  \n",
       "\n",
       "[5 rows x 500 columns]"
      ]
     },
     "execution_count": 51,
     "metadata": {},
     "output_type": "execute_result"
    }
   ],
   "source": [
    "tfidf_model = TfidfVectorizer(max_features=500)\n",
    "tfidf_df = pd.DataFrame(tfidf_model.fit_transform(data['cleaned_comment_text']).todense())\n",
    "tfidf_df.columns = sorted(tfidf_model.vocabulary_)\n",
    "tfidf_df.head()"
   ]
  },
  {
   "cell_type": "markdown",
   "metadata": {},
   "source": [
    "<b>Divide the data into a training and validation set</b>"
   ]
  },
  {
   "cell_type": "code",
   "execution_count": 52,
   "metadata": {},
   "outputs": [],
   "source": [
    "X_train, X_valid, y_train, y_valid = train_test_split(tfidf_df, data.toxic, test_size=0.2, random_state=42, stratify=data.toxic)"
   ]
  },
  {
   "cell_type": "markdown",
   "metadata": {},
   "source": [
    "<b>Develop classifier models for logistic regression, random forest, and GBM</b>"
   ]
  },
  {
   "cell_type": "markdown",
   "metadata": {},
   "source": [
    "<b>Logistic Regression</b>"
   ]
  },
  {
   "cell_type": "code",
   "execution_count": 54,
   "metadata": {},
   "outputs": [
    {
     "name": "stdout",
     "output_type": "stream",
     "text": [
      "confusion matrix: \n",
      " [[28677   179]\n",
      " [ 1733  1326]]\n",
      "\n",
      "accuracy:  0.9400908663637788\n",
      "\n",
      "classification report: \n",
      "               precision    recall  f1-score   support\n",
      "\n",
      "           0       0.94      0.99      0.97     28856\n",
      "           1       0.88      0.43      0.58      3059\n",
      "\n",
      "    accuracy                           0.94     31915\n",
      "   macro avg       0.91      0.71      0.77     31915\n",
      "weighted avg       0.94      0.94      0.93     31915\n",
      "\n",
      "\n",
      "Area under ROC curve for validation set: 0.905196887739533\n"
     ]
    },
    {
     "data": {
      "image/png": "[encoded data removed]",
      "text/plain": [
       "<Figure size 432x432 with 1 Axes>"
      ]
     },
     "metadata": {
      "needs_background": "light"
     },
     "output_type": "display_data"
    }
   ],
   "source": [
    "logreg = LogisticRegression()\n",
    "results = clf_model(logreg, X_train, y_train, X_valid)\n",
    "model_evaluation(y_valid, results[0], results[1])"
   ]
  },
  {
   "cell_type": "markdown",
   "metadata": {},
   "source": [
    "<b>Random Forest Classifier</b>"
   ]
  },
  {
   "cell_type": "code",
   "execution_count": 55,
   "metadata": {},
   "outputs": [
    {
     "name": "stdout",
     "output_type": "stream",
     "text": [
      "confusion matrix: \n",
      " [[28856     0]\n",
      " [ 2990    69]]\n",
      "\n",
      "accuracy:  0.9063136456211812\n",
      "\n",
      "classification report: \n",
      "               precision    recall  f1-score   support\n",
      "\n",
      "           0       0.91      1.00      0.95     28856\n",
      "           1       1.00      0.02      0.04      3059\n",
      "\n",
      "    accuracy                           0.91     31915\n",
      "   macro avg       0.95      0.51      0.50     31915\n",
      "weighted avg       0.92      0.91      0.86     31915\n",
      "\n",
      "\n",
      "Area under ROC curve for validation set: 0.8531297215658813\n"
     ]
    },
    {
     "data": {
      "image/png": "[encoded data removed]",
      "text/plain": [
       "<Figure size 432x432 with 1 Axes>"
      ]
     },
     "metadata": {
      "needs_background": "light"
     },
     "output_type": "display_data"
    }
   ],
   "source": [
    "rfc = RandomForestClassifier(n_estimators=20,max_depth=4,max_features='sqrt',random_state=1)\n",
    "results = clf_model(rfc, X_train, y_train, X_valid)\n",
    "model_evaluation(y_valid, results[0], results[1])\n",
    "model_rfc = results[2]"
   ]
  },
  {
   "cell_type": "markdown",
   "metadata": {},
   "source": [
    "Which tokens (i.e. words) seem to be important predictors while using Random Forest Classifier"
   ]
  },
  {
   "cell_type": "code",
   "execution_count": 56,
   "metadata": {},
   "outputs": [
    {
     "data": {
      "text/html": [
       "<div>\n",
       "<style scoped>\n",
       "    .dataframe tbody tr th:only-of-type {\n",
       "        vertical-align: middle;\n",
       "    }\n",
       "\n",
       "    .dataframe tbody tr th {\n",
       "        vertical-align: top;\n",
       "    }\n",
       "\n",
       "    .dataframe thead th {\n",
       "        text-align: right;\n",
       "    }\n",
       "</style>\n",
       "<table border=\"1\" class=\"dataframe\">\n",
       "  <thead>\n",
       "    <tr style=\"text-align: right;\">\n",
       "      <th></th>\n",
       "      <th>word</th>\n",
       "      <th>importance</th>\n",
       "    </tr>\n",
       "  </thead>\n",
       "  <tbody>\n",
       "    <tr>\n",
       "      <th>455</th>\n",
       "      <td>unpleasant</td>\n",
       "      <td>0.190242</td>\n",
       "    </tr>\n",
       "    <tr>\n",
       "      <th>49</th>\n",
       "      <td>awful</td>\n",
       "      <td>0.179852</td>\n",
       "    </tr>\n",
       "    <tr>\n",
       "      <th>42</th>\n",
       "      <td>as</td>\n",
       "      <td>0.160197</td>\n",
       "    </tr>\n",
       "    <tr>\n",
       "      <th>280</th>\n",
       "      <td>nightmare</td>\n",
       "      <td>0.047444</td>\n",
       "    </tr>\n",
       "    <tr>\n",
       "      <th>413</th>\n",
       "      <td>stupid</td>\n",
       "      <td>0.047368</td>\n",
       "    </tr>\n",
       "    <tr>\n",
       "      <th>469</th>\n",
       "      <td>waste</td>\n",
       "      <td>0.046508</td>\n",
       "    </tr>\n",
       "    <tr>\n",
       "      <th>68</th>\n",
       "      <td>carefree</td>\n",
       "      <td>0.030301</td>\n",
       "    </tr>\n",
       "    <tr>\n",
       "      <th>117</th>\n",
       "      <td>die</td>\n",
       "      <td>0.028085</td>\n",
       "    </tr>\n",
       "    <tr>\n",
       "      <th>432</th>\n",
       "      <td>thanks</td>\n",
       "      <td>0.022291</td>\n",
       "    </tr>\n",
       "    <tr>\n",
       "      <th>177</th>\n",
       "      <td>go</td>\n",
       "      <td>0.021641</td>\n",
       "    </tr>\n",
       "    <tr>\n",
       "      <th>41</th>\n",
       "      <td>article</td>\n",
       "      <td>0.016431</td>\n",
       "    </tr>\n",
       "    <tr>\n",
       "      <th>240</th>\n",
       "      <td>little</td>\n",
       "      <td>0.015694</td>\n",
       "    </tr>\n",
       "    <tr>\n",
       "      <th>393</th>\n",
       "      <td>skinned</td>\n",
       "      <td>0.015438</td>\n",
       "    </tr>\n",
       "    <tr>\n",
       "      <th>195</th>\n",
       "      <td>hey</td>\n",
       "      <td>0.013572</td>\n",
       "    </tr>\n",
       "    <tr>\n",
       "      <th>256</th>\n",
       "      <td>may</td>\n",
       "      <td>0.013034</td>\n",
       "    </tr>\n",
       "    <tr>\n",
       "      <th>348</th>\n",
       "      <td>reference</td>\n",
       "      <td>0.012859</td>\n",
       "    </tr>\n",
       "    <tr>\n",
       "      <th>157</th>\n",
       "      <td>fat</td>\n",
       "      <td>0.010739</td>\n",
       "    </tr>\n",
       "    <tr>\n",
       "      <th>123</th>\n",
       "      <td>dont</td>\n",
       "      <td>0.009554</td>\n",
       "    </tr>\n",
       "    <tr>\n",
       "      <th>424</th>\n",
       "      <td>talk</td>\n",
       "      <td>0.008332</td>\n",
       "    </tr>\n",
       "    <tr>\n",
       "      <th>192</th>\n",
       "      <td>hate</td>\n",
       "      <td>0.007608</td>\n",
       "    </tr>\n",
       "  </tbody>\n",
       "</table>\n",
       "</div>"
      ],
      "text/plain": [
       "           word  importance\n",
       "455  unpleasant    0.190242\n",
       "49        awful    0.179852\n",
       "42           as    0.160197\n",
       "280   nightmare    0.047444\n",
       "413      stupid    0.047368\n",
       "469       waste    0.046508\n",
       "68     carefree    0.030301\n",
       "117         die    0.028085\n",
       "432      thanks    0.022291\n",
       "177          go    0.021641\n",
       "41      article    0.016431\n",
       "240      little    0.015694\n",
       "393     skinned    0.015438\n",
       "195         hey    0.013572\n",
       "256         may    0.013034\n",
       "348   reference    0.012859\n",
       "157         fat    0.010739\n",
       "123        dont    0.009554\n",
       "424        talk    0.008332\n",
       "192        hate    0.007608"
      ]
     },
     "execution_count": 56,
     "metadata": {},
     "output_type": "execute_result"
    }
   ],
   "source": [
    "word_importances = pd.DataFrame({'word':X_train.columns,'importance':model_rfc.feature_importances_})\n",
    "word_importances.sort_values('importance', ascending = False).head(20)"
   ]
  },
  {
   "cell_type": "markdown",
   "metadata": {},
   "source": [
    "<b>Gradient Boosting Classifier</b>"
   ]
  },
  {
   "cell_type": "code",
   "execution_count": 59,
   "metadata": {},
   "outputs": [
    {
     "name": "stdout",
     "output_type": "stream",
     "text": [
      "confusion matrix: \n",
      " [[28720   136]\n",
      " [ 1833  1226]]\n",
      "\n",
      "accuracy:  0.9383048723170923\n",
      "\n",
      "classification report: \n",
      "               precision    recall  f1-score   support\n",
      "\n",
      "           0       0.94      1.00      0.97     28856\n",
      "           1       0.90      0.40      0.55      3059\n",
      "\n",
      "    accuracy                           0.94     31915\n",
      "   macro avg       0.92      0.70      0.76     31915\n",
      "weighted avg       0.94      0.94      0.93     31915\n",
      "\n",
      "\n",
      "Area under ROC curve for validation set: 0.8613269841531662\n"
     ]
    },
    {
     "data": {
      "image/png": "[encoded data removed]",
      "text/plain": [
       "<Figure size 432x432 with 1 Axes>"
      ]
     },
     "metadata": {
      "needs_background": "light"
     },
     "output_type": "display_data"
    }
   ],
   "source": [
    "gbm_clf=GradientBoostingClassifier(loss='deviance', learning_rate=0.1, random_state=42)\n",
    "results = clf_model(gbm_clf, X_train, y_train, X_valid)\n",
    "model_evaluation(y_valid, results[0], results[1])\n",
    "model_gbm = results[2]"
   ]
  },
  {
   "cell_type": "markdown",
   "metadata": {},
   "source": [
    "Which tokens (i.e. words) seem to be important predictors while using Gradient Boosting Classifier"
   ]
  },
  {
   "cell_type": "code",
   "execution_count": 60,
   "metadata": {},
   "outputs": [
    {
     "data": {
      "text/html": [
       "<div>\n",
       "<style scoped>\n",
       "    .dataframe tbody tr th:only-of-type {\n",
       "        vertical-align: middle;\n",
       "    }\n",
       "\n",
       "    .dataframe tbody tr th {\n",
       "        vertical-align: top;\n",
       "    }\n",
       "\n",
       "    .dataframe thead th {\n",
       "        text-align: right;\n",
       "    }\n",
       "</style>\n",
       "<table border=\"1\" class=\"dataframe\">\n",
       "  <thead>\n",
       "    <tr style=\"text-align: right;\">\n",
       "      <th></th>\n",
       "      <th>word</th>\n",
       "      <th>importance</th>\n",
       "    </tr>\n",
       "  </thead>\n",
       "  <tbody>\n",
       "    <tr>\n",
       "      <th>455</th>\n",
       "      <td>unpleasant</td>\n",
       "      <td>0.333566</td>\n",
       "    </tr>\n",
       "    <tr>\n",
       "      <th>49</th>\n",
       "      <td>awful</td>\n",
       "      <td>0.145337</td>\n",
       "    </tr>\n",
       "    <tr>\n",
       "      <th>413</th>\n",
       "      <td>stupid</td>\n",
       "      <td>0.129991</td>\n",
       "    </tr>\n",
       "    <tr>\n",
       "      <th>469</th>\n",
       "      <td>waste</td>\n",
       "      <td>0.077134</td>\n",
       "    </tr>\n",
       "    <tr>\n",
       "      <th>42</th>\n",
       "      <td>as</td>\n",
       "      <td>0.065021</td>\n",
       "    </tr>\n",
       "    <tr>\n",
       "      <th>280</th>\n",
       "      <td>nightmare</td>\n",
       "      <td>0.041241</td>\n",
       "    </tr>\n",
       "    <tr>\n",
       "      <th>68</th>\n",
       "      <td>carefree</td>\n",
       "      <td>0.030011</td>\n",
       "    </tr>\n",
       "    <tr>\n",
       "      <th>41</th>\n",
       "      <td>article</td>\n",
       "      <td>0.017948</td>\n",
       "    </tr>\n",
       "    <tr>\n",
       "      <th>192</th>\n",
       "      <td>hate</td>\n",
       "      <td>0.015986</td>\n",
       "    </tr>\n",
       "    <tr>\n",
       "      <th>117</th>\n",
       "      <td>die</td>\n",
       "      <td>0.011348</td>\n",
       "    </tr>\n",
       "    <tr>\n",
       "      <th>410</th>\n",
       "      <td>stop</td>\n",
       "      <td>0.011142</td>\n",
       "    </tr>\n",
       "    <tr>\n",
       "      <th>177</th>\n",
       "      <td>go</td>\n",
       "      <td>0.010092</td>\n",
       "    </tr>\n",
       "    <tr>\n",
       "      <th>234</th>\n",
       "      <td>life</td>\n",
       "      <td>0.008392</td>\n",
       "    </tr>\n",
       "    <tr>\n",
       "      <th>173</th>\n",
       "      <td>get</td>\n",
       "      <td>0.008215</td>\n",
       "    </tr>\n",
       "    <tr>\n",
       "      <th>424</th>\n",
       "      <td>talk</td>\n",
       "      <td>0.008173</td>\n",
       "    </tr>\n",
       "    <tr>\n",
       "      <th>157</th>\n",
       "      <td>fat</td>\n",
       "      <td>0.007601</td>\n",
       "    </tr>\n",
       "    <tr>\n",
       "      <th>235</th>\n",
       "      <td>like</td>\n",
       "      <td>0.006875</td>\n",
       "    </tr>\n",
       "    <tr>\n",
       "      <th>393</th>\n",
       "      <td>skinned</td>\n",
       "      <td>0.006134</td>\n",
       "    </tr>\n",
       "    <tr>\n",
       "      <th>240</th>\n",
       "      <td>little</td>\n",
       "      <td>0.005486</td>\n",
       "    </tr>\n",
       "    <tr>\n",
       "      <th>440</th>\n",
       "      <td>time</td>\n",
       "      <td>0.005451</td>\n",
       "    </tr>\n",
       "  </tbody>\n",
       "</table>\n",
       "</div>"
      ],
      "text/plain": [
       "           word  importance\n",
       "455  unpleasant    0.333566\n",
       "49        awful    0.145337\n",
       "413      stupid    0.129991\n",
       "469       waste    0.077134\n",
       "42           as    0.065021\n",
       "280   nightmare    0.041241\n",
       "68     carefree    0.030011\n",
       "41      article    0.017948\n",
       "192        hate    0.015986\n",
       "117         die    0.011348\n",
       "410        stop    0.011142\n",
       "177          go    0.010092\n",
       "234        life    0.008392\n",
       "173         get    0.008215\n",
       "424        talk    0.008173\n",
       "157         fat    0.007601\n",
       "235        like    0.006875\n",
       "393     skinned    0.006134\n",
       "240      little    0.005486\n",
       "440        time    0.005451"
      ]
     },
     "execution_count": 60,
     "metadata": {},
     "output_type": "execute_result"
    }
   ],
   "source": [
    "word_importances = pd.DataFrame({'word':X_train.columns,'importance':model_gbm.feature_importances_})\n",
    "word_importances.sort_values('importance', ascending = False).head(20)"
   ]
  },
  {
   "cell_type": "markdown",
   "metadata": {},
   "source": [
    "We have learned how to build end-to-end classifiers. Developing an end-to-end classifier was done in phases. Firstly, the text corpus was cleaned and tokenized, features were extracted using TF-IDF, then the dataset was divided into training and validation sets. Several machine learning algorithms, such as logistic regression, random forest, and GBM were used to develop classification models. Finally, their performances were measured using parameters such as confusion matrix, accuracy, precision, recall, F1 plot curve, and ROC curve. In the next section, you will learn how to build pipelines for NLP projects."
   ]
  },
  {
   "cell_type": "markdown",
   "metadata": {},
   "source": [
    "<h2>Exercise 10: Building Pipelines for NLP Projects</h2>\n",
    "<br>\n",
    "In this exercise, we will develop a pipeline that will allow us to create a TF-IDF matrix representation of  <code>fetch_20newsgroups</code> from <code>sklearn</code> text dataset.\n",
    "<br>\n",
    "<br>\n",
    "Import the Necessary Packages"
   ]
  },
  {
   "cell_type": "code",
   "execution_count": 64,
   "metadata": {},
   "outputs": [],
   "source": [
    "from sklearn.pipeline import Pipeline\n",
    "from sklearn.feature_extraction.text import TfidfTransformer\n",
    "from sklearn import tree\n",
    "from sklearn.datasets import fetch_20newsgroups\n",
    "from sklearn.feature_extraction.text import CountVectorizer\n",
    "import pandas as pd"
   ]
  },
  {
   "cell_type": "markdown",
   "metadata": {},
   "source": [
    "Specify categories of news articles we want to fetch by"
   ]
  },
  {
   "cell_type": "code",
   "execution_count": 65,
   "metadata": {},
   "outputs": [],
   "source": [
    "categories = ['misc.forsale', 'sci.electronics', 'talk.religion.misc']"
   ]
  },
  {
   "cell_type": "markdown",
   "metadata": {},
   "source": [
    "Fetch 20newsgroups dataset, corresponding to the categories mentioned earlier."
   ]
  },
  {
   "cell_type": "code",
   "execution_count": 66,
   "metadata": {},
   "outputs": [],
   "source": [
    "news_data = fetch_20newsgroups(subset='train', categories=categories, shuffle=True, random_state=42, download_if_missing=True)"
   ]
  },
  {
   "cell_type": "markdown",
   "metadata": {},
   "source": [
    "Here, we'll define a pipeline consisting of two stages: <code>CountVectorizer</code> and <code>TfidfTransformer</code>"
   ]
  },
  {
   "cell_type": "code",
   "execution_count": 67,
   "metadata": {},
   "outputs": [
    {
     "data": {
      "text/html": [
       "<div>\n",
       "<style scoped>\n",
       "    .dataframe tbody tr th:only-of-type {\n",
       "        vertical-align: middle;\n",
       "    }\n",
       "\n",
       "    .dataframe tbody tr th {\n",
       "        vertical-align: top;\n",
       "    }\n",
       "\n",
       "    .dataframe thead th {\n",
       "        text-align: right;\n",
       "    }\n",
       "</style>\n",
       "<table border=\"1\" class=\"dataframe\">\n",
       "  <thead>\n",
       "    <tr style=\"text-align: right;\">\n",
       "      <th></th>\n",
       "      <th>0</th>\n",
       "      <th>1</th>\n",
       "      <th>2</th>\n",
       "      <th>3</th>\n",
       "      <th>4</th>\n",
       "      <th>5</th>\n",
       "      <th>6</th>\n",
       "      <th>7</th>\n",
       "      <th>8</th>\n",
       "      <th>9</th>\n",
       "      <th>...</th>\n",
       "      <th>26016</th>\n",
       "      <th>26017</th>\n",
       "      <th>26018</th>\n",
       "      <th>26019</th>\n",
       "      <th>26020</th>\n",
       "      <th>26021</th>\n",
       "      <th>26022</th>\n",
       "      <th>26023</th>\n",
       "      <th>26024</th>\n",
       "      <th>26025</th>\n",
       "    </tr>\n",
       "  </thead>\n",
       "  <tbody>\n",
       "    <tr>\n",
       "      <th>0</th>\n",
       "      <td>0.165523</td>\n",
       "      <td>0.000000</td>\n",
       "      <td>0.0</td>\n",
       "      <td>0.0</td>\n",
       "      <td>0.0</td>\n",
       "      <td>0.0</td>\n",
       "      <td>0.0</td>\n",
       "      <td>0.0</td>\n",
       "      <td>0.0</td>\n",
       "      <td>0.0</td>\n",
       "      <td>...</td>\n",
       "      <td>0.0</td>\n",
       "      <td>0.0</td>\n",
       "      <td>0.0</td>\n",
       "      <td>0.0</td>\n",
       "      <td>0.0</td>\n",
       "      <td>0.0</td>\n",
       "      <td>0.0</td>\n",
       "      <td>0.0</td>\n",
       "      <td>0.0</td>\n",
       "      <td>0.0</td>\n",
       "    </tr>\n",
       "    <tr>\n",
       "      <th>1</th>\n",
       "      <td>0.000000</td>\n",
       "      <td>0.000000</td>\n",
       "      <td>0.0</td>\n",
       "      <td>0.0</td>\n",
       "      <td>0.0</td>\n",
       "      <td>0.0</td>\n",
       "      <td>0.0</td>\n",
       "      <td>0.0</td>\n",
       "      <td>0.0</td>\n",
       "      <td>0.0</td>\n",
       "      <td>...</td>\n",
       "      <td>0.0</td>\n",
       "      <td>0.0</td>\n",
       "      <td>0.0</td>\n",
       "      <td>0.0</td>\n",
       "      <td>0.0</td>\n",
       "      <td>0.0</td>\n",
       "      <td>0.0</td>\n",
       "      <td>0.0</td>\n",
       "      <td>0.0</td>\n",
       "      <td>0.0</td>\n",
       "    </tr>\n",
       "    <tr>\n",
       "      <th>2</th>\n",
       "      <td>0.000000</td>\n",
       "      <td>0.000000</td>\n",
       "      <td>0.0</td>\n",
       "      <td>0.0</td>\n",
       "      <td>0.0</td>\n",
       "      <td>0.0</td>\n",
       "      <td>0.0</td>\n",
       "      <td>0.0</td>\n",
       "      <td>0.0</td>\n",
       "      <td>0.0</td>\n",
       "      <td>...</td>\n",
       "      <td>0.0</td>\n",
       "      <td>0.0</td>\n",
       "      <td>0.0</td>\n",
       "      <td>0.0</td>\n",
       "      <td>0.0</td>\n",
       "      <td>0.0</td>\n",
       "      <td>0.0</td>\n",
       "      <td>0.0</td>\n",
       "      <td>0.0</td>\n",
       "      <td>0.0</td>\n",
       "    </tr>\n",
       "    <tr>\n",
       "      <th>3</th>\n",
       "      <td>0.000000</td>\n",
       "      <td>0.000000</td>\n",
       "      <td>0.0</td>\n",
       "      <td>0.0</td>\n",
       "      <td>0.0</td>\n",
       "      <td>0.0</td>\n",
       "      <td>0.0</td>\n",
       "      <td>0.0</td>\n",
       "      <td>0.0</td>\n",
       "      <td>0.0</td>\n",
       "      <td>...</td>\n",
       "      <td>0.0</td>\n",
       "      <td>0.0</td>\n",
       "      <td>0.0</td>\n",
       "      <td>0.0</td>\n",
       "      <td>0.0</td>\n",
       "      <td>0.0</td>\n",
       "      <td>0.0</td>\n",
       "      <td>0.0</td>\n",
       "      <td>0.0</td>\n",
       "      <td>0.0</td>\n",
       "    </tr>\n",
       "    <tr>\n",
       "      <th>4</th>\n",
       "      <td>0.000000</td>\n",
       "      <td>0.081279</td>\n",
       "      <td>0.0</td>\n",
       "      <td>0.0</td>\n",
       "      <td>0.0</td>\n",
       "      <td>0.0</td>\n",
       "      <td>0.0</td>\n",
       "      <td>0.0</td>\n",
       "      <td>0.0</td>\n",
       "      <td>0.0</td>\n",
       "      <td>...</td>\n",
       "      <td>0.0</td>\n",
       "      <td>0.0</td>\n",
       "      <td>0.0</td>\n",
       "      <td>0.0</td>\n",
       "      <td>0.0</td>\n",
       "      <td>0.0</td>\n",
       "      <td>0.0</td>\n",
       "      <td>0.0</td>\n",
       "      <td>0.0</td>\n",
       "      <td>0.0</td>\n",
       "    </tr>\n",
       "  </tbody>\n",
       "</table>\n",
       "<p>5 rows × 26026 columns</p>\n",
       "</div>"
      ],
      "text/plain": [
       "      0         1      2      3      4      5      6      7      8      9      \\\n",
       "0  0.165523  0.000000    0.0    0.0    0.0    0.0    0.0    0.0    0.0    0.0   \n",
       "1  0.000000  0.000000    0.0    0.0    0.0    0.0    0.0    0.0    0.0    0.0   \n",
       "2  0.000000  0.000000    0.0    0.0    0.0    0.0    0.0    0.0    0.0    0.0   \n",
       "3  0.000000  0.000000    0.0    0.0    0.0    0.0    0.0    0.0    0.0    0.0   \n",
       "4  0.000000  0.081279    0.0    0.0    0.0    0.0    0.0    0.0    0.0    0.0   \n",
       "\n",
       "   ...  26016  26017  26018  26019  26020  26021  26022  26023  26024  26025  \n",
       "0  ...    0.0    0.0    0.0    0.0    0.0    0.0    0.0    0.0    0.0    0.0  \n",
       "1  ...    0.0    0.0    0.0    0.0    0.0    0.0    0.0    0.0    0.0    0.0  \n",
       "2  ...    0.0    0.0    0.0    0.0    0.0    0.0    0.0    0.0    0.0    0.0  \n",
       "3  ...    0.0    0.0    0.0    0.0    0.0    0.0    0.0    0.0    0.0    0.0  \n",
       "4  ...    0.0    0.0    0.0    0.0    0.0    0.0    0.0    0.0    0.0    0.0  \n",
       "\n",
       "[5 rows x 26026 columns]"
      ]
     },
     "execution_count": 67,
     "metadata": {},
     "output_type": "execute_result"
    }
   ],
   "source": [
    "text_classifier_pipeline = Pipeline([('vect', CountVectorizer()), ('tfidf', TfidfTransformer())])\n",
    "text_classifier_pipeline.fit(news_data.data, news_data.target)\n",
    "pd.DataFrame(text_classifier_pipeline.fit_transform(news_data.data, news_data.target).todense()).head()"
   ]
  },
  {
   "cell_type": "markdown",
   "metadata": {},
   "source": [
    "Here, we created a pipeline consisting of the count vectorizer and TF-IDF transformer. The outcome of this pipeline is the TF-IDF representation of the text data that has been passed to it as an argument.\n",
    "\n"
   ]
  },
  {
   "cell_type": "markdown",
   "metadata": {},
   "source": [
    "<h2>Exercise 11: Saving and Loading Models</h2>\n",
    "<br>\n",
    "In this exercise, first we will create a tf-idf representation of sentences. Then, we will save this model on disk.\n",
    "<br>\n",
    "<br>\n",
    "Import the Necessary Packages"
   ]
  },
  {
   "cell_type": "code",
   "execution_count": 68,
   "metadata": {},
   "outputs": [],
   "source": [
    "import pickle\n",
    "from joblib import dump, load\n",
    "from sklearn.feature_extraction.text import TfidfVectorizer"
   ]
  },
  {
   "cell_type": "markdown",
   "metadata": {},
   "source": [
    "Defining a corpus consisting of four sentences"
   ]
  },
  {
   "cell_type": "code",
   "execution_count": 69,
   "metadata": {},
   "outputs": [],
   "source": [
    "corpus = [\n",
    "    'Data Science is an overlap between Arts and Science',\n",
    "    'Generally, Arts graduates are right-brained and Science graduates are left-brained',\n",
    "    'Excelling in both Arts and Science at a time becomes difficult',\n",
    "    'Natural Language Processing is a part of Data Science'\n",
    "]"
   ]
  },
  {
   "cell_type": "markdown",
   "metadata": {},
   "source": [
    "Then, we'll fit a tf-idf model to it"
   ]
  },
  {
   "cell_type": "code",
   "execution_count": 70,
   "metadata": {},
   "outputs": [
    {
     "name": "stdout",
     "output_type": "stream",
     "text": [
      "[[0.40332811 0.25743911 0.         0.25743911 0.         0.\n",
      "  0.40332811 0.         0.         0.31798852 0.         0.\n",
      "  0.         0.         0.         0.31798852 0.         0.\n",
      "  0.         0.         0.40332811 0.         0.         0.\n",
      "  0.42094668 0.        ]\n",
      " [0.         0.159139   0.49864399 0.159139   0.         0.\n",
      "  0.         0.         0.49864399 0.         0.         0.\n",
      "  0.24932199 0.49864399 0.         0.         0.         0.24932199\n",
      "  0.         0.         0.         0.         0.         0.24932199\n",
      "  0.13010656 0.        ]\n",
      " [0.         0.22444946 0.         0.22444946 0.35164346 0.35164346\n",
      "  0.         0.35164346 0.         0.         0.35164346 0.35164346\n",
      "  0.         0.         0.35164346 0.         0.         0.\n",
      "  0.         0.         0.         0.         0.         0.\n",
      "  0.18350214 0.35164346]\n",
      " [0.         0.         0.         0.         0.         0.\n",
      "  0.         0.         0.         0.30887228 0.         0.\n",
      "  0.         0.         0.         0.30887228 0.39176533 0.\n",
      "  0.39176533 0.39176533 0.         0.39176533 0.39176533 0.\n",
      "  0.2044394  0.        ]]\n"
     ]
    }
   ],
   "source": [
    "tfidf_model = TfidfVectorizer()\n",
    "print(tfidf_model.fit_transform(corpus).todense())"
   ]
  },
  {
   "cell_type": "markdown",
   "metadata": {},
   "source": [
    "Save this tf-idf model on disk using <code>joblib</code>."
   ]
  },
  {
   "cell_type": "code",
   "execution_count": 71,
   "metadata": {},
   "outputs": [
    {
     "data": {
      "text/plain": [
       "['tfidf_model.joblib']"
      ]
     },
     "execution_count": 71,
     "metadata": {},
     "output_type": "execute_result"
    }
   ],
   "source": [
    "dump(tfidf_model, 'tfidf_model.joblib') "
   ]
  },
  {
   "cell_type": "markdown",
   "metadata": {},
   "source": [
    "Finally, we'll load this model from the disk to the memory and use it"
   ]
  },
  {
   "cell_type": "code",
   "execution_count": 72,
   "metadata": {},
   "outputs": [
    {
     "name": "stdout",
     "output_type": "stream",
     "text": [
      "[[0.40332811 0.25743911 0.         0.25743911 0.         0.\n",
      "  0.40332811 0.         0.         0.31798852 0.         0.\n",
      "  0.         0.         0.         0.31798852 0.         0.\n",
      "  0.         0.         0.40332811 0.         0.         0.\n",
      "  0.42094668 0.        ]\n",
      " [0.         0.159139   0.49864399 0.159139   0.         0.\n",
      "  0.         0.         0.49864399 0.         0.         0.\n",
      "  0.24932199 0.49864399 0.         0.         0.         0.24932199\n",
      "  0.         0.         0.         0.         0.         0.24932199\n",
      "  0.13010656 0.        ]\n",
      " [0.         0.22444946 0.         0.22444946 0.35164346 0.35164346\n",
      "  0.         0.35164346 0.         0.         0.35164346 0.35164346\n",
      "  0.         0.         0.35164346 0.         0.         0.\n",
      "  0.         0.         0.         0.         0.         0.\n",
      "  0.18350214 0.35164346]\n",
      " [0.         0.         0.         0.         0.         0.\n",
      "  0.         0.         0.         0.30887228 0.         0.\n",
      "  0.         0.         0.         0.30887228 0.39176533 0.\n",
      "  0.39176533 0.39176533 0.         0.39176533 0.39176533 0.\n",
      "  0.2044394  0.        ]]\n"
     ]
    }
   ],
   "source": [
    "tfidf_model_loaded = load('tfidf_model.joblib')\n",
    "print(tfidf_model_loaded.fit_transform(corpus).todense())"
   ]
  },
  {
   "cell_type": "markdown",
   "metadata": {},
   "source": [
    "Save this tf-idf model on disk using <code>pickle</code>"
   ]
  },
  {
   "cell_type": "code",
   "execution_count": 73,
   "metadata": {},
   "outputs": [],
   "source": [
    "pickle.dump(tfidf_model, open(\"tfidf_model.pickle.dat\", \"wb\"))"
   ]
  },
  {
   "cell_type": "markdown",
   "metadata": {},
   "source": [
    "Load this model from the disk to the memory and use it"
   ]
  },
  {
   "cell_type": "code",
   "execution_count": 74,
   "metadata": {},
   "outputs": [
    {
     "name": "stdout",
     "output_type": "stream",
     "text": [
      "[[0.40332811 0.25743911 0.         0.25743911 0.         0.\n",
      "  0.40332811 0.         0.         0.31798852 0.         0.\n",
      "  0.         0.         0.         0.31798852 0.         0.\n",
      "  0.         0.         0.40332811 0.         0.         0.\n",
      "  0.42094668 0.        ]\n",
      " [0.         0.159139   0.49864399 0.159139   0.         0.\n",
      "  0.         0.         0.49864399 0.         0.         0.\n",
      "  0.24932199 0.49864399 0.         0.         0.         0.24932199\n",
      "  0.         0.         0.         0.         0.         0.24932199\n",
      "  0.13010656 0.        ]\n",
      " [0.         0.22444946 0.         0.22444946 0.35164346 0.35164346\n",
      "  0.         0.35164346 0.         0.         0.35164346 0.35164346\n",
      "  0.         0.         0.35164346 0.         0.         0.\n",
      "  0.         0.         0.         0.         0.         0.\n",
      "  0.18350214 0.35164346]\n",
      " [0.         0.         0.         0.         0.         0.\n",
      "  0.         0.         0.         0.30887228 0.         0.\n",
      "  0.         0.         0.         0.30887228 0.39176533 0.\n",
      "  0.39176533 0.39176533 0.         0.39176533 0.39176533 0.\n",
      "  0.2044394  0.        ]]\n"
     ]
    }
   ],
   "source": [
    "loaded_model = pickle.load(open(\"tfidf_model.pickle.dat\", \"rb\"))\n",
    "print(loaded_model.fit_transform(corpus).todense())"
   ]
  }
 ],
 "metadata": {
  "kernelspec": {
   "display_name": "Python 3",
   "language": "python",
   "name": "python3"
  },
  "language_info": {
   "codemirror_mode": {
    "name": "ipython",
    "version": 3
   },
   "file_extension": ".py",
   "mimetype": "text/x-python",
   "name": "python",
   "nbconvert_exporter": "python",
   "pygments_lexer": "ipython3",
   "version": "3.6.7"
  }
 },
 "nbformat": 4,
 "nbformat_minor": 2
}
